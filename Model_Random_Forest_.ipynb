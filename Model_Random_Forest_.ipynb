{
 "cells": [
  {
   "cell_type": "code",
   "execution_count": 2,
   "id": "89291ccc",
   "metadata": {},
   "outputs": [],
   "source": [
    "# Import depedencies\n",
    "import pandas as pd\n",
    "import numpy as np"
   ]
  },
  {
   "cell_type": "code",
   "execution_count": 3,
   "id": "68e500e7",
   "metadata": {},
   "outputs": [],
   "source": [
    "# Read the CSV data and create a new dataframe\n",
    "\n",
    "df = pd.read_csv(\"match_team_data.csv\")"
   ]
  },
  {
   "cell_type": "code",
   "execution_count": 4,
   "id": "ddc5b203",
   "metadata": {},
   "outputs": [],
   "source": [
    "# Create a column to account for Wins, Losses, and Ties\n",
    "# Win = 1 , Loss = 0, Tie = -1\n",
    "\n",
    "df[\"home_win\"] = np.where(df[\"home_score\"] > df[\"away_score\"], 1, np.where(df[\"home_score\"] == df[\"away_score\"],0,-1))"
   ]
  },
  {
   "cell_type": "code",
   "execution_count": 5,
   "id": "0decb2f4",
   "metadata": {
    "scrolled": true
   },
   "outputs": [
    {
     "ename": "NameError",
     "evalue": "name 'df2' is not defined",
     "output_type": "error",
     "traceback": [
      "\u001b[1;31m---------------------------------------------------------------------------\u001b[0m",
      "\u001b[1;31mNameError\u001b[0m                                 Traceback (most recent call last)",
      "Input \u001b[1;32mIn [5]\u001b[0m, in \u001b[0;36m<cell line: 2>\u001b[1;34m()\u001b[0m\n\u001b[0;32m      1\u001b[0m \u001b[38;5;66;03m# Check for NaNs\u001b[39;00m\n\u001b[1;32m----> 2\u001b[0m \u001b[43mdf2\u001b[49m\u001b[38;5;241m.\u001b[39misna()\u001b[38;5;241m.\u001b[39mmean()\u001b[38;5;241m.\u001b[39msort_values(ascending\u001b[38;5;241m=\u001b[39m\u001b[38;5;28;01mFalse\u001b[39;00m)\u001b[38;5;241m.\u001b[39mhead(\u001b[38;5;241m10\u001b[39m)\n",
      "\u001b[1;31mNameError\u001b[0m: name 'df2' is not defined"
     ]
    }
   ],
   "source": [
    "# Check for NaNs\n",
    "df2.isna().mean().sort_values(ascending=False).head(10)"
   ]
  },
  {
   "cell_type": "code",
   "execution_count": 67,
   "id": "d118000a",
   "metadata": {
    "scrolled": true
   },
   "outputs": [
    {
     "data": {
      "text/plain": [
       "0       False\n",
       "1       False\n",
       "2       False\n",
       "3       False\n",
       "4       False\n",
       "        ...  \n",
       "2957     True\n",
       "2958     True\n",
       "2959     True\n",
       "2960     True\n",
       "2961     True\n",
       "Name: winning_name, Length: 2962, dtype: bool"
      ]
     },
     "execution_count": 67,
     "metadata": {},
     "output_type": "execute_result"
    }
   ],
   "source": [
    "df2[\"winning_name\"].isna()"
   ]
  },
  {
   "cell_type": "code",
   "execution_count": 68,
   "id": "90fa2e7b",
   "metadata": {
    "scrolled": true
   },
   "outputs": [],
   "source": [
    "# Remove NaNs\n",
    "df2 = df.drop(columns=[\"team_2_post_season_result\",\"team_1_post_season_result\"])"
   ]
  },
  {
   "cell_type": "code",
   "execution_count": 69,
   "id": "3f51c3af",
   "metadata": {},
   "outputs": [],
   "source": [
    "df3 = df2.dropna()"
   ]
  },
  {
   "cell_type": "code",
   "execution_count": 70,
   "id": "8cc64edc",
   "metadata": {
    "scrolled": true
   },
   "outputs": [
    {
     "data": {
      "text/html": [
       "<div>\n",
       "<style scoped>\n",
       "    .dataframe tbody tr th:only-of-type {\n",
       "        vertical-align: middle;\n",
       "    }\n",
       "\n",
       "    .dataframe tbody tr th {\n",
       "        vertical-align: top;\n",
       "    }\n",
       "\n",
       "    .dataframe thead th {\n",
       "        text-align: right;\n",
       "    }\n",
       "</style>\n",
       "<table border=\"1\" class=\"dataframe\">\n",
       "  <thead>\n",
       "    <tr style=\"text-align: right;\">\n",
       "      <th></th>\n",
       "      <th>boxscore</th>\n",
       "      <th>away_name</th>\n",
       "      <th>away_abbr</th>\n",
       "      <th>away_score</th>\n",
       "      <th>home_name</th>\n",
       "      <th>home_abbr</th>\n",
       "      <th>home_score</th>\n",
       "      <th>winning_name</th>\n",
       "      <th>winning_abbr</th>\n",
       "      <th>losing_name</th>\n",
       "      <th>...</th>\n",
       "      <th>team_2_rush_yards_per_attempt</th>\n",
       "      <th>team_2_simple_rating_system</th>\n",
       "      <th>team_2_strength_of_schedule</th>\n",
       "      <th>team_2_turnovers</th>\n",
       "      <th>team_2_win_percentage</th>\n",
       "      <th>team_2_wins</th>\n",
       "      <th>team_2_yards</th>\n",
       "      <th>team_2_yards_from_penalties</th>\n",
       "      <th>team_2_yards_per_play</th>\n",
       "      <th>home_win</th>\n",
       "    </tr>\n",
       "  </thead>\n",
       "  <tbody>\n",
       "    <tr>\n",
       "      <th>0</th>\n",
       "      <td>201209050nyg</td>\n",
       "      <td>Dallas Cowboys</td>\n",
       "      <td>dal</td>\n",
       "      <td>24.0</td>\n",
       "      <td>New York Giants</td>\n",
       "      <td>nyg</td>\n",
       "      <td>17.0</td>\n",
       "      <td>Dallas Cowboys</td>\n",
       "      <td>dal</td>\n",
       "      <td>New York Giants</td>\n",
       "      <td>...</td>\n",
       "      <td>4.7</td>\n",
       "      <td>-4.2</td>\n",
       "      <td>-2.2</td>\n",
       "      <td>2</td>\n",
       "      <td>0.667</td>\n",
       "      <td>2</td>\n",
       "      <td>972</td>\n",
       "      <td>188</td>\n",
       "      <td>5.3</td>\n",
       "      <td>-1</td>\n",
       "    </tr>\n",
       "    <tr>\n",
       "      <th>1</th>\n",
       "      <td>201209090chi</td>\n",
       "      <td>Indianapolis Colts</td>\n",
       "      <td>clt</td>\n",
       "      <td>21.0</td>\n",
       "      <td>Chicago Bears</td>\n",
       "      <td>chi</td>\n",
       "      <td>41.0</td>\n",
       "      <td>Chicago Bears</td>\n",
       "      <td>chi</td>\n",
       "      <td>Indianapolis Colts</td>\n",
       "      <td>...</td>\n",
       "      <td>4.0</td>\n",
       "      <td>-4.8</td>\n",
       "      <td>2.2</td>\n",
       "      <td>6</td>\n",
       "      <td>0.500</td>\n",
       "      <td>1</td>\n",
       "      <td>994</td>\n",
       "      <td>153</td>\n",
       "      <td>4.8</td>\n",
       "      <td>1</td>\n",
       "    </tr>\n",
       "    <tr>\n",
       "      <th>2</th>\n",
       "      <td>201209090cle</td>\n",
       "      <td>Philadelphia Eagles</td>\n",
       "      <td>phi</td>\n",
       "      <td>17.0</td>\n",
       "      <td>Cleveland Browns</td>\n",
       "      <td>cle</td>\n",
       "      <td>16.0</td>\n",
       "      <td>Philadelphia Eagles</td>\n",
       "      <td>phi</td>\n",
       "      <td>Cleveland Browns</td>\n",
       "      <td>...</td>\n",
       "      <td>4.4</td>\n",
       "      <td>38.9</td>\n",
       "      <td>26.9</td>\n",
       "      <td>1</td>\n",
       "      <td>1.000</td>\n",
       "      <td>3</td>\n",
       "      <td>1341</td>\n",
       "      <td>173</td>\n",
       "      <td>6.4</td>\n",
       "      <td>-1</td>\n",
       "    </tr>\n",
       "    <tr>\n",
       "      <th>3</th>\n",
       "      <td>201209090det</td>\n",
       "      <td>St. Louis Rams</td>\n",
       "      <td>ram</td>\n",
       "      <td>23.0</td>\n",
       "      <td>Detroit Lions</td>\n",
       "      <td>det</td>\n",
       "      <td>27.0</td>\n",
       "      <td>Detroit Lions</td>\n",
       "      <td>det</td>\n",
       "      <td>St. Louis Rams</td>\n",
       "      <td>...</td>\n",
       "      <td>3.4</td>\n",
       "      <td>-9.0</td>\n",
       "      <td>-6.0</td>\n",
       "      <td>7</td>\n",
       "      <td>0.667</td>\n",
       "      <td>2</td>\n",
       "      <td>919</td>\n",
       "      <td>126</td>\n",
       "      <td>5.3</td>\n",
       "      <td>1</td>\n",
       "    </tr>\n",
       "    <tr>\n",
       "      <th>4</th>\n",
       "      <td>201209090htx</td>\n",
       "      <td>Miami Dolphins</td>\n",
       "      <td>mia</td>\n",
       "      <td>10.0</td>\n",
       "      <td>Houston Texans</td>\n",
       "      <td>htx</td>\n",
       "      <td>30.0</td>\n",
       "      <td>Houston Texans</td>\n",
       "      <td>htx</td>\n",
       "      <td>Miami Dolphins</td>\n",
       "      <td>...</td>\n",
       "      <td>3.3</td>\n",
       "      <td>12.4</td>\n",
       "      <td>6.1</td>\n",
       "      <td>2</td>\n",
       "      <td>1.000</td>\n",
       "      <td>3</td>\n",
       "      <td>1066</td>\n",
       "      <td>91</td>\n",
       "      <td>6.4</td>\n",
       "      <td>1</td>\n",
       "    </tr>\n",
       "    <tr>\n",
       "      <th>...</th>\n",
       "      <td>...</td>\n",
       "      <td>...</td>\n",
       "      <td>...</td>\n",
       "      <td>...</td>\n",
       "      <td>...</td>\n",
       "      <td>...</td>\n",
       "      <td>...</td>\n",
       "      <td>...</td>\n",
       "      <td>...</td>\n",
       "      <td>...</td>\n",
       "      <td>...</td>\n",
       "      <td>...</td>\n",
       "      <td>...</td>\n",
       "      <td>...</td>\n",
       "      <td>...</td>\n",
       "      <td>...</td>\n",
       "      <td>...</td>\n",
       "      <td>...</td>\n",
       "      <td>...</td>\n",
       "      <td>...</td>\n",
       "      <td>...</td>\n",
       "    </tr>\n",
       "    <tr>\n",
       "      <th>2733</th>\n",
       "      <td>202209250crd</td>\n",
       "      <td>Los Angeles Rams</td>\n",
       "      <td>ram</td>\n",
       "      <td>20.0</td>\n",
       "      <td>Arizona Cardinals</td>\n",
       "      <td>crd</td>\n",
       "      <td>12.0</td>\n",
       "      <td>Los Angeles Rams</td>\n",
       "      <td>ram</td>\n",
       "      <td>Arizona Cardinals</td>\n",
       "      <td>...</td>\n",
       "      <td>3.4</td>\n",
       "      <td>-9.0</td>\n",
       "      <td>-6.0</td>\n",
       "      <td>7</td>\n",
       "      <td>0.667</td>\n",
       "      <td>2</td>\n",
       "      <td>919</td>\n",
       "      <td>126</td>\n",
       "      <td>5.3</td>\n",
       "      <td>-1</td>\n",
       "    </tr>\n",
       "    <tr>\n",
       "      <th>2734</th>\n",
       "      <td>202209250sea</td>\n",
       "      <td>Atlanta Falcons</td>\n",
       "      <td>atl</td>\n",
       "      <td>27.0</td>\n",
       "      <td>Seattle Seahawks</td>\n",
       "      <td>sea</td>\n",
       "      <td>23.0</td>\n",
       "      <td>Atlanta Falcons</td>\n",
       "      <td>atl</td>\n",
       "      <td>Seattle Seahawks</td>\n",
       "      <td>...</td>\n",
       "      <td>4.9</td>\n",
       "      <td>-11.3</td>\n",
       "      <td>-10.9</td>\n",
       "      <td>7</td>\n",
       "      <td>0.333</td>\n",
       "      <td>1</td>\n",
       "      <td>1063</td>\n",
       "      <td>99</td>\n",
       "      <td>5.9</td>\n",
       "      <td>-1</td>\n",
       "    </tr>\n",
       "    <tr>\n",
       "      <th>2735</th>\n",
       "      <td>202209250tam</td>\n",
       "      <td>Green Bay Packers</td>\n",
       "      <td>gnb</td>\n",
       "      <td>14.0</td>\n",
       "      <td>Tampa Bay Buccaneers</td>\n",
       "      <td>tam</td>\n",
       "      <td>12.0</td>\n",
       "      <td>Green Bay Packers</td>\n",
       "      <td>gnb</td>\n",
       "      <td>Tampa Bay Buccaneers</td>\n",
       "      <td>...</td>\n",
       "      <td>4.7</td>\n",
       "      <td>12.5</td>\n",
       "      <td>11.5</td>\n",
       "      <td>5</td>\n",
       "      <td>0.667</td>\n",
       "      <td>2</td>\n",
       "      <td>1067</td>\n",
       "      <td>100</td>\n",
       "      <td>5.7</td>\n",
       "      <td>-1</td>\n",
       "    </tr>\n",
       "    <tr>\n",
       "      <th>2736</th>\n",
       "      <td>202209250den</td>\n",
       "      <td>San Francisco 49ers</td>\n",
       "      <td>sfo</td>\n",
       "      <td>10.0</td>\n",
       "      <td>Denver Broncos</td>\n",
       "      <td>den</td>\n",
       "      <td>11.0</td>\n",
       "      <td>Denver Broncos</td>\n",
       "      <td>den</td>\n",
       "      <td>San Francisco 49ers</td>\n",
       "      <td>...</td>\n",
       "      <td>4.5</td>\n",
       "      <td>-4.8</td>\n",
       "      <td>-8.2</td>\n",
       "      <td>5</td>\n",
       "      <td>0.333</td>\n",
       "      <td>1</td>\n",
       "      <td>971</td>\n",
       "      <td>165</td>\n",
       "      <td>5.1</td>\n",
       "      <td>1</td>\n",
       "    </tr>\n",
       "    <tr>\n",
       "      <th>2737</th>\n",
       "      <td>202209260nyg</td>\n",
       "      <td>Dallas Cowboys</td>\n",
       "      <td>dal</td>\n",
       "      <td>23.0</td>\n",
       "      <td>New York Giants</td>\n",
       "      <td>nyg</td>\n",
       "      <td>16.0</td>\n",
       "      <td>Dallas Cowboys</td>\n",
       "      <td>dal</td>\n",
       "      <td>New York Giants</td>\n",
       "      <td>...</td>\n",
       "      <td>4.7</td>\n",
       "      <td>-4.2</td>\n",
       "      <td>-2.2</td>\n",
       "      <td>2</td>\n",
       "      <td>0.667</td>\n",
       "      <td>2</td>\n",
       "      <td>972</td>\n",
       "      <td>188</td>\n",
       "      <td>5.3</td>\n",
       "      <td>-1</td>\n",
       "    </tr>\n",
       "  </tbody>\n",
       "</table>\n",
       "<p>2727 rows × 93 columns</p>\n",
       "</div>"
      ],
      "text/plain": [
       "          boxscore            away_name away_abbr  away_score  \\\n",
       "0     201209050nyg       Dallas Cowboys       dal        24.0   \n",
       "1     201209090chi   Indianapolis Colts       clt        21.0   \n",
       "2     201209090cle  Philadelphia Eagles       phi        17.0   \n",
       "3     201209090det       St. Louis Rams       ram        23.0   \n",
       "4     201209090htx       Miami Dolphins       mia        10.0   \n",
       "...            ...                  ...       ...         ...   \n",
       "2733  202209250crd     Los Angeles Rams       ram        20.0   \n",
       "2734  202209250sea      Atlanta Falcons       atl        27.0   \n",
       "2735  202209250tam    Green Bay Packers       gnb        14.0   \n",
       "2736  202209250den  San Francisco 49ers       sfo        10.0   \n",
       "2737  202209260nyg       Dallas Cowboys       dal        23.0   \n",
       "\n",
       "                 home_name home_abbr  home_score         winning_name  \\\n",
       "0          New York Giants       nyg        17.0       Dallas Cowboys   \n",
       "1            Chicago Bears       chi        41.0        Chicago Bears   \n",
       "2         Cleveland Browns       cle        16.0  Philadelphia Eagles   \n",
       "3            Detroit Lions       det        27.0        Detroit Lions   \n",
       "4           Houston Texans       htx        30.0       Houston Texans   \n",
       "...                    ...       ...         ...                  ...   \n",
       "2733     Arizona Cardinals       crd        12.0     Los Angeles Rams   \n",
       "2734      Seattle Seahawks       sea        23.0      Atlanta Falcons   \n",
       "2735  Tampa Bay Buccaneers       tam        12.0    Green Bay Packers   \n",
       "2736        Denver Broncos       den        11.0       Denver Broncos   \n",
       "2737       New York Giants       nyg        16.0       Dallas Cowboys   \n",
       "\n",
       "     winning_abbr           losing_name  ... team_2_rush_yards_per_attempt  \\\n",
       "0             dal       New York Giants  ...                           4.7   \n",
       "1             chi    Indianapolis Colts  ...                           4.0   \n",
       "2             phi      Cleveland Browns  ...                           4.4   \n",
       "3             det        St. Louis Rams  ...                           3.4   \n",
       "4             htx        Miami Dolphins  ...                           3.3   \n",
       "...           ...                   ...  ...                           ...   \n",
       "2733          ram     Arizona Cardinals  ...                           3.4   \n",
       "2734          atl      Seattle Seahawks  ...                           4.9   \n",
       "2735          gnb  Tampa Bay Buccaneers  ...                           4.7   \n",
       "2736          den   San Francisco 49ers  ...                           4.5   \n",
       "2737          dal       New York Giants  ...                           4.7   \n",
       "\n",
       "      team_2_simple_rating_system  team_2_strength_of_schedule  \\\n",
       "0                            -4.2                         -2.2   \n",
       "1                            -4.8                          2.2   \n",
       "2                            38.9                         26.9   \n",
       "3                            -9.0                         -6.0   \n",
       "4                            12.4                          6.1   \n",
       "...                           ...                          ...   \n",
       "2733                         -9.0                         -6.0   \n",
       "2734                        -11.3                        -10.9   \n",
       "2735                         12.5                         11.5   \n",
       "2736                         -4.8                         -8.2   \n",
       "2737                         -4.2                         -2.2   \n",
       "\n",
       "     team_2_turnovers team_2_win_percentage  team_2_wins  team_2_yards  \\\n",
       "0                   2                 0.667            2           972   \n",
       "1                   6                 0.500            1           994   \n",
       "2                   1                 1.000            3          1341   \n",
       "3                   7                 0.667            2           919   \n",
       "4                   2                 1.000            3          1066   \n",
       "...               ...                   ...          ...           ...   \n",
       "2733                7                 0.667            2           919   \n",
       "2734                7                 0.333            1          1063   \n",
       "2735                5                 0.667            2          1067   \n",
       "2736                5                 0.333            1           971   \n",
       "2737                2                 0.667            2           972   \n",
       "\n",
       "      team_2_yards_from_penalties  team_2_yards_per_play  home_win  \n",
       "0                             188                    5.3        -1  \n",
       "1                             153                    4.8         1  \n",
       "2                             173                    6.4        -1  \n",
       "3                             126                    5.3         1  \n",
       "4                              91                    6.4         1  \n",
       "...                           ...                    ...       ...  \n",
       "2733                          126                    5.3        -1  \n",
       "2734                           99                    5.9        -1  \n",
       "2735                          100                    5.7        -1  \n",
       "2736                          165                    5.1         1  \n",
       "2737                          188                    5.3        -1  \n",
       "\n",
       "[2727 rows x 93 columns]"
      ]
     },
     "execution_count": 70,
     "metadata": {},
     "output_type": "execute_result"
    }
   ],
   "source": [
    "df3"
   ]
  },
  {
   "cell_type": "code",
   "execution_count": 71,
   "id": "7205dc1b",
   "metadata": {
    "scrolled": false
   },
   "outputs": [
    {
     "data": {
      "text/plain": [
       "team_1_points_contributed_by_offense    float64\n",
       "away_name                                object\n",
       "away_abbr                                object\n",
       "home_name                                object\n",
       "home_abbr                                object\n",
       "team_2_abbreviation                      object\n",
       "losing_name                              object\n",
       "winning_abbr                             object\n",
       "losing_abbr                              object\n",
       "teams                                    object\n",
       "team_1_abbreviation                      object\n",
       "team_2_name                              object\n",
       "team_1_name                              object\n",
       "winning_name                             object\n",
       "boxscore                                 object\n",
       "dtype: object"
      ]
     },
     "execution_count": 71,
     "metadata": {},
     "output_type": "execute_result"
    }
   ],
   "source": [
    "# Check for categorical data\n",
    "\n",
    "df3.dtypes.sort_values().tail(15)"
   ]
  },
  {
   "cell_type": "code",
   "execution_count": 72,
   "id": "c731216b",
   "metadata": {
    "scrolled": false
   },
   "outputs": [
    {
     "name": "stderr",
     "output_type": "stream",
     "text": [
      "C:\\Users\\dariu\\AppData\\Local\\Temp\\ipykernel_20400\\1997902423.py:3: SettingWithCopyWarning: \n",
      "A value is trying to be set on a copy of a slice from a DataFrame\n",
      "\n",
      "See the caveats in the documentation: https://pandas.pydata.org/pandas-docs/stable/user_guide/indexing.html#returning-a-view-versus-a-copy\n",
      "  df3.drop(columns=[\"away_name\",\"away_abbr\",\"home_name\",\"home_abbr\",\"team_2_abbreviation\",\"losing_name\",\"winning_abbr\",\"losing_abbr\",\"teams\",\"team_1_abbreviation\",\"team_2_name\",\"team_1_name\",\"winning_name\",\"boxscore\"], inplace=True)\n"
     ]
    }
   ],
   "source": [
    "# Remove categorical data\n",
    "\n",
    "df3.drop(columns=[\"away_name\",\"away_abbr\",\"home_name\",\"home_abbr\",\"team_2_abbreviation\",\"losing_name\",\"winning_abbr\",\"losing_abbr\",\"teams\",\"team_1_abbreviation\",\"team_2_name\",\"team_1_name\",\"winning_name\",\"boxscore\"], inplace=True)"
   ]
  },
  {
   "cell_type": "code",
   "execution_count": 73,
   "id": "027c5ad5",
   "metadata": {
    "scrolled": false
   },
   "outputs": [
    {
     "name": "stderr",
     "output_type": "stream",
     "text": [
      "C:\\Users\\dariu\\AppData\\Local\\Temp\\ipykernel_20400\\659904871.py:3: SettingWithCopyWarning: \n",
      "A value is trying to be set on a copy of a slice from a DataFrame\n",
      "\n",
      "See the caveats in the documentation: https://pandas.pydata.org/pandas-docs/stable/user_guide/indexing.html#returning-a-view-versus-a-copy\n",
      "  df3.drop(columns=[\"year\",\"week\",\"home_score\",\"away_score\"], inplace=True)\n"
     ]
    }
   ],
   "source": [
    "# Remove categorical data\n",
    "\n",
    "df3.drop(columns=[\"year\",\"week\",\"home_score\",\"away_score\"], inplace=True)"
   ]
  },
  {
   "cell_type": "code",
   "execution_count": 82,
   "id": "fb54733a",
   "metadata": {},
   "outputs": [],
   "source": [
    "# Create target and features\n",
    "\n",
    "y = df3[\"home_win\"]\n",
    "X = df3.drop(columns=\"home_win\")"
   ]
  },
  {
   "cell_type": "code",
   "execution_count": 75,
   "id": "2cc14266",
   "metadata": {},
   "outputs": [],
   "source": [
    "# Apply Train_Test_Split\n",
    "\n",
    "X_train, X_test, y_train, y_test = train_test_split(X,y,random_state=1)"
   ]
  },
  {
   "cell_type": "code",
   "execution_count": 76,
   "id": "9d5d0adf",
   "metadata": {},
   "outputs": [],
   "source": [
    "# Set the scaler\n",
    "scaler = StandardScaler()"
   ]
  },
  {
   "cell_type": "code",
   "execution_count": 77,
   "id": "8ecff1fd",
   "metadata": {},
   "outputs": [],
   "source": [
    "# Fit and Transform the data\n",
    "X_scaler = scaler.fit(X_train)\n",
    "X_train_scaled = X_scaler.transform(X_train)\n",
    "X_test_scaled = X_scaler.transform(X_test)"
   ]
  },
  {
   "cell_type": "code",
   "execution_count": 171,
   "id": "78428600",
   "metadata": {},
   "outputs": [],
   "source": [
    "# Create the model\n",
    "model = RandomForestClassifier()"
   ]
  },
  {
   "cell_type": "code",
   "execution_count": 172,
   "id": "332ef776",
   "metadata": {},
   "outputs": [
    {
     "data": {
      "text/html": [
       "<style>#sk-container-id-8 {color: black;background-color: white;}#sk-container-id-8 pre{padding: 0;}#sk-container-id-8 div.sk-toggleable {background-color: white;}#sk-container-id-8 label.sk-toggleable__label {cursor: pointer;display: block;width: 100%;margin-bottom: 0;padding: 0.3em;box-sizing: border-box;text-align: center;}#sk-container-id-8 label.sk-toggleable__label-arrow:before {content: \"▸\";float: left;margin-right: 0.25em;color: #696969;}#sk-container-id-8 label.sk-toggleable__label-arrow:hover:before {color: black;}#sk-container-id-8 div.sk-estimator:hover label.sk-toggleable__label-arrow:before {color: black;}#sk-container-id-8 div.sk-toggleable__content {max-height: 0;max-width: 0;overflow: hidden;text-align: left;background-color: #f0f8ff;}#sk-container-id-8 div.sk-toggleable__content pre {margin: 0.2em;color: black;border-radius: 0.25em;background-color: #f0f8ff;}#sk-container-id-8 input.sk-toggleable__control:checked~div.sk-toggleable__content {max-height: 200px;max-width: 100%;overflow: auto;}#sk-container-id-8 input.sk-toggleable__control:checked~label.sk-toggleable__label-arrow:before {content: \"▾\";}#sk-container-id-8 div.sk-estimator input.sk-toggleable__control:checked~label.sk-toggleable__label {background-color: #d4ebff;}#sk-container-id-8 div.sk-label input.sk-toggleable__control:checked~label.sk-toggleable__label {background-color: #d4ebff;}#sk-container-id-8 input.sk-hidden--visually {border: 0;clip: rect(1px 1px 1px 1px);clip: rect(1px, 1px, 1px, 1px);height: 1px;margin: -1px;overflow: hidden;padding: 0;position: absolute;width: 1px;}#sk-container-id-8 div.sk-estimator {font-family: monospace;background-color: #f0f8ff;border: 1px dotted black;border-radius: 0.25em;box-sizing: border-box;margin-bottom: 0.5em;}#sk-container-id-8 div.sk-estimator:hover {background-color: #d4ebff;}#sk-container-id-8 div.sk-parallel-item::after {content: \"\";width: 100%;border-bottom: 1px solid gray;flex-grow: 1;}#sk-container-id-8 div.sk-label:hover label.sk-toggleable__label {background-color: #d4ebff;}#sk-container-id-8 div.sk-serial::before {content: \"\";position: absolute;border-left: 1px solid gray;box-sizing: border-box;top: 0;bottom: 0;left: 50%;z-index: 0;}#sk-container-id-8 div.sk-serial {display: flex;flex-direction: column;align-items: center;background-color: white;padding-right: 0.2em;padding-left: 0.2em;position: relative;}#sk-container-id-8 div.sk-item {position: relative;z-index: 1;}#sk-container-id-8 div.sk-parallel {display: flex;align-items: stretch;justify-content: center;background-color: white;position: relative;}#sk-container-id-8 div.sk-item::before, #sk-container-id-8 div.sk-parallel-item::before {content: \"\";position: absolute;border-left: 1px solid gray;box-sizing: border-box;top: 0;bottom: 0;left: 50%;z-index: -1;}#sk-container-id-8 div.sk-parallel-item {display: flex;flex-direction: column;z-index: 1;position: relative;background-color: white;}#sk-container-id-8 div.sk-parallel-item:first-child::after {align-self: flex-end;width: 50%;}#sk-container-id-8 div.sk-parallel-item:last-child::after {align-self: flex-start;width: 50%;}#sk-container-id-8 div.sk-parallel-item:only-child::after {width: 0;}#sk-container-id-8 div.sk-dashed-wrapped {border: 1px dashed gray;margin: 0 0.4em 0.5em 0.4em;box-sizing: border-box;padding-bottom: 0.4em;background-color: white;}#sk-container-id-8 div.sk-label label {font-family: monospace;font-weight: bold;display: inline-block;line-height: 1.2em;}#sk-container-id-8 div.sk-label-container {text-align: center;}#sk-container-id-8 div.sk-container {/* jupyter's `normalize.less` sets `[hidden] { display: none; }` but bootstrap.min.css set `[hidden] { display: none !important; }` so we also need the `!important` here to be able to override the default hidden behavior on the sphinx rendered scikit-learn.org. See: https://github.com/scikit-learn/scikit-learn/issues/21755 */display: inline-block !important;position: relative;}#sk-container-id-8 div.sk-text-repr-fallback {display: none;}</style><div id=\"sk-container-id-8\" class=\"sk-top-container\"><div class=\"sk-text-repr-fallback\"><pre>RandomForestClassifier()</pre><b>In a Jupyter environment, please rerun this cell to show the HTML representation or trust the notebook. <br />On GitHub, the HTML representation is unable to render, please try loading this page with nbviewer.org.</b></div><div class=\"sk-container\" hidden><div class=\"sk-item\"><div class=\"sk-estimator sk-toggleable\"><input class=\"sk-toggleable__control sk-hidden--visually\" id=\"sk-estimator-id-8\" type=\"checkbox\" checked><label for=\"sk-estimator-id-8\" class=\"sk-toggleable__label sk-toggleable__label-arrow\">RandomForestClassifier</label><div class=\"sk-toggleable__content\"><pre>RandomForestClassifier()</pre></div></div></div></div></div>"
      ],
      "text/plain": [
       "RandomForestClassifier()"
      ]
     },
     "execution_count": 172,
     "metadata": {},
     "output_type": "execute_result"
    }
   ],
   "source": [
    "# Fit the data\n",
    "model.fit(X_train,y_train)"
   ]
  },
  {
   "cell_type": "code",
   "execution_count": 173,
   "id": "a37b30f3",
   "metadata": {},
   "outputs": [],
   "source": [
    "# Make the predictions\n",
    "y_pred = model.predict(X_test)"
   ]
  },
  {
   "cell_type": "code",
   "execution_count": 81,
   "id": "51247f7b",
   "metadata": {
    "scrolled": false
   },
   "outputs": [
    {
     "name": "stdout",
     "output_type": "stream",
     "text": [
      "[[140 158]\n",
      " [146 238]]\n",
      "              precision    recall  f1-score   support\n",
      "\n",
      "          -1       0.49      0.47      0.48       298\n",
      "           1       0.60      0.62      0.61       384\n",
      "\n",
      "    accuracy                           0.55       682\n",
      "   macro avg       0.55      0.54      0.54       682\n",
      "weighted avg       0.55      0.55      0.55       682\n",
      "\n",
      "0.5542521994134897\n"
     ]
    }
   ],
   "source": [
    "# print the results\n",
    "\n",
    "print(confusion_matrix(y_test,y_pred))\n",
    "print(classification_report(y_test,y_pred))\n",
    "print(accuracy_score(y_test, y_pred))"
   ]
  },
  {
   "cell_type": "code",
   "execution_count": 101,
   "id": "3a6f6c81",
   "metadata": {},
   "outputs": [],
   "source": [
    "importances_names = model.feature_names_in_"
   ]
  },
  {
   "cell_type": "code",
   "execution_count": 174,
   "id": "ff07e1f8",
   "metadata": {},
   "outputs": [],
   "source": [
    "#importances = model.feature_importances_\n",
    "\n",
    "importances=model.feature_importances_\n",
    "indices = np.argsort(importances)[::-1]  # index value of a feature\n",
    "names = [X_train.columns[i] for i in indices]  # extract the title of that feature"
   ]
  },
  {
   "cell_type": "code",
   "execution_count": 176,
   "id": "bdc1caf6",
   "metadata": {},
   "outputs": [
    {
     "data": {
      "text/plain": [
       "['team_2_percent_drives_with_points',\n",
       " 'team_1_yards_from_penalties',\n",
       " 'team_2_rank',\n",
       " 'team_2_simple_rating_system',\n",
       " 'team_2_first_downs',\n",
       " 'team_1_percent_drives_with_points',\n",
       " 'team_1_rush_attempts',\n",
       " 'team_1_plays',\n",
       " 'team_1_rush_first_downs',\n",
       " 'team_2_points_against']"
      ]
     },
     "execution_count": 176,
     "metadata": {},
     "output_type": "execute_result"
    }
   ],
   "source": [
    "names[:10]"
   ]
  },
  {
   "cell_type": "code",
   "execution_count": 103,
   "id": "7620811c",
   "metadata": {},
   "outputs": [],
   "source": [
    "importances_df = pd.DataFrame(importances,importances_names)"
   ]
  },
  {
   "cell_type": "raw",
   "id": "8ca013df",
   "metadata": {},
   "source": [
    "importances_df.sort_values(ascending = False, by = [0]).head(10)"
   ]
  },
  {
   "cell_type": "code",
   "execution_count": 180,
   "id": "cc462f74",
   "metadata": {},
   "outputs": [
    {
     "data": {
      "text/html": [
       "<div>\n",
       "<style scoped>\n",
       "    .dataframe tbody tr th:only-of-type {\n",
       "        vertical-align: middle;\n",
       "    }\n",
       "\n",
       "    .dataframe tbody tr th {\n",
       "        vertical-align: top;\n",
       "    }\n",
       "\n",
       "    .dataframe thead th {\n",
       "        text-align: right;\n",
       "    }\n",
       "</style>\n",
       "<table border=\"1\" class=\"dataframe\">\n",
       "  <thead>\n",
       "    <tr style=\"text-align: right;\">\n",
       "      <th></th>\n",
       "      <th>0</th>\n",
       "    </tr>\n",
       "  </thead>\n",
       "  <tbody>\n",
       "    <tr>\n",
       "      <th>team_2_percent_drives_with_points</th>\n",
       "      <td>0.022416</td>\n",
       "    </tr>\n",
       "    <tr>\n",
       "      <th>team_2_plays</th>\n",
       "      <td>0.019592</td>\n",
       "    </tr>\n",
       "    <tr>\n",
       "      <th>team_1_yards_from_penalties</th>\n",
       "      <td>0.019142</td>\n",
       "    </tr>\n",
       "    <tr>\n",
       "      <th>team_2_yards_from_penalties</th>\n",
       "      <td>0.018916</td>\n",
       "    </tr>\n",
       "    <tr>\n",
       "      <th>team_2_points_contributed_by_offense</th>\n",
       "      <td>0.018612</td>\n",
       "    </tr>\n",
       "    <tr>\n",
       "      <th>team_2_rank</th>\n",
       "      <td>0.018239</td>\n",
       "    </tr>\n",
       "    <tr>\n",
       "      <th>team_2_pass_net_yards_per_attempt</th>\n",
       "      <td>0.018175</td>\n",
       "    </tr>\n",
       "    <tr>\n",
       "      <th>team_2_strength_of_schedule</th>\n",
       "      <td>0.017747</td>\n",
       "    </tr>\n",
       "    <tr>\n",
       "      <th>team_1_rank</th>\n",
       "      <td>0.017559</td>\n",
       "    </tr>\n",
       "    <tr>\n",
       "      <th>team_2_first_downs</th>\n",
       "      <td>0.017551</td>\n",
       "    </tr>\n",
       "    <tr>\n",
       "      <th>team_2_points_for</th>\n",
       "      <td>0.017449</td>\n",
       "    </tr>\n",
       "    <tr>\n",
       "      <th>team_2_simple_rating_system</th>\n",
       "      <td>0.017379</td>\n",
       "    </tr>\n",
       "    <tr>\n",
       "      <th>team_1_percent_drives_with_points</th>\n",
       "      <td>0.017127</td>\n",
       "    </tr>\n",
       "    <tr>\n",
       "      <th>team_1_rush_first_downs</th>\n",
       "      <td>0.017098</td>\n",
       "    </tr>\n",
       "    <tr>\n",
       "      <th>team_2_margin_of_victory</th>\n",
       "      <td>0.016952</td>\n",
       "    </tr>\n",
       "    <tr>\n",
       "      <th>team_1_plays</th>\n",
       "      <td>0.016614</td>\n",
       "    </tr>\n",
       "    <tr>\n",
       "      <th>team_2_pass_attempts</th>\n",
       "      <td>0.016555</td>\n",
       "    </tr>\n",
       "    <tr>\n",
       "      <th>team_2_percent_drives_with_turnovers</th>\n",
       "      <td>0.016476</td>\n",
       "    </tr>\n",
       "    <tr>\n",
       "      <th>team_2_offensive_simple_rating_system</th>\n",
       "      <td>0.016430</td>\n",
       "    </tr>\n",
       "    <tr>\n",
       "      <th>team_1_rush_yards</th>\n",
       "      <td>0.016428</td>\n",
       "    </tr>\n",
       "    <tr>\n",
       "      <th>team_2_points_against</th>\n",
       "      <td>0.016358</td>\n",
       "    </tr>\n",
       "    <tr>\n",
       "      <th>team_1_rush_attempts</th>\n",
       "      <td>0.016224</td>\n",
       "    </tr>\n",
       "    <tr>\n",
       "      <th>team_2_yards</th>\n",
       "      <td>0.016151</td>\n",
       "    </tr>\n",
       "    <tr>\n",
       "      <th>team_2_rush_first_downs</th>\n",
       "      <td>0.015983</td>\n",
       "    </tr>\n",
       "    <tr>\n",
       "      <th>team_2_rush_attempts</th>\n",
       "      <td>0.015890</td>\n",
       "    </tr>\n",
       "    <tr>\n",
       "      <th>team_1_percent_drives_with_turnovers</th>\n",
       "      <td>0.015612</td>\n",
       "    </tr>\n",
       "    <tr>\n",
       "      <th>team_2_pass_yards</th>\n",
       "      <td>0.015586</td>\n",
       "    </tr>\n",
       "    <tr>\n",
       "      <th>team_2_rush_yards</th>\n",
       "      <td>0.015307</td>\n",
       "    </tr>\n",
       "    <tr>\n",
       "      <th>team_2_defensive_simple_rating_system</th>\n",
       "      <td>0.015259</td>\n",
       "    </tr>\n",
       "    <tr>\n",
       "      <th>team_2_points_difference</th>\n",
       "      <td>0.015179</td>\n",
       "    </tr>\n",
       "    <tr>\n",
       "      <th>team_2_yards_per_play</th>\n",
       "      <td>0.015028</td>\n",
       "    </tr>\n",
       "    <tr>\n",
       "      <th>team_1_penalties</th>\n",
       "      <td>0.014750</td>\n",
       "    </tr>\n",
       "    <tr>\n",
       "      <th>team_2_penalties</th>\n",
       "      <td>0.014579</td>\n",
       "    </tr>\n",
       "    <tr>\n",
       "      <th>team_1_pass_net_yards_per_attempt</th>\n",
       "      <td>0.014559</td>\n",
       "    </tr>\n",
       "    <tr>\n",
       "      <th>team_1_points_against</th>\n",
       "      <td>0.014518</td>\n",
       "    </tr>\n",
       "    <tr>\n",
       "      <th>team_2_pass_completions</th>\n",
       "      <td>0.014493</td>\n",
       "    </tr>\n",
       "    <tr>\n",
       "      <th>team_2_first_downs_from_penalties</th>\n",
       "      <td>0.014479</td>\n",
       "    </tr>\n",
       "    <tr>\n",
       "      <th>team_2_rush_yards_per_attempt</th>\n",
       "      <td>0.014200</td>\n",
       "    </tr>\n",
       "    <tr>\n",
       "      <th>team_1_simple_rating_system</th>\n",
       "      <td>0.014175</td>\n",
       "    </tr>\n",
       "    <tr>\n",
       "      <th>team_1_margin_of_victory</th>\n",
       "      <td>0.013874</td>\n",
       "    </tr>\n",
       "    <tr>\n",
       "      <th>team_1_offensive_simple_rating_system</th>\n",
       "      <td>0.013756</td>\n",
       "    </tr>\n",
       "    <tr>\n",
       "      <th>team_2_pass_first_downs</th>\n",
       "      <td>0.013559</td>\n",
       "    </tr>\n",
       "    <tr>\n",
       "      <th>team_2_turnovers</th>\n",
       "      <td>0.013513</td>\n",
       "    </tr>\n",
       "    <tr>\n",
       "      <th>team_1_pass_yards</th>\n",
       "      <td>0.013484</td>\n",
       "    </tr>\n",
       "    <tr>\n",
       "      <th>team_1_points_for</th>\n",
       "      <td>0.013391</td>\n",
       "    </tr>\n",
       "    <tr>\n",
       "      <th>team_1_pass_completions</th>\n",
       "      <td>0.013342</td>\n",
       "    </tr>\n",
       "    <tr>\n",
       "      <th>team_1_points_contributed_by_offense</th>\n",
       "      <td>0.013108</td>\n",
       "    </tr>\n",
       "    <tr>\n",
       "      <th>team_1_first_downs</th>\n",
       "      <td>0.012951</td>\n",
       "    </tr>\n",
       "    <tr>\n",
       "      <th>team_1_strength_of_schedule</th>\n",
       "      <td>0.012889</td>\n",
       "    </tr>\n",
       "    <tr>\n",
       "      <th>team_1_first_downs_from_penalties</th>\n",
       "      <td>0.012829</td>\n",
       "    </tr>\n",
       "  </tbody>\n",
       "</table>\n",
       "</div>"
      ],
      "text/plain": [
       "                                              0\n",
       "team_2_percent_drives_with_points      0.022416\n",
       "team_2_plays                           0.019592\n",
       "team_1_yards_from_penalties            0.019142\n",
       "team_2_yards_from_penalties            0.018916\n",
       "team_2_points_contributed_by_offense   0.018612\n",
       "team_2_rank                            0.018239\n",
       "team_2_pass_net_yards_per_attempt      0.018175\n",
       "team_2_strength_of_schedule            0.017747\n",
       "team_1_rank                            0.017559\n",
       "team_2_first_downs                     0.017551\n",
       "team_2_points_for                      0.017449\n",
       "team_2_simple_rating_system            0.017379\n",
       "team_1_percent_drives_with_points      0.017127\n",
       "team_1_rush_first_downs                0.017098\n",
       "team_2_margin_of_victory               0.016952\n",
       "team_1_plays                           0.016614\n",
       "team_2_pass_attempts                   0.016555\n",
       "team_2_percent_drives_with_turnovers   0.016476\n",
       "team_2_offensive_simple_rating_system  0.016430\n",
       "team_1_rush_yards                      0.016428\n",
       "team_2_points_against                  0.016358\n",
       "team_1_rush_attempts                   0.016224\n",
       "team_2_yards                           0.016151\n",
       "team_2_rush_first_downs                0.015983\n",
       "team_2_rush_attempts                   0.015890\n",
       "team_1_percent_drives_with_turnovers   0.015612\n",
       "team_2_pass_yards                      0.015586\n",
       "team_2_rush_yards                      0.015307\n",
       "team_2_defensive_simple_rating_system  0.015259\n",
       "team_2_points_difference               0.015179\n",
       "team_2_yards_per_play                  0.015028\n",
       "team_1_penalties                       0.014750\n",
       "team_2_penalties                       0.014579\n",
       "team_1_pass_net_yards_per_attempt      0.014559\n",
       "team_1_points_against                  0.014518\n",
       "team_2_pass_completions                0.014493\n",
       "team_2_first_downs_from_penalties      0.014479\n",
       "team_2_rush_yards_per_attempt          0.014200\n",
       "team_1_simple_rating_system            0.014175\n",
       "team_1_margin_of_victory               0.013874\n",
       "team_1_offensive_simple_rating_system  0.013756\n",
       "team_2_pass_first_downs                0.013559\n",
       "team_2_turnovers                       0.013513\n",
       "team_1_pass_yards                      0.013484\n",
       "team_1_points_for                      0.013391\n",
       "team_1_pass_completions                0.013342\n",
       "team_1_points_contributed_by_offense   0.013108\n",
       "team_1_first_downs                     0.012951\n",
       "team_1_strength_of_schedule            0.012889\n",
       "team_1_first_downs_from_penalties      0.012829"
      ]
     },
     "execution_count": 180,
     "metadata": {},
     "output_type": "execute_result"
    }
   ],
   "source": [
    "importances_df.sort_values(ascending = False, by = [0]).head(50)"
   ]
  },
  {
   "cell_type": "code",
   "execution_count": 118,
   "id": "2cadcf1a",
   "metadata": {},
   "outputs": [
    {
     "data": {
      "text/html": [
       "<div>\n",
       "<style scoped>\n",
       "    .dataframe tbody tr th:only-of-type {\n",
       "        vertical-align: middle;\n",
       "    }\n",
       "\n",
       "    .dataframe tbody tr th {\n",
       "        vertical-align: top;\n",
       "    }\n",
       "\n",
       "    .dataframe thead th {\n",
       "        text-align: right;\n",
       "    }\n",
       "</style>\n",
       "<table border=\"1\" class=\"dataframe\">\n",
       "  <thead>\n",
       "    <tr style=\"text-align: right;\">\n",
       "      <th></th>\n",
       "      <th>0</th>\n",
       "    </tr>\n",
       "  </thead>\n",
       "  <tbody>\n",
       "    <tr>\n",
       "      <th>count</th>\n",
       "      <td>74.000000</td>\n",
       "    </tr>\n",
       "    <tr>\n",
       "      <th>mean</th>\n",
       "      <td>0.013514</td>\n",
       "    </tr>\n",
       "    <tr>\n",
       "      <th>std</th>\n",
       "      <td>0.004308</td>\n",
       "    </tr>\n",
       "    <tr>\n",
       "      <th>min</th>\n",
       "      <td>0.000000</td>\n",
       "    </tr>\n",
       "    <tr>\n",
       "      <th>25%</th>\n",
       "      <td>0.012109</td>\n",
       "    </tr>\n",
       "    <tr>\n",
       "      <th>50%</th>\n",
       "      <td>0.014340</td>\n",
       "    </tr>\n",
       "    <tr>\n",
       "      <th>75%</th>\n",
       "      <td>0.016430</td>\n",
       "    </tr>\n",
       "    <tr>\n",
       "      <th>max</th>\n",
       "      <td>0.022416</td>\n",
       "    </tr>\n",
       "  </tbody>\n",
       "</table>\n",
       "</div>"
      ],
      "text/plain": [
       "               0\n",
       "count  74.000000\n",
       "mean    0.013514\n",
       "std     0.004308\n",
       "min     0.000000\n",
       "25%     0.012109\n",
       "50%     0.014340\n",
       "75%     0.016430\n",
       "max     0.022416"
      ]
     },
     "execution_count": 118,
     "metadata": {},
     "output_type": "execute_result"
    }
   ],
   "source": [
    "importances_df.describe()"
   ]
  },
  {
   "cell_type": "code",
   "execution_count": 119,
   "id": "a07edc70",
   "metadata": {},
   "outputs": [],
   "source": [
    "df4 = df3.drop(columns=[\"team_1_games_played\",\"team_2_games_played\",\"team_2_losses\",\"team_1_wins\",\"team_2_wins\",\"team_1_losses\"])"
   ]
  },
  {
   "cell_type": "code",
   "execution_count": 120,
   "id": "632f0f12",
   "metadata": {},
   "outputs": [
    {
     "data": {
      "text/html": [
       "<div>\n",
       "<style scoped>\n",
       "    .dataframe tbody tr th:only-of-type {\n",
       "        vertical-align: middle;\n",
       "    }\n",
       "\n",
       "    .dataframe tbody tr th {\n",
       "        vertical-align: top;\n",
       "    }\n",
       "\n",
       "    .dataframe thead th {\n",
       "        text-align: right;\n",
       "    }\n",
       "</style>\n",
       "<table border=\"1\" class=\"dataframe\">\n",
       "  <thead>\n",
       "    <tr style=\"text-align: right;\">\n",
       "      <th></th>\n",
       "      <th>team_1_defensive_simple_rating_system</th>\n",
       "      <th>team_1_first_downs</th>\n",
       "      <th>team_1_first_downs_from_penalties</th>\n",
       "      <th>team_1_fumbles</th>\n",
       "      <th>team_1_interceptions</th>\n",
       "      <th>team_1_margin_of_victory</th>\n",
       "      <th>team_1_offensive_simple_rating_system</th>\n",
       "      <th>team_1_pass_attempts</th>\n",
       "      <th>team_1_pass_completions</th>\n",
       "      <th>team_1_pass_first_downs</th>\n",
       "      <th>...</th>\n",
       "      <th>team_2_rush_yards</th>\n",
       "      <th>team_2_rush_yards_per_attempt</th>\n",
       "      <th>team_2_simple_rating_system</th>\n",
       "      <th>team_2_strength_of_schedule</th>\n",
       "      <th>team_2_turnovers</th>\n",
       "      <th>team_2_win_percentage</th>\n",
       "      <th>team_2_yards</th>\n",
       "      <th>team_2_yards_from_penalties</th>\n",
       "      <th>team_2_yards_per_play</th>\n",
       "      <th>home_win</th>\n",
       "    </tr>\n",
       "  </thead>\n",
       "  <tbody>\n",
       "    <tr>\n",
       "      <th>0</th>\n",
       "      <td>-7.1</td>\n",
       "      <td>59</td>\n",
       "      <td>7</td>\n",
       "      <td>1</td>\n",
       "      <td>2</td>\n",
       "      <td>-1.0</td>\n",
       "      <td>-3.3</td>\n",
       "      <td>92</td>\n",
       "      <td>59</td>\n",
       "      <td>23</td>\n",
       "      <td>...</td>\n",
       "      <td>354</td>\n",
       "      <td>4.7</td>\n",
       "      <td>-4.2</td>\n",
       "      <td>-2.2</td>\n",
       "      <td>2</td>\n",
       "      <td>0.667</td>\n",
       "      <td>972</td>\n",
       "      <td>188</td>\n",
       "      <td>5.3</td>\n",
       "      <td>-1</td>\n",
       "    </tr>\n",
       "    <tr>\n",
       "      <th>1</th>\n",
       "      <td>2.1</td>\n",
       "      <td>43</td>\n",
       "      <td>5</td>\n",
       "      <td>0</td>\n",
       "      <td>4</td>\n",
       "      <td>-1.7</td>\n",
       "      <td>-4.0</td>\n",
       "      <td>45</td>\n",
       "      <td>23</td>\n",
       "      <td>11</td>\n",
       "      <td>...</td>\n",
       "      <td>313</td>\n",
       "      <td>4.0</td>\n",
       "      <td>-4.8</td>\n",
       "      <td>2.2</td>\n",
       "      <td>6</td>\n",
       "      <td>0.500</td>\n",
       "      <td>994</td>\n",
       "      <td>153</td>\n",
       "      <td>4.8</td>\n",
       "      <td>1</td>\n",
       "    </tr>\n",
       "    <tr>\n",
       "      <th>2</th>\n",
       "      <td>-13.6</td>\n",
       "      <td>74</td>\n",
       "      <td>7</td>\n",
       "      <td>0</td>\n",
       "      <td>1</td>\n",
       "      <td>4.3</td>\n",
       "      <td>9.9</td>\n",
       "      <td>92</td>\n",
       "      <td>61</td>\n",
       "      <td>34</td>\n",
       "      <td>...</td>\n",
       "      <td>451</td>\n",
       "      <td>4.4</td>\n",
       "      <td>38.9</td>\n",
       "      <td>26.9</td>\n",
       "      <td>1</td>\n",
       "      <td>1.000</td>\n",
       "      <td>1341</td>\n",
       "      <td>173</td>\n",
       "      <td>6.4</td>\n",
       "      <td>-1</td>\n",
       "    </tr>\n",
       "    <tr>\n",
       "      <th>3</th>\n",
       "      <td>1.6</td>\n",
       "      <td>63</td>\n",
       "      <td>5</td>\n",
       "      <td>0</td>\n",
       "      <td>2</td>\n",
       "      <td>0.7</td>\n",
       "      <td>28.5</td>\n",
       "      <td>112</td>\n",
       "      <td>66</td>\n",
       "      <td>38</td>\n",
       "      <td>...</td>\n",
       "      <td>217</td>\n",
       "      <td>3.4</td>\n",
       "      <td>-9.0</td>\n",
       "      <td>-6.0</td>\n",
       "      <td>7</td>\n",
       "      <td>0.667</td>\n",
       "      <td>919</td>\n",
       "      <td>126</td>\n",
       "      <td>5.3</td>\n",
       "      <td>1</td>\n",
       "    </tr>\n",
       "    <tr>\n",
       "      <th>4</th>\n",
       "      <td>-8.0</td>\n",
       "      <td>52</td>\n",
       "      <td>8</td>\n",
       "      <td>1</td>\n",
       "      <td>2</td>\n",
       "      <td>-3.3</td>\n",
       "      <td>0.1</td>\n",
       "      <td>107</td>\n",
       "      <td>62</td>\n",
       "      <td>27</td>\n",
       "      <td>...</td>\n",
       "      <td>192</td>\n",
       "      <td>3.3</td>\n",
       "      <td>12.4</td>\n",
       "      <td>6.1</td>\n",
       "      <td>2</td>\n",
       "      <td>1.000</td>\n",
       "      <td>1066</td>\n",
       "      <td>91</td>\n",
       "      <td>6.4</td>\n",
       "      <td>1</td>\n",
       "    </tr>\n",
       "    <tr>\n",
       "      <th>...</th>\n",
       "      <td>...</td>\n",
       "      <td>...</td>\n",
       "      <td>...</td>\n",
       "      <td>...</td>\n",
       "      <td>...</td>\n",
       "      <td>...</td>\n",
       "      <td>...</td>\n",
       "      <td>...</td>\n",
       "      <td>...</td>\n",
       "      <td>...</td>\n",
       "      <td>...</td>\n",
       "      <td>...</td>\n",
       "      <td>...</td>\n",
       "      <td>...</td>\n",
       "      <td>...</td>\n",
       "      <td>...</td>\n",
       "      <td>...</td>\n",
       "      <td>...</td>\n",
       "      <td>...</td>\n",
       "      <td>...</td>\n",
       "      <td>...</td>\n",
       "    </tr>\n",
       "    <tr>\n",
       "      <th>2733</th>\n",
       "      <td>-9.9</td>\n",
       "      <td>69</td>\n",
       "      <td>4</td>\n",
       "      <td>0</td>\n",
       "      <td>1</td>\n",
       "      <td>-8.3</td>\n",
       "      <td>-9.4</td>\n",
       "      <td>145</td>\n",
       "      <td>92</td>\n",
       "      <td>40</td>\n",
       "      <td>...</td>\n",
       "      <td>217</td>\n",
       "      <td>3.4</td>\n",
       "      <td>-9.0</td>\n",
       "      <td>-6.0</td>\n",
       "      <td>7</td>\n",
       "      <td>0.667</td>\n",
       "      <td>919</td>\n",
       "      <td>126</td>\n",
       "      <td>5.3</td>\n",
       "      <td>-1</td>\n",
       "    </tr>\n",
       "    <tr>\n",
       "      <th>2734</th>\n",
       "      <td>-8.2</td>\n",
       "      <td>56</td>\n",
       "      <td>8</td>\n",
       "      <td>2</td>\n",
       "      <td>3</td>\n",
       "      <td>-7.7</td>\n",
       "      <td>-7.5</td>\n",
       "      <td>103</td>\n",
       "      <td>79</td>\n",
       "      <td>34</td>\n",
       "      <td>...</td>\n",
       "      <td>470</td>\n",
       "      <td>4.9</td>\n",
       "      <td>-11.3</td>\n",
       "      <td>-10.9</td>\n",
       "      <td>7</td>\n",
       "      <td>0.333</td>\n",
       "      <td>1063</td>\n",
       "      <td>99</td>\n",
       "      <td>5.9</td>\n",
       "      <td>-1</td>\n",
       "    </tr>\n",
       "    <tr>\n",
       "      <th>2735</th>\n",
       "      <td>10.8</td>\n",
       "      <td>50</td>\n",
       "      <td>7</td>\n",
       "      <td>3</td>\n",
       "      <td>1</td>\n",
       "      <td>8.0</td>\n",
       "      <td>-2.8</td>\n",
       "      <td>103</td>\n",
       "      <td>67</td>\n",
       "      <td>32</td>\n",
       "      <td>...</td>\n",
       "      <td>381</td>\n",
       "      <td>4.7</td>\n",
       "      <td>12.5</td>\n",
       "      <td>11.5</td>\n",
       "      <td>5</td>\n",
       "      <td>0.667</td>\n",
       "      <td>1067</td>\n",
       "      <td>100</td>\n",
       "      <td>5.7</td>\n",
       "      <td>-1</td>\n",
       "    </tr>\n",
       "    <tr>\n",
       "      <th>2736</th>\n",
       "      <td>4.5</td>\n",
       "      <td>54</td>\n",
       "      <td>7</td>\n",
       "      <td>2</td>\n",
       "      <td>1</td>\n",
       "      <td>2.3</td>\n",
       "      <td>-11.8</td>\n",
       "      <td>106</td>\n",
       "      <td>63</td>\n",
       "      <td>32</td>\n",
       "      <td>...</td>\n",
       "      <td>453</td>\n",
       "      <td>4.5</td>\n",
       "      <td>-4.8</td>\n",
       "      <td>-8.2</td>\n",
       "      <td>5</td>\n",
       "      <td>0.333</td>\n",
       "      <td>971</td>\n",
       "      <td>165</td>\n",
       "      <td>5.1</td>\n",
       "      <td>1</td>\n",
       "    </tr>\n",
       "    <tr>\n",
       "      <th>2737</th>\n",
       "      <td>-7.1</td>\n",
       "      <td>59</td>\n",
       "      <td>7</td>\n",
       "      <td>1</td>\n",
       "      <td>2</td>\n",
       "      <td>-1.0</td>\n",
       "      <td>-3.3</td>\n",
       "      <td>92</td>\n",
       "      <td>59</td>\n",
       "      <td>23</td>\n",
       "      <td>...</td>\n",
       "      <td>354</td>\n",
       "      <td>4.7</td>\n",
       "      <td>-4.2</td>\n",
       "      <td>-2.2</td>\n",
       "      <td>2</td>\n",
       "      <td>0.667</td>\n",
       "      <td>972</td>\n",
       "      <td>188</td>\n",
       "      <td>5.3</td>\n",
       "      <td>-1</td>\n",
       "    </tr>\n",
       "  </tbody>\n",
       "</table>\n",
       "<p>2727 rows × 69 columns</p>\n",
       "</div>"
      ],
      "text/plain": [
       "      team_1_defensive_simple_rating_system  team_1_first_downs  \\\n",
       "0                                      -7.1                  59   \n",
       "1                                       2.1                  43   \n",
       "2                                     -13.6                  74   \n",
       "3                                       1.6                  63   \n",
       "4                                      -8.0                  52   \n",
       "...                                     ...                 ...   \n",
       "2733                                   -9.9                  69   \n",
       "2734                                   -8.2                  56   \n",
       "2735                                   10.8                  50   \n",
       "2736                                    4.5                  54   \n",
       "2737                                   -7.1                  59   \n",
       "\n",
       "      team_1_first_downs_from_penalties  team_1_fumbles  team_1_interceptions  \\\n",
       "0                                     7               1                     2   \n",
       "1                                     5               0                     4   \n",
       "2                                     7               0                     1   \n",
       "3                                     5               0                     2   \n",
       "4                                     8               1                     2   \n",
       "...                                 ...             ...                   ...   \n",
       "2733                                  4               0                     1   \n",
       "2734                                  8               2                     3   \n",
       "2735                                  7               3                     1   \n",
       "2736                                  7               2                     1   \n",
       "2737                                  7               1                     2   \n",
       "\n",
       "      team_1_margin_of_victory  team_1_offensive_simple_rating_system  \\\n",
       "0                         -1.0                                   -3.3   \n",
       "1                         -1.7                                   -4.0   \n",
       "2                          4.3                                    9.9   \n",
       "3                          0.7                                   28.5   \n",
       "4                         -3.3                                    0.1   \n",
       "...                        ...                                    ...   \n",
       "2733                      -8.3                                   -9.4   \n",
       "2734                      -7.7                                   -7.5   \n",
       "2735                       8.0                                   -2.8   \n",
       "2736                       2.3                                  -11.8   \n",
       "2737                      -1.0                                   -3.3   \n",
       "\n",
       "      team_1_pass_attempts  team_1_pass_completions  team_1_pass_first_downs  \\\n",
       "0                       92                       59                       23   \n",
       "1                       45                       23                       11   \n",
       "2                       92                       61                       34   \n",
       "3                      112                       66                       38   \n",
       "4                      107                       62                       27   \n",
       "...                    ...                      ...                      ...   \n",
       "2733                   145                       92                       40   \n",
       "2734                   103                       79                       34   \n",
       "2735                   103                       67                       32   \n",
       "2736                   106                       63                       32   \n",
       "2737                    92                       59                       23   \n",
       "\n",
       "      ...  team_2_rush_yards  team_2_rush_yards_per_attempt  \\\n",
       "0     ...                354                            4.7   \n",
       "1     ...                313                            4.0   \n",
       "2     ...                451                            4.4   \n",
       "3     ...                217                            3.4   \n",
       "4     ...                192                            3.3   \n",
       "...   ...                ...                            ...   \n",
       "2733  ...                217                            3.4   \n",
       "2734  ...                470                            4.9   \n",
       "2735  ...                381                            4.7   \n",
       "2736  ...                453                            4.5   \n",
       "2737  ...                354                            4.7   \n",
       "\n",
       "      team_2_simple_rating_system  team_2_strength_of_schedule  \\\n",
       "0                            -4.2                         -2.2   \n",
       "1                            -4.8                          2.2   \n",
       "2                            38.9                         26.9   \n",
       "3                            -9.0                         -6.0   \n",
       "4                            12.4                          6.1   \n",
       "...                           ...                          ...   \n",
       "2733                         -9.0                         -6.0   \n",
       "2734                        -11.3                        -10.9   \n",
       "2735                         12.5                         11.5   \n",
       "2736                         -4.8                         -8.2   \n",
       "2737                         -4.2                         -2.2   \n",
       "\n",
       "      team_2_turnovers  team_2_win_percentage  team_2_yards  \\\n",
       "0                    2                  0.667           972   \n",
       "1                    6                  0.500           994   \n",
       "2                    1                  1.000          1341   \n",
       "3                    7                  0.667           919   \n",
       "4                    2                  1.000          1066   \n",
       "...                ...                    ...           ...   \n",
       "2733                 7                  0.667           919   \n",
       "2734                 7                  0.333          1063   \n",
       "2735                 5                  0.667          1067   \n",
       "2736                 5                  0.333           971   \n",
       "2737                 2                  0.667           972   \n",
       "\n",
       "      team_2_yards_from_penalties  team_2_yards_per_play  home_win  \n",
       "0                             188                    5.3        -1  \n",
       "1                             153                    4.8         1  \n",
       "2                             173                    6.4        -1  \n",
       "3                             126                    5.3         1  \n",
       "4                              91                    6.4         1  \n",
       "...                           ...                    ...       ...  \n",
       "2733                          126                    5.3        -1  \n",
       "2734                           99                    5.9        -1  \n",
       "2735                          100                    5.7        -1  \n",
       "2736                          165                    5.1         1  \n",
       "2737                          188                    5.3        -1  \n",
       "\n",
       "[2727 rows x 69 columns]"
      ]
     },
     "execution_count": 120,
     "metadata": {},
     "output_type": "execute_result"
    }
   ],
   "source": [
    "df4"
   ]
  },
  {
   "cell_type": "code",
   "execution_count": 121,
   "id": "5cfea90c",
   "metadata": {},
   "outputs": [],
   "source": [
    "y = df4[\"home_win\"]\n",
    "X = df4.drop(columns=\"home_win\")"
   ]
  },
  {
   "cell_type": "code",
   "execution_count": 122,
   "id": "8cdb0e74",
   "metadata": {},
   "outputs": [],
   "source": [
    "X_train, X_test, y_train, y_test = train_test_split(X,y,random_state=1)"
   ]
  },
  {
   "cell_type": "code",
   "execution_count": 123,
   "id": "026cde86",
   "metadata": {},
   "outputs": [],
   "source": [
    "X_scaler = scaler.fit(X_train)\n",
    "X_train_scaled = X_scaler.transform(X_train)\n",
    "X_test_scaled = X_scaler.transform(X_test)"
   ]
  },
  {
   "cell_type": "code",
   "execution_count": 124,
   "id": "347d992c",
   "metadata": {
    "scrolled": true
   },
   "outputs": [
    {
     "data": {
      "text/html": [
       "<style>#sk-container-id-3 {color: black;background-color: white;}#sk-container-id-3 pre{padding: 0;}#sk-container-id-3 div.sk-toggleable {background-color: white;}#sk-container-id-3 label.sk-toggleable__label {cursor: pointer;display: block;width: 100%;margin-bottom: 0;padding: 0.3em;box-sizing: border-box;text-align: center;}#sk-container-id-3 label.sk-toggleable__label-arrow:before {content: \"▸\";float: left;margin-right: 0.25em;color: #696969;}#sk-container-id-3 label.sk-toggleable__label-arrow:hover:before {color: black;}#sk-container-id-3 div.sk-estimator:hover label.sk-toggleable__label-arrow:before {color: black;}#sk-container-id-3 div.sk-toggleable__content {max-height: 0;max-width: 0;overflow: hidden;text-align: left;background-color: #f0f8ff;}#sk-container-id-3 div.sk-toggleable__content pre {margin: 0.2em;color: black;border-radius: 0.25em;background-color: #f0f8ff;}#sk-container-id-3 input.sk-toggleable__control:checked~div.sk-toggleable__content {max-height: 200px;max-width: 100%;overflow: auto;}#sk-container-id-3 input.sk-toggleable__control:checked~label.sk-toggleable__label-arrow:before {content: \"▾\";}#sk-container-id-3 div.sk-estimator input.sk-toggleable__control:checked~label.sk-toggleable__label {background-color: #d4ebff;}#sk-container-id-3 div.sk-label input.sk-toggleable__control:checked~label.sk-toggleable__label {background-color: #d4ebff;}#sk-container-id-3 input.sk-hidden--visually {border: 0;clip: rect(1px 1px 1px 1px);clip: rect(1px, 1px, 1px, 1px);height: 1px;margin: -1px;overflow: hidden;padding: 0;position: absolute;width: 1px;}#sk-container-id-3 div.sk-estimator {font-family: monospace;background-color: #f0f8ff;border: 1px dotted black;border-radius: 0.25em;box-sizing: border-box;margin-bottom: 0.5em;}#sk-container-id-3 div.sk-estimator:hover {background-color: #d4ebff;}#sk-container-id-3 div.sk-parallel-item::after {content: \"\";width: 100%;border-bottom: 1px solid gray;flex-grow: 1;}#sk-container-id-3 div.sk-label:hover label.sk-toggleable__label {background-color: #d4ebff;}#sk-container-id-3 div.sk-serial::before {content: \"\";position: absolute;border-left: 1px solid gray;box-sizing: border-box;top: 0;bottom: 0;left: 50%;z-index: 0;}#sk-container-id-3 div.sk-serial {display: flex;flex-direction: column;align-items: center;background-color: white;padding-right: 0.2em;padding-left: 0.2em;position: relative;}#sk-container-id-3 div.sk-item {position: relative;z-index: 1;}#sk-container-id-3 div.sk-parallel {display: flex;align-items: stretch;justify-content: center;background-color: white;position: relative;}#sk-container-id-3 div.sk-item::before, #sk-container-id-3 div.sk-parallel-item::before {content: \"\";position: absolute;border-left: 1px solid gray;box-sizing: border-box;top: 0;bottom: 0;left: 50%;z-index: -1;}#sk-container-id-3 div.sk-parallel-item {display: flex;flex-direction: column;z-index: 1;position: relative;background-color: white;}#sk-container-id-3 div.sk-parallel-item:first-child::after {align-self: flex-end;width: 50%;}#sk-container-id-3 div.sk-parallel-item:last-child::after {align-self: flex-start;width: 50%;}#sk-container-id-3 div.sk-parallel-item:only-child::after {width: 0;}#sk-container-id-3 div.sk-dashed-wrapped {border: 1px dashed gray;margin: 0 0.4em 0.5em 0.4em;box-sizing: border-box;padding-bottom: 0.4em;background-color: white;}#sk-container-id-3 div.sk-label label {font-family: monospace;font-weight: bold;display: inline-block;line-height: 1.2em;}#sk-container-id-3 div.sk-label-container {text-align: center;}#sk-container-id-3 div.sk-container {/* jupyter's `normalize.less` sets `[hidden] { display: none; }` but bootstrap.min.css set `[hidden] { display: none !important; }` so we also need the `!important` here to be able to override the default hidden behavior on the sphinx rendered scikit-learn.org. See: https://github.com/scikit-learn/scikit-learn/issues/21755 */display: inline-block !important;position: relative;}#sk-container-id-3 div.sk-text-repr-fallback {display: none;}</style><div id=\"sk-container-id-3\" class=\"sk-top-container\"><div class=\"sk-text-repr-fallback\"><pre>RandomForestClassifier()</pre><b>In a Jupyter environment, please rerun this cell to show the HTML representation or trust the notebook. <br />On GitHub, the HTML representation is unable to render, please try loading this page with nbviewer.org.</b></div><div class=\"sk-container\" hidden><div class=\"sk-item\"><div class=\"sk-estimator sk-toggleable\"><input class=\"sk-toggleable__control sk-hidden--visually\" id=\"sk-estimator-id-3\" type=\"checkbox\" checked><label for=\"sk-estimator-id-3\" class=\"sk-toggleable__label sk-toggleable__label-arrow\">RandomForestClassifier</label><div class=\"sk-toggleable__content\"><pre>RandomForestClassifier()</pre></div></div></div></div></div>"
      ],
      "text/plain": [
       "RandomForestClassifier()"
      ]
     },
     "execution_count": 124,
     "metadata": {},
     "output_type": "execute_result"
    }
   ],
   "source": [
    "model.fit(X_train,y_train)"
   ]
  },
  {
   "cell_type": "code",
   "execution_count": 125,
   "id": "005d9db4",
   "metadata": {},
   "outputs": [],
   "source": [
    "y_pred = model.predict(X_test)"
   ]
  },
  {
   "cell_type": "code",
   "execution_count": 126,
   "id": "9bf809d8",
   "metadata": {
    "scrolled": true
   },
   "outputs": [
    {
     "name": "stdout",
     "output_type": "stream",
     "text": [
      "[[133 165]\n",
      " [143 241]]\n",
      "              precision    recall  f1-score   support\n",
      "\n",
      "          -1       0.48      0.45      0.46       298\n",
      "           1       0.59      0.63      0.61       384\n",
      "\n",
      "    accuracy                           0.55       682\n",
      "   macro avg       0.54      0.54      0.54       682\n",
      "weighted avg       0.54      0.55      0.55       682\n",
      "\n",
      "0.5483870967741935\n"
     ]
    }
   ],
   "source": [
    "print(confusion_matrix(y_test,y_pred))\n",
    "print(classification_report(y_test,y_pred))\n",
    "print(accuracy_score(y_test, y_pred))"
   ]
  },
  {
   "cell_type": "code",
   "execution_count": 127,
   "id": "e9a26205",
   "metadata": {},
   "outputs": [],
   "source": [
    "from sklearn.preprocessing import MinMaxScaler"
   ]
  },
  {
   "cell_type": "code",
   "execution_count": 128,
   "id": "53c03335",
   "metadata": {},
   "outputs": [],
   "source": [
    "scaler = MinMaxScaler()"
   ]
  },
  {
   "cell_type": "code",
   "execution_count": 129,
   "id": "d04db7ee",
   "metadata": {},
   "outputs": [],
   "source": [
    "X_scaler = scaler.fit(X_train)\n",
    "X_train_scaled = X_scaler.transform(X_train)\n",
    "X_test_scaled = X_scaler.transform(X_test)"
   ]
  },
  {
   "cell_type": "code",
   "execution_count": 130,
   "id": "eef32e7e",
   "metadata": {},
   "outputs": [
    {
     "data": {
      "text/html": [
       "<style>#sk-container-id-4 {color: black;background-color: white;}#sk-container-id-4 pre{padding: 0;}#sk-container-id-4 div.sk-toggleable {background-color: white;}#sk-container-id-4 label.sk-toggleable__label {cursor: pointer;display: block;width: 100%;margin-bottom: 0;padding: 0.3em;box-sizing: border-box;text-align: center;}#sk-container-id-4 label.sk-toggleable__label-arrow:before {content: \"▸\";float: left;margin-right: 0.25em;color: #696969;}#sk-container-id-4 label.sk-toggleable__label-arrow:hover:before {color: black;}#sk-container-id-4 div.sk-estimator:hover label.sk-toggleable__label-arrow:before {color: black;}#sk-container-id-4 div.sk-toggleable__content {max-height: 0;max-width: 0;overflow: hidden;text-align: left;background-color: #f0f8ff;}#sk-container-id-4 div.sk-toggleable__content pre {margin: 0.2em;color: black;border-radius: 0.25em;background-color: #f0f8ff;}#sk-container-id-4 input.sk-toggleable__control:checked~div.sk-toggleable__content {max-height: 200px;max-width: 100%;overflow: auto;}#sk-container-id-4 input.sk-toggleable__control:checked~label.sk-toggleable__label-arrow:before {content: \"▾\";}#sk-container-id-4 div.sk-estimator input.sk-toggleable__control:checked~label.sk-toggleable__label {background-color: #d4ebff;}#sk-container-id-4 div.sk-label input.sk-toggleable__control:checked~label.sk-toggleable__label {background-color: #d4ebff;}#sk-container-id-4 input.sk-hidden--visually {border: 0;clip: rect(1px 1px 1px 1px);clip: rect(1px, 1px, 1px, 1px);height: 1px;margin: -1px;overflow: hidden;padding: 0;position: absolute;width: 1px;}#sk-container-id-4 div.sk-estimator {font-family: monospace;background-color: #f0f8ff;border: 1px dotted black;border-radius: 0.25em;box-sizing: border-box;margin-bottom: 0.5em;}#sk-container-id-4 div.sk-estimator:hover {background-color: #d4ebff;}#sk-container-id-4 div.sk-parallel-item::after {content: \"\";width: 100%;border-bottom: 1px solid gray;flex-grow: 1;}#sk-container-id-4 div.sk-label:hover label.sk-toggleable__label {background-color: #d4ebff;}#sk-container-id-4 div.sk-serial::before {content: \"\";position: absolute;border-left: 1px solid gray;box-sizing: border-box;top: 0;bottom: 0;left: 50%;z-index: 0;}#sk-container-id-4 div.sk-serial {display: flex;flex-direction: column;align-items: center;background-color: white;padding-right: 0.2em;padding-left: 0.2em;position: relative;}#sk-container-id-4 div.sk-item {position: relative;z-index: 1;}#sk-container-id-4 div.sk-parallel {display: flex;align-items: stretch;justify-content: center;background-color: white;position: relative;}#sk-container-id-4 div.sk-item::before, #sk-container-id-4 div.sk-parallel-item::before {content: \"\";position: absolute;border-left: 1px solid gray;box-sizing: border-box;top: 0;bottom: 0;left: 50%;z-index: -1;}#sk-container-id-4 div.sk-parallel-item {display: flex;flex-direction: column;z-index: 1;position: relative;background-color: white;}#sk-container-id-4 div.sk-parallel-item:first-child::after {align-self: flex-end;width: 50%;}#sk-container-id-4 div.sk-parallel-item:last-child::after {align-self: flex-start;width: 50%;}#sk-container-id-4 div.sk-parallel-item:only-child::after {width: 0;}#sk-container-id-4 div.sk-dashed-wrapped {border: 1px dashed gray;margin: 0 0.4em 0.5em 0.4em;box-sizing: border-box;padding-bottom: 0.4em;background-color: white;}#sk-container-id-4 div.sk-label label {font-family: monospace;font-weight: bold;display: inline-block;line-height: 1.2em;}#sk-container-id-4 div.sk-label-container {text-align: center;}#sk-container-id-4 div.sk-container {/* jupyter's `normalize.less` sets `[hidden] { display: none; }` but bootstrap.min.css set `[hidden] { display: none !important; }` so we also need the `!important` here to be able to override the default hidden behavior on the sphinx rendered scikit-learn.org. See: https://github.com/scikit-learn/scikit-learn/issues/21755 */display: inline-block !important;position: relative;}#sk-container-id-4 div.sk-text-repr-fallback {display: none;}</style><div id=\"sk-container-id-4\" class=\"sk-top-container\"><div class=\"sk-text-repr-fallback\"><pre>RandomForestClassifier()</pre><b>In a Jupyter environment, please rerun this cell to show the HTML representation or trust the notebook. <br />On GitHub, the HTML representation is unable to render, please try loading this page with nbviewer.org.</b></div><div class=\"sk-container\" hidden><div class=\"sk-item\"><div class=\"sk-estimator sk-toggleable\"><input class=\"sk-toggleable__control sk-hidden--visually\" id=\"sk-estimator-id-4\" type=\"checkbox\" checked><label for=\"sk-estimator-id-4\" class=\"sk-toggleable__label sk-toggleable__label-arrow\">RandomForestClassifier</label><div class=\"sk-toggleable__content\"><pre>RandomForestClassifier()</pre></div></div></div></div></div>"
      ],
      "text/plain": [
       "RandomForestClassifier()"
      ]
     },
     "execution_count": 130,
     "metadata": {},
     "output_type": "execute_result"
    }
   ],
   "source": [
    "model.fit(X_train,y_train)"
   ]
  },
  {
   "cell_type": "code",
   "execution_count": 137,
   "id": "2581594d",
   "metadata": {},
   "outputs": [],
   "source": [
    "y_pred = model.predict(X_test)"
   ]
  },
  {
   "cell_type": "code",
   "execution_count": 132,
   "id": "eedf4d31",
   "metadata": {},
   "outputs": [
    {
     "name": "stdout",
     "output_type": "stream",
     "text": [
      "[[142 156]\n",
      " [140 244]]\n",
      "              precision    recall  f1-score   support\n",
      "\n",
      "          -1       0.50      0.48      0.49       298\n",
      "           1       0.61      0.64      0.62       384\n",
      "\n",
      "    accuracy                           0.57       682\n",
      "   macro avg       0.56      0.56      0.56       682\n",
      "weighted avg       0.56      0.57      0.56       682\n",
      "\n",
      "0.5659824046920822\n"
     ]
    }
   ],
   "source": [
    "print(confusion_matrix(y_test,y_pred))\n",
    "print(classification_report(y_test,y_pred))\n",
    "print(accuracy_score(y_test, y_pred))"
   ]
  },
  {
   "cell_type": "code",
   "execution_count": null,
   "id": "e4c298b2",
   "metadata": {},
   "outputs": [],
   "source": []
  },
  {
   "cell_type": "code",
   "execution_count": 133,
   "id": "cfb1fb87",
   "metadata": {},
   "outputs": [],
   "source": [
    "from sklearn.preprocessing import RobustScaler"
   ]
  },
  {
   "cell_type": "code",
   "execution_count": 134,
   "id": "f2df6077",
   "metadata": {},
   "outputs": [],
   "source": [
    "scaler = RobustScaler()"
   ]
  },
  {
   "cell_type": "code",
   "execution_count": 135,
   "id": "e3fd55cc",
   "metadata": {},
   "outputs": [],
   "source": [
    "X_scaler = scaler.fit(X_train)\n",
    "X_train_scaled = X_scaler.transform(X_train)\n",
    "X_test_scaled = X_scaler.transform(X_test)"
   ]
  },
  {
   "cell_type": "code",
   "execution_count": 136,
   "id": "0d8ac9b8",
   "metadata": {},
   "outputs": [
    {
     "data": {
      "text/html": [
       "<style>#sk-container-id-5 {color: black;background-color: white;}#sk-container-id-5 pre{padding: 0;}#sk-container-id-5 div.sk-toggleable {background-color: white;}#sk-container-id-5 label.sk-toggleable__label {cursor: pointer;display: block;width: 100%;margin-bottom: 0;padding: 0.3em;box-sizing: border-box;text-align: center;}#sk-container-id-5 label.sk-toggleable__label-arrow:before {content: \"▸\";float: left;margin-right: 0.25em;color: #696969;}#sk-container-id-5 label.sk-toggleable__label-arrow:hover:before {color: black;}#sk-container-id-5 div.sk-estimator:hover label.sk-toggleable__label-arrow:before {color: black;}#sk-container-id-5 div.sk-toggleable__content {max-height: 0;max-width: 0;overflow: hidden;text-align: left;background-color: #f0f8ff;}#sk-container-id-5 div.sk-toggleable__content pre {margin: 0.2em;color: black;border-radius: 0.25em;background-color: #f0f8ff;}#sk-container-id-5 input.sk-toggleable__control:checked~div.sk-toggleable__content {max-height: 200px;max-width: 100%;overflow: auto;}#sk-container-id-5 input.sk-toggleable__control:checked~label.sk-toggleable__label-arrow:before {content: \"▾\";}#sk-container-id-5 div.sk-estimator input.sk-toggleable__control:checked~label.sk-toggleable__label {background-color: #d4ebff;}#sk-container-id-5 div.sk-label input.sk-toggleable__control:checked~label.sk-toggleable__label {background-color: #d4ebff;}#sk-container-id-5 input.sk-hidden--visually {border: 0;clip: rect(1px 1px 1px 1px);clip: rect(1px, 1px, 1px, 1px);height: 1px;margin: -1px;overflow: hidden;padding: 0;position: absolute;width: 1px;}#sk-container-id-5 div.sk-estimator {font-family: monospace;background-color: #f0f8ff;border: 1px dotted black;border-radius: 0.25em;box-sizing: border-box;margin-bottom: 0.5em;}#sk-container-id-5 div.sk-estimator:hover {background-color: #d4ebff;}#sk-container-id-5 div.sk-parallel-item::after {content: \"\";width: 100%;border-bottom: 1px solid gray;flex-grow: 1;}#sk-container-id-5 div.sk-label:hover label.sk-toggleable__label {background-color: #d4ebff;}#sk-container-id-5 div.sk-serial::before {content: \"\";position: absolute;border-left: 1px solid gray;box-sizing: border-box;top: 0;bottom: 0;left: 50%;z-index: 0;}#sk-container-id-5 div.sk-serial {display: flex;flex-direction: column;align-items: center;background-color: white;padding-right: 0.2em;padding-left: 0.2em;position: relative;}#sk-container-id-5 div.sk-item {position: relative;z-index: 1;}#sk-container-id-5 div.sk-parallel {display: flex;align-items: stretch;justify-content: center;background-color: white;position: relative;}#sk-container-id-5 div.sk-item::before, #sk-container-id-5 div.sk-parallel-item::before {content: \"\";position: absolute;border-left: 1px solid gray;box-sizing: border-box;top: 0;bottom: 0;left: 50%;z-index: -1;}#sk-container-id-5 div.sk-parallel-item {display: flex;flex-direction: column;z-index: 1;position: relative;background-color: white;}#sk-container-id-5 div.sk-parallel-item:first-child::after {align-self: flex-end;width: 50%;}#sk-container-id-5 div.sk-parallel-item:last-child::after {align-self: flex-start;width: 50%;}#sk-container-id-5 div.sk-parallel-item:only-child::after {width: 0;}#sk-container-id-5 div.sk-dashed-wrapped {border: 1px dashed gray;margin: 0 0.4em 0.5em 0.4em;box-sizing: border-box;padding-bottom: 0.4em;background-color: white;}#sk-container-id-5 div.sk-label label {font-family: monospace;font-weight: bold;display: inline-block;line-height: 1.2em;}#sk-container-id-5 div.sk-label-container {text-align: center;}#sk-container-id-5 div.sk-container {/* jupyter's `normalize.less` sets `[hidden] { display: none; }` but bootstrap.min.css set `[hidden] { display: none !important; }` so we also need the `!important` here to be able to override the default hidden behavior on the sphinx rendered scikit-learn.org. See: https://github.com/scikit-learn/scikit-learn/issues/21755 */display: inline-block !important;position: relative;}#sk-container-id-5 div.sk-text-repr-fallback {display: none;}</style><div id=\"sk-container-id-5\" class=\"sk-top-container\"><div class=\"sk-text-repr-fallback\"><pre>RandomForestClassifier()</pre><b>In a Jupyter environment, please rerun this cell to show the HTML representation or trust the notebook. <br />On GitHub, the HTML representation is unable to render, please try loading this page with nbviewer.org.</b></div><div class=\"sk-container\" hidden><div class=\"sk-item\"><div class=\"sk-estimator sk-toggleable\"><input class=\"sk-toggleable__control sk-hidden--visually\" id=\"sk-estimator-id-5\" type=\"checkbox\" checked><label for=\"sk-estimator-id-5\" class=\"sk-toggleable__label sk-toggleable__label-arrow\">RandomForestClassifier</label><div class=\"sk-toggleable__content\"><pre>RandomForestClassifier()</pre></div></div></div></div></div>"
      ],
      "text/plain": [
       "RandomForestClassifier()"
      ]
     },
     "execution_count": 136,
     "metadata": {},
     "output_type": "execute_result"
    }
   ],
   "source": [
    "model.fit(X_train,y_train)"
   ]
  },
  {
   "cell_type": "code",
   "execution_count": 138,
   "id": "9040f3bf",
   "metadata": {},
   "outputs": [],
   "source": [
    "y_pred = model.predict(X_test)"
   ]
  },
  {
   "cell_type": "code",
   "execution_count": 139,
   "id": "4cc506ec",
   "metadata": {},
   "outputs": [
    {
     "name": "stdout",
     "output_type": "stream",
     "text": [
      "[[139 159]\n",
      " [139 245]]\n",
      "              precision    recall  f1-score   support\n",
      "\n",
      "          -1       0.50      0.47      0.48       298\n",
      "           1       0.61      0.64      0.62       384\n",
      "\n",
      "    accuracy                           0.56       682\n",
      "   macro avg       0.55      0.55      0.55       682\n",
      "weighted avg       0.56      0.56      0.56       682\n",
      "\n",
      "0.5630498533724341\n"
     ]
    }
   ],
   "source": [
    "print(confusion_matrix(y_test,y_pred))\n",
    "print(classification_report(y_test,y_pred))\n",
    "print(accuracy_score(y_test, y_pred))"
   ]
  },
  {
   "cell_type": "code",
   "execution_count": 140,
   "id": "587ff325",
   "metadata": {},
   "outputs": [],
   "source": [
    "X_train, X_test, y_train, y_test = train_test_split(X,y,random_state=1, test_size=.3)"
   ]
  },
  {
   "cell_type": "code",
   "execution_count": 141,
   "id": "212331dd",
   "metadata": {},
   "outputs": [],
   "source": [
    "X_scaler = scaler.fit(X_train)\n",
    "X_train_scaled = X_scaler.transform(X_train)\n",
    "X_test_scaled = X_scaler.transform(X_test)"
   ]
  },
  {
   "cell_type": "code",
   "execution_count": 142,
   "id": "ac42445d",
   "metadata": {},
   "outputs": [
    {
     "data": {
      "text/html": [
       "<style>#sk-container-id-6 {color: black;background-color: white;}#sk-container-id-6 pre{padding: 0;}#sk-container-id-6 div.sk-toggleable {background-color: white;}#sk-container-id-6 label.sk-toggleable__label {cursor: pointer;display: block;width: 100%;margin-bottom: 0;padding: 0.3em;box-sizing: border-box;text-align: center;}#sk-container-id-6 label.sk-toggleable__label-arrow:before {content: \"▸\";float: left;margin-right: 0.25em;color: #696969;}#sk-container-id-6 label.sk-toggleable__label-arrow:hover:before {color: black;}#sk-container-id-6 div.sk-estimator:hover label.sk-toggleable__label-arrow:before {color: black;}#sk-container-id-6 div.sk-toggleable__content {max-height: 0;max-width: 0;overflow: hidden;text-align: left;background-color: #f0f8ff;}#sk-container-id-6 div.sk-toggleable__content pre {margin: 0.2em;color: black;border-radius: 0.25em;background-color: #f0f8ff;}#sk-container-id-6 input.sk-toggleable__control:checked~div.sk-toggleable__content {max-height: 200px;max-width: 100%;overflow: auto;}#sk-container-id-6 input.sk-toggleable__control:checked~label.sk-toggleable__label-arrow:before {content: \"▾\";}#sk-container-id-6 div.sk-estimator input.sk-toggleable__control:checked~label.sk-toggleable__label {background-color: #d4ebff;}#sk-container-id-6 div.sk-label input.sk-toggleable__control:checked~label.sk-toggleable__label {background-color: #d4ebff;}#sk-container-id-6 input.sk-hidden--visually {border: 0;clip: rect(1px 1px 1px 1px);clip: rect(1px, 1px, 1px, 1px);height: 1px;margin: -1px;overflow: hidden;padding: 0;position: absolute;width: 1px;}#sk-container-id-6 div.sk-estimator {font-family: monospace;background-color: #f0f8ff;border: 1px dotted black;border-radius: 0.25em;box-sizing: border-box;margin-bottom: 0.5em;}#sk-container-id-6 div.sk-estimator:hover {background-color: #d4ebff;}#sk-container-id-6 div.sk-parallel-item::after {content: \"\";width: 100%;border-bottom: 1px solid gray;flex-grow: 1;}#sk-container-id-6 div.sk-label:hover label.sk-toggleable__label {background-color: #d4ebff;}#sk-container-id-6 div.sk-serial::before {content: \"\";position: absolute;border-left: 1px solid gray;box-sizing: border-box;top: 0;bottom: 0;left: 50%;z-index: 0;}#sk-container-id-6 div.sk-serial {display: flex;flex-direction: column;align-items: center;background-color: white;padding-right: 0.2em;padding-left: 0.2em;position: relative;}#sk-container-id-6 div.sk-item {position: relative;z-index: 1;}#sk-container-id-6 div.sk-parallel {display: flex;align-items: stretch;justify-content: center;background-color: white;position: relative;}#sk-container-id-6 div.sk-item::before, #sk-container-id-6 div.sk-parallel-item::before {content: \"\";position: absolute;border-left: 1px solid gray;box-sizing: border-box;top: 0;bottom: 0;left: 50%;z-index: -1;}#sk-container-id-6 div.sk-parallel-item {display: flex;flex-direction: column;z-index: 1;position: relative;background-color: white;}#sk-container-id-6 div.sk-parallel-item:first-child::after {align-self: flex-end;width: 50%;}#sk-container-id-6 div.sk-parallel-item:last-child::after {align-self: flex-start;width: 50%;}#sk-container-id-6 div.sk-parallel-item:only-child::after {width: 0;}#sk-container-id-6 div.sk-dashed-wrapped {border: 1px dashed gray;margin: 0 0.4em 0.5em 0.4em;box-sizing: border-box;padding-bottom: 0.4em;background-color: white;}#sk-container-id-6 div.sk-label label {font-family: monospace;font-weight: bold;display: inline-block;line-height: 1.2em;}#sk-container-id-6 div.sk-label-container {text-align: center;}#sk-container-id-6 div.sk-container {/* jupyter's `normalize.less` sets `[hidden] { display: none; }` but bootstrap.min.css set `[hidden] { display: none !important; }` so we also need the `!important` here to be able to override the default hidden behavior on the sphinx rendered scikit-learn.org. See: https://github.com/scikit-learn/scikit-learn/issues/21755 */display: inline-block !important;position: relative;}#sk-container-id-6 div.sk-text-repr-fallback {display: none;}</style><div id=\"sk-container-id-6\" class=\"sk-top-container\"><div class=\"sk-text-repr-fallback\"><pre>RandomForestClassifier()</pre><b>In a Jupyter environment, please rerun this cell to show the HTML representation or trust the notebook. <br />On GitHub, the HTML representation is unable to render, please try loading this page with nbviewer.org.</b></div><div class=\"sk-container\" hidden><div class=\"sk-item\"><div class=\"sk-estimator sk-toggleable\"><input class=\"sk-toggleable__control sk-hidden--visually\" id=\"sk-estimator-id-6\" type=\"checkbox\" checked><label for=\"sk-estimator-id-6\" class=\"sk-toggleable__label sk-toggleable__label-arrow\">RandomForestClassifier</label><div class=\"sk-toggleable__content\"><pre>RandomForestClassifier()</pre></div></div></div></div></div>"
      ],
      "text/plain": [
       "RandomForestClassifier()"
      ]
     },
     "execution_count": 142,
     "metadata": {},
     "output_type": "execute_result"
    }
   ],
   "source": [
    "model.fit(X_train,y_train)"
   ]
  },
  {
   "cell_type": "code",
   "execution_count": 143,
   "id": "241fecd9",
   "metadata": {},
   "outputs": [],
   "source": [
    "y_pred = model.predict(X_test)"
   ]
  },
  {
   "cell_type": "code",
   "execution_count": 144,
   "id": "3ae0bb94",
   "metadata": {},
   "outputs": [
    {
     "name": "stdout",
     "output_type": "stream",
     "text": [
      "[[167 196]\n",
      " [165 291]]\n",
      "              precision    recall  f1-score   support\n",
      "\n",
      "          -1       0.50      0.46      0.48       363\n",
      "           1       0.60      0.64      0.62       456\n",
      "\n",
      "    accuracy                           0.56       819\n",
      "   macro avg       0.55      0.55      0.55       819\n",
      "weighted avg       0.56      0.56      0.56       819\n",
      "\n",
      "0.5592185592185592\n"
     ]
    }
   ],
   "source": [
    "print(confusion_matrix(y_test,y_pred))\n",
    "print(classification_report(y_test,y_pred))\n",
    "print(accuracy_score(y_test, y_pred))"
   ]
  },
  {
   "cell_type": "code",
   "execution_count": 146,
   "id": "f7d149a5",
   "metadata": {},
   "outputs": [],
   "source": [
    "from sklearn.preprocessing import MaxAbsScaler"
   ]
  },
  {
   "cell_type": "code",
   "execution_count": 147,
   "id": "1683284b",
   "metadata": {},
   "outputs": [],
   "source": [
    "scaler = MaxAbsScaler()"
   ]
  },
  {
   "cell_type": "code",
   "execution_count": 148,
   "id": "c56108a5",
   "metadata": {},
   "outputs": [],
   "source": [
    "X_scaler = scaler.fit(X_train)\n",
    "X_train_scaled = X_scaler.transform(X_train)\n",
    "X_test_scaled = X_scaler.transform(X_test)"
   ]
  },
  {
   "cell_type": "code",
   "execution_count": 149,
   "id": "e6bac72f",
   "metadata": {},
   "outputs": [
    {
     "data": {
      "text/html": [
       "<style>#sk-container-id-7 {color: black;background-color: white;}#sk-container-id-7 pre{padding: 0;}#sk-container-id-7 div.sk-toggleable {background-color: white;}#sk-container-id-7 label.sk-toggleable__label {cursor: pointer;display: block;width: 100%;margin-bottom: 0;padding: 0.3em;box-sizing: border-box;text-align: center;}#sk-container-id-7 label.sk-toggleable__label-arrow:before {content: \"▸\";float: left;margin-right: 0.25em;color: #696969;}#sk-container-id-7 label.sk-toggleable__label-arrow:hover:before {color: black;}#sk-container-id-7 div.sk-estimator:hover label.sk-toggleable__label-arrow:before {color: black;}#sk-container-id-7 div.sk-toggleable__content {max-height: 0;max-width: 0;overflow: hidden;text-align: left;background-color: #f0f8ff;}#sk-container-id-7 div.sk-toggleable__content pre {margin: 0.2em;color: black;border-radius: 0.25em;background-color: #f0f8ff;}#sk-container-id-7 input.sk-toggleable__control:checked~div.sk-toggleable__content {max-height: 200px;max-width: 100%;overflow: auto;}#sk-container-id-7 input.sk-toggleable__control:checked~label.sk-toggleable__label-arrow:before {content: \"▾\";}#sk-container-id-7 div.sk-estimator input.sk-toggleable__control:checked~label.sk-toggleable__label {background-color: #d4ebff;}#sk-container-id-7 div.sk-label input.sk-toggleable__control:checked~label.sk-toggleable__label {background-color: #d4ebff;}#sk-container-id-7 input.sk-hidden--visually {border: 0;clip: rect(1px 1px 1px 1px);clip: rect(1px, 1px, 1px, 1px);height: 1px;margin: -1px;overflow: hidden;padding: 0;position: absolute;width: 1px;}#sk-container-id-7 div.sk-estimator {font-family: monospace;background-color: #f0f8ff;border: 1px dotted black;border-radius: 0.25em;box-sizing: border-box;margin-bottom: 0.5em;}#sk-container-id-7 div.sk-estimator:hover {background-color: #d4ebff;}#sk-container-id-7 div.sk-parallel-item::after {content: \"\";width: 100%;border-bottom: 1px solid gray;flex-grow: 1;}#sk-container-id-7 div.sk-label:hover label.sk-toggleable__label {background-color: #d4ebff;}#sk-container-id-7 div.sk-serial::before {content: \"\";position: absolute;border-left: 1px solid gray;box-sizing: border-box;top: 0;bottom: 0;left: 50%;z-index: 0;}#sk-container-id-7 div.sk-serial {display: flex;flex-direction: column;align-items: center;background-color: white;padding-right: 0.2em;padding-left: 0.2em;position: relative;}#sk-container-id-7 div.sk-item {position: relative;z-index: 1;}#sk-container-id-7 div.sk-parallel {display: flex;align-items: stretch;justify-content: center;background-color: white;position: relative;}#sk-container-id-7 div.sk-item::before, #sk-container-id-7 div.sk-parallel-item::before {content: \"\";position: absolute;border-left: 1px solid gray;box-sizing: border-box;top: 0;bottom: 0;left: 50%;z-index: -1;}#sk-container-id-7 div.sk-parallel-item {display: flex;flex-direction: column;z-index: 1;position: relative;background-color: white;}#sk-container-id-7 div.sk-parallel-item:first-child::after {align-self: flex-end;width: 50%;}#sk-container-id-7 div.sk-parallel-item:last-child::after {align-self: flex-start;width: 50%;}#sk-container-id-7 div.sk-parallel-item:only-child::after {width: 0;}#sk-container-id-7 div.sk-dashed-wrapped {border: 1px dashed gray;margin: 0 0.4em 0.5em 0.4em;box-sizing: border-box;padding-bottom: 0.4em;background-color: white;}#sk-container-id-7 div.sk-label label {font-family: monospace;font-weight: bold;display: inline-block;line-height: 1.2em;}#sk-container-id-7 div.sk-label-container {text-align: center;}#sk-container-id-7 div.sk-container {/* jupyter's `normalize.less` sets `[hidden] { display: none; }` but bootstrap.min.css set `[hidden] { display: none !important; }` so we also need the `!important` here to be able to override the default hidden behavior on the sphinx rendered scikit-learn.org. See: https://github.com/scikit-learn/scikit-learn/issues/21755 */display: inline-block !important;position: relative;}#sk-container-id-7 div.sk-text-repr-fallback {display: none;}</style><div id=\"sk-container-id-7\" class=\"sk-top-container\"><div class=\"sk-text-repr-fallback\"><pre>RandomForestClassifier()</pre><b>In a Jupyter environment, please rerun this cell to show the HTML representation or trust the notebook. <br />On GitHub, the HTML representation is unable to render, please try loading this page with nbviewer.org.</b></div><div class=\"sk-container\" hidden><div class=\"sk-item\"><div class=\"sk-estimator sk-toggleable\"><input class=\"sk-toggleable__control sk-hidden--visually\" id=\"sk-estimator-id-7\" type=\"checkbox\" checked><label for=\"sk-estimator-id-7\" class=\"sk-toggleable__label sk-toggleable__label-arrow\">RandomForestClassifier</label><div class=\"sk-toggleable__content\"><pre>RandomForestClassifier()</pre></div></div></div></div></div>"
      ],
      "text/plain": [
       "RandomForestClassifier()"
      ]
     },
     "execution_count": 149,
     "metadata": {},
     "output_type": "execute_result"
    }
   ],
   "source": [
    "model.fit(X_train,y_train)"
   ]
  },
  {
   "cell_type": "code",
   "execution_count": 150,
   "id": "0d115eb9",
   "metadata": {},
   "outputs": [],
   "source": [
    "y_pred = model.predict(X_test)"
   ]
  },
  {
   "cell_type": "code",
   "execution_count": 151,
   "id": "908967cf",
   "metadata": {},
   "outputs": [
    {
     "name": "stdout",
     "output_type": "stream",
     "text": [
      "[[154 209]\n",
      " [164 292]]\n",
      "              precision    recall  f1-score   support\n",
      "\n",
      "          -1       0.48      0.42      0.45       363\n",
      "           1       0.58      0.64      0.61       456\n",
      "\n",
      "    accuracy                           0.54       819\n",
      "   macro avg       0.53      0.53      0.53       819\n",
      "weighted avg       0.54      0.54      0.54       819\n",
      "\n",
      "0.5445665445665445\n"
     ]
    }
   ],
   "source": [
    "print(confusion_matrix(y_test,y_pred))\n",
    "print(classification_report(y_test,y_pred))\n",
    "print(accuracy_score(y_test, y_pred))"
   ]
  },
  {
   "cell_type": "code",
   "execution_count": 155,
   "id": "9472419b",
   "metadata": {},
   "outputs": [
    {
     "name": "stdout",
     "output_type": "stream",
     "text": [
      "Collecting xgboost\n",
      "  Downloading xgboost-1.6.2-py3-none-win_amd64.whl (125.4 MB)\n",
      "     -------------------------------------- 125.4/125.4 MB 4.6 MB/s eta 0:00:00\n",
      "Requirement already satisfied: numpy in c:\\users\\dariu\\anaconda3\\lib\\site-packages (from xgboost) (1.21.5)\n",
      "Requirement already satisfied: scipy in c:\\users\\dariu\\anaconda3\\lib\\site-packages (from xgboost) (1.7.3)\n",
      "Installing collected packages: xgboost\n",
      "Successfully installed xgboost-1.6.2\n"
     ]
    }
   ],
   "source": [
    "!pip install xgboost"
   ]
  },
  {
   "cell_type": "code",
   "execution_count": 156,
   "id": "7d804cc4",
   "metadata": {},
   "outputs": [],
   "source": [
    "import xgboost as xgb"
   ]
  },
  {
   "cell_type": "code",
   "execution_count": 157,
   "id": "aa3363aa",
   "metadata": {},
   "outputs": [],
   "source": [
    "from xgboost import XGBClassifier"
   ]
  },
  {
   "cell_type": "code",
   "execution_count": 158,
   "id": "96c62a5a",
   "metadata": {},
   "outputs": [],
   "source": [
    "model = XGBClassifier()"
   ]
  },
  {
   "cell_type": "code",
   "execution_count": 159,
   "id": "0e600d19",
   "metadata": {},
   "outputs": [],
   "source": [
    "X_scaler = scaler.fit(X_train)\n",
    "X_train_scaled = X_scaler.transform(X_train)\n",
    "X_test_scaled = X_scaler.transform(X_test)"
   ]
  },
  {
   "cell_type": "code",
   "execution_count": 160,
   "id": "64086234",
   "metadata": {},
   "outputs": [
    {
     "ename": "ValueError",
     "evalue": "Invalid classes inferred from unique values of `y`.  Expected: [0 1], got [-1  1]",
     "output_type": "error",
     "traceback": [
      "\u001b[1;31m---------------------------------------------------------------------------\u001b[0m",
      "\u001b[1;31mValueError\u001b[0m                                Traceback (most recent call last)",
      "Input \u001b[1;32mIn [160]\u001b[0m, in \u001b[0;36m<cell line: 1>\u001b[1;34m()\u001b[0m\n\u001b[1;32m----> 1\u001b[0m \u001b[43mmodel\u001b[49m\u001b[38;5;241;43m.\u001b[39;49m\u001b[43mfit\u001b[49m\u001b[43m(\u001b[49m\u001b[43mX_train\u001b[49m\u001b[43m,\u001b[49m\u001b[43my_train\u001b[49m\u001b[43m)\u001b[49m\n",
      "File \u001b[1;32m~\\anaconda3\\lib\\site-packages\\xgboost\\core.py:575\u001b[0m, in \u001b[0;36m_deprecate_positional_args.<locals>.inner_f\u001b[1;34m(*args, **kwargs)\u001b[0m\n\u001b[0;32m    573\u001b[0m \u001b[38;5;28;01mfor\u001b[39;00m k, arg \u001b[38;5;129;01min\u001b[39;00m \u001b[38;5;28mzip\u001b[39m(sig\u001b[38;5;241m.\u001b[39mparameters, args):\n\u001b[0;32m    574\u001b[0m     kwargs[k] \u001b[38;5;241m=\u001b[39m arg\n\u001b[1;32m--> 575\u001b[0m \u001b[38;5;28;01mreturn\u001b[39;00m f(\u001b[38;5;241m*\u001b[39m\u001b[38;5;241m*\u001b[39mkwargs)\n",
      "File \u001b[1;32m~\\anaconda3\\lib\\site-packages\\xgboost\\sklearn.py:1357\u001b[0m, in \u001b[0;36mXGBClassifier.fit\u001b[1;34m(self, X, y, sample_weight, base_margin, eval_set, eval_metric, early_stopping_rounds, verbose, xgb_model, sample_weight_eval_set, base_margin_eval_set, feature_weights, callbacks)\u001b[0m\n\u001b[0;32m   1352\u001b[0m     expected_classes \u001b[38;5;241m=\u001b[39m np\u001b[38;5;241m.\u001b[39marange(\u001b[38;5;28mself\u001b[39m\u001b[38;5;241m.\u001b[39mn_classes_)\n\u001b[0;32m   1353\u001b[0m \u001b[38;5;28;01mif\u001b[39;00m (\n\u001b[0;32m   1354\u001b[0m     \u001b[38;5;28mself\u001b[39m\u001b[38;5;241m.\u001b[39mclasses_\u001b[38;5;241m.\u001b[39mshape \u001b[38;5;241m!=\u001b[39m expected_classes\u001b[38;5;241m.\u001b[39mshape\n\u001b[0;32m   1355\u001b[0m     \u001b[38;5;129;01mor\u001b[39;00m \u001b[38;5;129;01mnot\u001b[39;00m (\u001b[38;5;28mself\u001b[39m\u001b[38;5;241m.\u001b[39mclasses_ \u001b[38;5;241m==\u001b[39m expected_classes)\u001b[38;5;241m.\u001b[39mall()\n\u001b[0;32m   1356\u001b[0m ):\n\u001b[1;32m-> 1357\u001b[0m     \u001b[38;5;28;01mraise\u001b[39;00m \u001b[38;5;167;01mValueError\u001b[39;00m(\n\u001b[0;32m   1358\u001b[0m         \u001b[38;5;124mf\u001b[39m\u001b[38;5;124m\"\u001b[39m\u001b[38;5;124mInvalid classes inferred from unique values of `y`.  \u001b[39m\u001b[38;5;124m\"\u001b[39m\n\u001b[0;32m   1359\u001b[0m         \u001b[38;5;124mf\u001b[39m\u001b[38;5;124m\"\u001b[39m\u001b[38;5;124mExpected: \u001b[39m\u001b[38;5;132;01m{\u001b[39;00mexpected_classes\u001b[38;5;132;01m}\u001b[39;00m\u001b[38;5;124m, got \u001b[39m\u001b[38;5;132;01m{\u001b[39;00m\u001b[38;5;28mself\u001b[39m\u001b[38;5;241m.\u001b[39mclasses_\u001b[38;5;132;01m}\u001b[39;00m\u001b[38;5;124m\"\u001b[39m\n\u001b[0;32m   1360\u001b[0m     )\n\u001b[0;32m   1362\u001b[0m params \u001b[38;5;241m=\u001b[39m \u001b[38;5;28mself\u001b[39m\u001b[38;5;241m.\u001b[39mget_xgb_params()\n\u001b[0;32m   1364\u001b[0m \u001b[38;5;28;01mif\u001b[39;00m callable(\u001b[38;5;28mself\u001b[39m\u001b[38;5;241m.\u001b[39mobjective):\n",
      "\u001b[1;31mValueError\u001b[0m: Invalid classes inferred from unique values of `y`.  Expected: [0 1], got [-1  1]"
     ]
    }
   ],
   "source": [
    "model.fit(X_train,y_train)"
   ]
  },
  {
   "cell_type": "code",
   "execution_count": 183,
   "id": "c3133b4c",
   "metadata": {},
   "outputs": [
    {
     "data": {
      "text/plain": [
       " 1    1520\n",
       "-1    1207\n",
       "Name: home_win, dtype: int64"
      ]
     },
     "execution_count": 183,
     "metadata": {},
     "output_type": "execute_result"
    }
   ],
   "source": [
    "df4[\"home_win\"].value_counts()"
   ]
  },
  {
   "cell_type": "code",
   "execution_count": 166,
   "id": "43cffb78",
   "metadata": {},
   "outputs": [],
   "source": [
    "from imblearn.over_sampling import SMOTE"
   ]
  },
  {
   "cell_type": "code",
   "execution_count": 167,
   "id": "fe565c31",
   "metadata": {},
   "outputs": [],
   "source": [
    "from collections import Counter"
   ]
  },
  {
   "cell_type": "code",
   "execution_count": 169,
   "id": "07e205eb",
   "metadata": {},
   "outputs": [
    {
     "name": "stderr",
     "output_type": "stream",
     "text": [
      "C:\\Users\\dariu\\anaconda3\\lib\\site-packages\\imblearn\\utils\\_validation.py:586: FutureWarning: Pass sampling_strategy=      team_1_defensive_simple_rating_system  team_1_first_downs  \\\n",
      "0                                      -7.1                  59   \n",
      "1                                       2.1                  43   \n",
      "2                                     -13.6                  74   \n",
      "3                                       1.6                  63   \n",
      "4                                      -8.0                  52   \n",
      "...                                     ...                 ...   \n",
      "2733                                   -9.9                  69   \n",
      "2734                                   -8.2                  56   \n",
      "2735                                   10.8                  50   \n",
      "2736                                    4.5                  54   \n",
      "2737                                   -7.1                  59   \n",
      "\n",
      "      team_1_first_downs_from_penalties  team_1_fumbles  team_1_interceptions  \\\n",
      "0                                     7               1                     2   \n",
      "1                                     5               0                     4   \n",
      "2                                     7               0                     1   \n",
      "3                                     5               0                     2   \n",
      "4                                     8               1                     2   \n",
      "...                                 ...             ...                   ...   \n",
      "2733                                  4               0                     1   \n",
      "2734                                  8               2                     3   \n",
      "2735                                  7               3                     1   \n",
      "2736                                  7               2                     1   \n",
      "2737                                  7               1                     2   \n",
      "\n",
      "      team_1_margin_of_victory  team_1_offensive_simple_rating_system  \\\n",
      "0                         -1.0                                   -3.3   \n",
      "1                         -1.7                                   -4.0   \n",
      "2                          4.3                                    9.9   \n",
      "3                          0.7                                   28.5   \n",
      "4                         -3.3                                    0.1   \n",
      "...                        ...                                    ...   \n",
      "2733                      -8.3                                   -9.4   \n",
      "2734                      -7.7                                   -7.5   \n",
      "2735                       8.0                                   -2.8   \n",
      "2736                       2.3                                  -11.8   \n",
      "2737                      -1.0                                   -3.3   \n",
      "\n",
      "      team_1_pass_attempts  team_1_pass_completions  team_1_pass_first_downs  \\\n",
      "0                       92                       59                       23   \n",
      "1                       45                       23                       11   \n",
      "2                       92                       61                       34   \n",
      "3                      112                       66                       38   \n",
      "4                      107                       62                       27   \n",
      "...                    ...                      ...                      ...   \n",
      "2733                   145                       92                       40   \n",
      "2734                   103                       79                       34   \n",
      "2735                   103                       67                       32   \n",
      "2736                   106                       63                       32   \n",
      "2737                    92                       59                       23   \n",
      "\n",
      "      ...  team_2_rush_yards  team_2_rush_yards_per_attempt  \\\n",
      "0     ...                354                            4.7   \n",
      "1     ...                313                            4.0   \n",
      "2     ...                451                            4.4   \n",
      "3     ...                217                            3.4   \n",
      "4     ...                192                            3.3   \n",
      "...   ...                ...                            ...   \n",
      "2733  ...                217                            3.4   \n",
      "2734  ...                470                            4.9   \n",
      "2735  ...                381                            4.7   \n",
      "2736  ...                453                            4.5   \n",
      "2737  ...                354                            4.7   \n",
      "\n",
      "      team_2_simple_rating_system  team_2_strength_of_schedule  \\\n",
      "0                            -4.2                         -2.2   \n",
      "1                            -4.8                          2.2   \n",
      "2                            38.9                         26.9   \n",
      "3                            -9.0                         -6.0   \n",
      "4                            12.4                          6.1   \n",
      "...                           ...                          ...   \n",
      "2733                         -9.0                         -6.0   \n",
      "2734                        -11.3                        -10.9   \n",
      "2735                         12.5                         11.5   \n",
      "2736                         -4.8                         -8.2   \n",
      "2737                         -4.2                         -2.2   \n",
      "\n",
      "      team_2_turnovers  team_2_win_percentage  team_2_yards  \\\n",
      "0                    2                  0.667           972   \n",
      "1                    6                  0.500           994   \n",
      "2                    1                  1.000          1341   \n",
      "3                    7                  0.667           919   \n",
      "4                    2                  1.000          1066   \n",
      "...                ...                    ...           ...   \n",
      "2733                 7                  0.667           919   \n",
      "2734                 7                  0.333          1063   \n",
      "2735                 5                  0.667          1067   \n",
      "2736                 5                  0.333           971   \n",
      "2737                 2                  0.667           972   \n",
      "\n",
      "      team_2_yards_from_penalties  team_2_yards_per_play  home_win  \n",
      "0                             188                    5.3        -1  \n",
      "1                             153                    4.8         1  \n",
      "2                             173                    6.4        -1  \n",
      "3                             126                    5.3         1  \n",
      "4                              91                    6.4         1  \n",
      "...                           ...                    ...       ...  \n",
      "2733                          126                    5.3        -1  \n",
      "2734                           99                    5.9        -1  \n",
      "2735                          100                    5.7        -1  \n",
      "2736                          165                    5.1         1  \n",
      "2737                          188                    5.3        -1  \n",
      "\n",
      "[2727 rows x 69 columns] as keyword args. From version 0.9 passing these as positional arguments will result in an error\n",
      "  warnings.warn(\n"
     ]
    }
   ],
   "source": [
    "sm = SMOTE(df4)\n"
   ]
  },
  {
   "cell_type": "code",
   "execution_count": null,
   "id": "0c5f50d7",
   "metadata": {},
   "outputs": [],
   "source": []
  },
  {
   "cell_type": "code",
   "execution_count": null,
   "id": "1c4b8b42",
   "metadata": {},
   "outputs": [],
   "source": []
  },
  {
   "cell_type": "code",
   "execution_count": null,
   "id": "0805d509",
   "metadata": {},
   "outputs": [],
   "source": []
  },
  {
   "cell_type": "code",
   "execution_count": null,
   "id": "441fea51",
   "metadata": {},
   "outputs": [],
   "source": []
  },
  {
   "cell_type": "code",
   "execution_count": null,
   "id": "e526f88e",
   "metadata": {},
   "outputs": [],
   "source": []
  },
  {
   "cell_type": "code",
   "execution_count": null,
   "id": "e5e7f189",
   "metadata": {},
   "outputs": [],
   "source": []
  },
  {
   "cell_type": "code",
   "execution_count": null,
   "id": "e5a1e8d4",
   "metadata": {},
   "outputs": [],
   "source": []
  },
  {
   "cell_type": "code",
   "execution_count": null,
   "id": "d456f84a",
   "metadata": {},
   "outputs": [],
   "source": []
  },
  {
   "cell_type": "code",
   "execution_count": null,
   "id": "8bc49fc0",
   "metadata": {},
   "outputs": [],
   "source": []
  },
  {
   "cell_type": "code",
   "execution_count": null,
   "id": "44bc7ff1",
   "metadata": {},
   "outputs": [],
   "source": []
  },
  {
   "cell_type": "code",
   "execution_count": null,
   "id": "427b3cd9",
   "metadata": {},
   "outputs": [],
   "source": []
  }
 ],
 "metadata": {
  "kernelspec": {
   "display_name": "Python 3 (ipykernel)",
   "language": "python",
   "name": "python3"
  },
  "language_info": {
   "codemirror_mode": {
    "name": "ipython",
    "version": 3
   },
   "file_extension": ".py",
   "mimetype": "text/x-python",
   "name": "python",
   "nbconvert_exporter": "python",
   "pygments_lexer": "ipython3",
   "version": "3.9.12"
  }
 },
 "nbformat": 4,
 "nbformat_minor": 5
}
