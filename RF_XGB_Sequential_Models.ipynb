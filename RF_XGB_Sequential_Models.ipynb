{
 "cells": [
  {
   "cell_type": "code",
   "execution_count": 1,
   "id": "89291ccc",
   "metadata": {},
   "outputs": [],
   "source": [
    "# Import depedencies\n",
    "import pandas as pd\n",
    "import numpy as np\n",
    "from sklearn.model_selection import train_test_split\n",
    "from sklearn.preprocessing import StandardScaler\n",
    "from sklearn.ensemble import RandomForestClassifier\n",
    "from sklearn.metrics import confusion_matrix\n",
    "from sklearn.metrics import classification_report\n",
    "from sklearn.metrics import accuracy_score\n",
    "from sklearn.preprocessing import MinMaxScaler\n",
    "from sklearn.preprocessing import RobustScaler\n",
    "from sklearn.preprocessing import MaxAbsScaler\n",
    "from collections import Counter \n",
    "from imblearn.over_sampling import RandomOverSampler\n",
    "from xgboost import XGBClassifier\n",
    "from imblearn.metrics import classification_report_imbalanced\n",
    "import tensorflow as tf\n",
    "from tensorflow.keras.layers import Dense\n",
    "from tensorflow.keras.models import Sequential\n",
    "from matplotlib import cm"
   ]
  },
  {
   "cell_type": "markdown",
   "id": "621e554f",
   "metadata": {},
   "source": [
    "# Prepare the data"
   ]
  },
  {
   "cell_type": "code",
   "execution_count": 2,
   "id": "68e500e7",
   "metadata": {},
   "outputs": [],
   "source": [
    "# Read the CSV data and create a new dataframe\n",
    "\n",
    "df = pd.read_csv(\"Resources/match_team_data.csv\")"
   ]
  },
  {
   "cell_type": "code",
   "execution_count": 3,
   "id": "ddc5b203",
   "metadata": {},
   "outputs": [],
   "source": [
    "# Create a column to account for Wins, Losses, and Ties\n",
    "# Win = 1 , Loss = 0, Tie = -1\n",
    "\n",
    "df[\"home_win\"] = np.where(df[\"home_score\"] > df[\"away_score\"], 1, np.where(df[\"home_score\"] == df[\"away_score\"],0,-1))"
   ]
  },
  {
   "cell_type": "code",
   "execution_count": 4,
   "id": "7b407b31",
   "metadata": {},
   "outputs": [],
   "source": [
    "# Remove NaNs\n",
    "df2 = df.drop(columns=[\"team_2_post_season_result\",\"team_1_post_season_result\"])"
   ]
  },
  {
   "cell_type": "code",
   "execution_count": 5,
   "id": "0decb2f4",
   "metadata": {
    "scrolled": false
   },
   "outputs": [
    {
     "data": {
      "text/plain": [
       "winning_name                0.073937\n",
       "winning_abbr                0.073937\n",
       "losing_name                 0.073937\n",
       "losing_abbr                 0.073937\n",
       "away_score                  0.070223\n",
       "home_score                  0.070223\n",
       "boxscore                    0.000000\n",
       "team_2_margin_of_victory    0.000000\n",
       "team_2_pass_yards           0.000000\n",
       "team_2_pass_touchdowns      0.000000\n",
       "dtype: float64"
      ]
     },
     "execution_count": 5,
     "metadata": {},
     "output_type": "execute_result"
    }
   ],
   "source": [
    "# Check for NaNs\n",
    "df2.isna().mean().sort_values(ascending=False).head(10)"
   ]
  },
  {
   "cell_type": "code",
   "execution_count": 6,
   "id": "3f51c3af",
   "metadata": {},
   "outputs": [],
   "source": [
    "# Remove NaNs\n",
    "\n",
    "df3 = df2.dropna()"
   ]
  },
  {
   "cell_type": "code",
   "execution_count": 7,
   "id": "7205dc1b",
   "metadata": {
    "scrolled": false
   },
   "outputs": [
    {
     "data": {
      "text/plain": [
       "team_2_defensive_simple_rating_system    float64\n",
       "team_1_points_contributed_by_offense     float64\n",
       "away_name                                 object\n",
       "away_abbr                                 object\n",
       "home_name                                 object\n",
       "home_abbr                                 object\n",
       "team_2_abbreviation                       object\n",
       "losing_name                               object\n",
       "winning_abbr                              object\n",
       "losing_abbr                               object\n",
       "team_1_abbreviation                       object\n",
       "team_2_name                               object\n",
       "team_1_name                               object\n",
       "winning_name                              object\n",
       "boxscore                                  object\n",
       "dtype: object"
      ]
     },
     "execution_count": 7,
     "metadata": {},
     "output_type": "execute_result"
    }
   ],
   "source": [
    "# Check for categorical data\n",
    "\n",
    "df3.dtypes.sort_values().tail(15)"
   ]
  },
  {
   "cell_type": "code",
   "execution_count": 8,
   "id": "c731216b",
   "metadata": {
    "scrolled": false
   },
   "outputs": [
    {
     "name": "stderr",
     "output_type": "stream",
     "text": [
      "C:\\Users\\dariu\\AppData\\Local\\Temp\\ipykernel_12308\\750371541.py:3: SettingWithCopyWarning: \n",
      "A value is trying to be set on a copy of a slice from a DataFrame\n",
      "\n",
      "See the caveats in the documentation: https://pandas.pydata.org/pandas-docs/stable/user_guide/indexing.html#returning-a-view-versus-a-copy\n",
      "  df3.drop(columns=[\"away_name\",\"away_abbr\",\"home_name\",\"home_abbr\",\"team_2_abbreviation\",\"losing_name\",\"winning_abbr\",\"losing_abbr\",\"team_1_abbreviation\",\"team_2_name\",\"team_1_name\",\"winning_name\",\"boxscore\",\"year\",\"week\",\"home_score\",\"away_score\"], inplace=True)\n"
     ]
    }
   ],
   "source": [
    "# Remove categorical data\n",
    "\n",
    "df3.drop(columns=[\"away_name\",\"away_abbr\",\"home_name\",\"home_abbr\",\"team_2_abbreviation\",\"losing_name\",\"winning_abbr\",\"losing_abbr\",\"team_1_abbreviation\",\"team_2_name\",\"team_1_name\",\"winning_name\",\"boxscore\",\"year\",\"week\",\"home_score\",\"away_score\"], inplace=True)"
   ]
  },
  {
   "cell_type": "markdown",
   "id": "57a3c268",
   "metadata": {},
   "source": [
    "# Random Forest Model"
   ]
  },
  {
   "cell_type": "code",
   "execution_count": 9,
   "id": "fb54733a",
   "metadata": {},
   "outputs": [],
   "source": [
    "# Create target and features\n",
    "\n",
    "y = df3[\"home_win\"]\n",
    "X = df3.drop(columns=\"home_win\")"
   ]
  },
  {
   "cell_type": "code",
   "execution_count": 10,
   "id": "2cc14266",
   "metadata": {},
   "outputs": [],
   "source": [
    "# Apply Train_Test_Split\n",
    "\n",
    "X_train, X_test, y_train, y_test = train_test_split(X,y,random_state=1)"
   ]
  },
  {
   "cell_type": "code",
   "execution_count": 11,
   "id": "9d5d0adf",
   "metadata": {},
   "outputs": [],
   "source": [
    "# Set the scaler\n",
    "scaler = StandardScaler()"
   ]
  },
  {
   "cell_type": "code",
   "execution_count": 12,
   "id": "8ecff1fd",
   "metadata": {},
   "outputs": [],
   "source": [
    "# Fit and Transform the data\n",
    "X_scaler = scaler.fit(X_train)\n",
    "X_train_scaled = X_scaler.transform(X_train)\n",
    "X_test_scaled = X_scaler.transform(X_test)"
   ]
  },
  {
   "cell_type": "code",
   "execution_count": 13,
   "id": "78428600",
   "metadata": {},
   "outputs": [],
   "source": [
    "# Create the model\n",
    "model = RandomForestClassifier()"
   ]
  },
  {
   "cell_type": "code",
   "execution_count": 14,
   "id": "332ef776",
   "metadata": {},
   "outputs": [
    {
     "data": {
      "text/html": [
       "<style>#sk-container-id-1 {color: black;background-color: white;}#sk-container-id-1 pre{padding: 0;}#sk-container-id-1 div.sk-toggleable {background-color: white;}#sk-container-id-1 label.sk-toggleable__label {cursor: pointer;display: block;width: 100%;margin-bottom: 0;padding: 0.3em;box-sizing: border-box;text-align: center;}#sk-container-id-1 label.sk-toggleable__label-arrow:before {content: \"▸\";float: left;margin-right: 0.25em;color: #696969;}#sk-container-id-1 label.sk-toggleable__label-arrow:hover:before {color: black;}#sk-container-id-1 div.sk-estimator:hover label.sk-toggleable__label-arrow:before {color: black;}#sk-container-id-1 div.sk-toggleable__content {max-height: 0;max-width: 0;overflow: hidden;text-align: left;background-color: #f0f8ff;}#sk-container-id-1 div.sk-toggleable__content pre {margin: 0.2em;color: black;border-radius: 0.25em;background-color: #f0f8ff;}#sk-container-id-1 input.sk-toggleable__control:checked~div.sk-toggleable__content {max-height: 200px;max-width: 100%;overflow: auto;}#sk-container-id-1 input.sk-toggleable__control:checked~label.sk-toggleable__label-arrow:before {content: \"▾\";}#sk-container-id-1 div.sk-estimator input.sk-toggleable__control:checked~label.sk-toggleable__label {background-color: #d4ebff;}#sk-container-id-1 div.sk-label input.sk-toggleable__control:checked~label.sk-toggleable__label {background-color: #d4ebff;}#sk-container-id-1 input.sk-hidden--visually {border: 0;clip: rect(1px 1px 1px 1px);clip: rect(1px, 1px, 1px, 1px);height: 1px;margin: -1px;overflow: hidden;padding: 0;position: absolute;width: 1px;}#sk-container-id-1 div.sk-estimator {font-family: monospace;background-color: #f0f8ff;border: 1px dotted black;border-radius: 0.25em;box-sizing: border-box;margin-bottom: 0.5em;}#sk-container-id-1 div.sk-estimator:hover {background-color: #d4ebff;}#sk-container-id-1 div.sk-parallel-item::after {content: \"\";width: 100%;border-bottom: 1px solid gray;flex-grow: 1;}#sk-container-id-1 div.sk-label:hover label.sk-toggleable__label {background-color: #d4ebff;}#sk-container-id-1 div.sk-serial::before {content: \"\";position: absolute;border-left: 1px solid gray;box-sizing: border-box;top: 0;bottom: 0;left: 50%;z-index: 0;}#sk-container-id-1 div.sk-serial {display: flex;flex-direction: column;align-items: center;background-color: white;padding-right: 0.2em;padding-left: 0.2em;position: relative;}#sk-container-id-1 div.sk-item {position: relative;z-index: 1;}#sk-container-id-1 div.sk-parallel {display: flex;align-items: stretch;justify-content: center;background-color: white;position: relative;}#sk-container-id-1 div.sk-item::before, #sk-container-id-1 div.sk-parallel-item::before {content: \"\";position: absolute;border-left: 1px solid gray;box-sizing: border-box;top: 0;bottom: 0;left: 50%;z-index: -1;}#sk-container-id-1 div.sk-parallel-item {display: flex;flex-direction: column;z-index: 1;position: relative;background-color: white;}#sk-container-id-1 div.sk-parallel-item:first-child::after {align-self: flex-end;width: 50%;}#sk-container-id-1 div.sk-parallel-item:last-child::after {align-self: flex-start;width: 50%;}#sk-container-id-1 div.sk-parallel-item:only-child::after {width: 0;}#sk-container-id-1 div.sk-dashed-wrapped {border: 1px dashed gray;margin: 0 0.4em 0.5em 0.4em;box-sizing: border-box;padding-bottom: 0.4em;background-color: white;}#sk-container-id-1 div.sk-label label {font-family: monospace;font-weight: bold;display: inline-block;line-height: 1.2em;}#sk-container-id-1 div.sk-label-container {text-align: center;}#sk-container-id-1 div.sk-container {/* jupyter's `normalize.less` sets `[hidden] { display: none; }` but bootstrap.min.css set `[hidden] { display: none !important; }` so we also need the `!important` here to be able to override the default hidden behavior on the sphinx rendered scikit-learn.org. See: https://github.com/scikit-learn/scikit-learn/issues/21755 */display: inline-block !important;position: relative;}#sk-container-id-1 div.sk-text-repr-fallback {display: none;}</style><div id=\"sk-container-id-1\" class=\"sk-top-container\"><div class=\"sk-text-repr-fallback\"><pre>RandomForestClassifier()</pre><b>In a Jupyter environment, please rerun this cell to show the HTML representation or trust the notebook. <br />On GitHub, the HTML representation is unable to render, please try loading this page with nbviewer.org.</b></div><div class=\"sk-container\" hidden><div class=\"sk-item\"><div class=\"sk-estimator sk-toggleable\"><input class=\"sk-toggleable__control sk-hidden--visually\" id=\"sk-estimator-id-1\" type=\"checkbox\" checked><label for=\"sk-estimator-id-1\" class=\"sk-toggleable__label sk-toggleable__label-arrow\">RandomForestClassifier</label><div class=\"sk-toggleable__content\"><pre>RandomForestClassifier()</pre></div></div></div></div></div>"
      ],
      "text/plain": [
       "RandomForestClassifier()"
      ]
     },
     "execution_count": 14,
     "metadata": {},
     "output_type": "execute_result"
    }
   ],
   "source": [
    "# Fit the data\n",
    "model.fit(X_train,y_train)"
   ]
  },
  {
   "cell_type": "code",
   "execution_count": 15,
   "id": "a37b30f3",
   "metadata": {},
   "outputs": [],
   "source": [
    "# Make the predictions\n",
    "y_pred = model.predict(X_test)"
   ]
  },
  {
   "cell_type": "code",
   "execution_count": 16,
   "id": "51247f7b",
   "metadata": {
    "scrolled": true
   },
   "outputs": [
    {
     "name": "stdout",
     "output_type": "stream",
     "text": [
      "[[146 165]\n",
      " [129 246]]\n",
      "              precision    recall  f1-score   support\n",
      "\n",
      "          -1       0.53      0.47      0.50       311\n",
      "           1       0.60      0.66      0.63       375\n",
      "\n",
      "    accuracy                           0.57       686\n",
      "   macro avg       0.56      0.56      0.56       686\n",
      "weighted avg       0.57      0.57      0.57       686\n",
      "\n",
      "0.5714285714285714\n"
     ]
    }
   ],
   "source": [
    "# print the results\n",
    "\n",
    "print(confusion_matrix(y_test,y_pred))\n",
    "print(classification_report(y_test,y_pred))\n",
    "print(accuracy_score(y_test, y_pred))"
   ]
  },
  {
   "cell_type": "markdown",
   "id": "4ad42878",
   "metadata": {},
   "source": [
    "### Find feature importances"
   ]
  },
  {
   "cell_type": "code",
   "execution_count": 17,
   "id": "ff07e1f8",
   "metadata": {},
   "outputs": [],
   "source": [
    "# Create list of model feature names\n",
    "\n",
    "importances_names = model.feature_names_in_"
   ]
  },
  {
   "cell_type": "code",
   "execution_count": 18,
   "id": "e6876d58",
   "metadata": {},
   "outputs": [],
   "source": [
    "# View importances of features in Random Forest Model\n",
    "\n",
    "importances=model.feature_importances_\n",
    "indices = np.argsort(importances)[::-1]  # index value of a feature\n",
    "names = [X_train.columns[i] for i in indices]  # extract the title of that feature"
   ]
  },
  {
   "cell_type": "code",
   "execution_count": 19,
   "id": "2cadcf1a",
   "metadata": {
    "scrolled": false
   },
   "outputs": [
    {
     "data": {
      "text/plain": [
       "['team_1_penalties',\n",
       " 'team_2_plays',\n",
       " 'team_2_yards_from_penalties',\n",
       " 'team_2_pass_yards',\n",
       " 'team_2_pass_net_yards_per_attempt',\n",
       " 'team_1_yards_from_penalties',\n",
       " 'team_2_rank',\n",
       " 'team_2_penalties',\n",
       " 'team_2_yards_per_play',\n",
       " 'team_2_margin_of_victory']"
      ]
     },
     "execution_count": 19,
     "metadata": {},
     "output_type": "execute_result"
    }
   ],
   "source": [
    "names[:10]"
   ]
  },
  {
   "cell_type": "code",
   "execution_count": 20,
   "id": "7953f00c",
   "metadata": {},
   "outputs": [],
   "source": [
    "# Create df that displays importances\n",
    "\n",
    "importances_df = pd.DataFrame({\"feature_importances\": importances, \"feature_name\": importances_names})"
   ]
  },
  {
   "cell_type": "code",
   "execution_count": 21,
   "id": "42a0c643",
   "metadata": {
    "scrolled": true
   },
   "outputs": [],
   "source": [
    "# Sort importances by values\n",
    "\n",
    "importances_df = importances_df.sort_values(by=\"feature_importances\", ascending=True)"
   ]
  },
  {
   "cell_type": "code",
   "execution_count": 22,
   "id": "dc33c104",
   "metadata": {},
   "outputs": [
    {
     "data": {
      "image/png": "[encoded data removed]",
      "text/plain": [
       "<Figure size 720x1440 with 1 Axes>"
      ]
     },
     "metadata": {
      "needs_background": "light"
     },
     "output_type": "display_data"
    }
   ],
   "source": [
    "# Plot feature importance as vertical bar chart with a diverging color palette\n",
    "colors = cm.RdBu(np.linspace(.2, 1, importances_df.shape[0]))\n",
    "\n",
    "importances_df.plot.barh(\n",
    "    x=\"feature_name\", \n",
    "    y='feature_importances', \n",
    "    figsize=(10,20), \n",
    "    title=\"Random Forest Feature Importance\",\n",
    "    color=colors).title.set_size(30)"
   ]
  },
  {
   "cell_type": "code",
   "execution_count": 23,
   "id": "a07edc70",
   "metadata": {},
   "outputs": [],
   "source": [
    "# drop the 10 least important features\n",
    "df4 = df3.drop(columns=[\"team_1_games_played\",\"team_2_games_played\",\"team_2_losses\",\"team_1_wins\",\"team_2_wins\",\"team_1_losses\"])"
   ]
  },
  {
   "cell_type": "code",
   "execution_count": 24,
   "id": "b8c64ca6",
   "metadata": {
    "scrolled": true
   },
   "outputs": [
    {
     "data": {
      "text/html": [
       "<div>\n",
       "<style scoped>\n",
       "    .dataframe tbody tr th:only-of-type {\n",
       "        vertical-align: middle;\n",
       "    }\n",
       "\n",
       "    .dataframe tbody tr th {\n",
       "        vertical-align: top;\n",
       "    }\n",
       "\n",
       "    .dataframe thead th {\n",
       "        text-align: right;\n",
       "    }\n",
       "</style>\n",
       "<table border=\"1\" class=\"dataframe\">\n",
       "  <thead>\n",
       "    <tr style=\"text-align: right;\">\n",
       "      <th></th>\n",
       "      <th>feature_importances</th>\n",
       "    </tr>\n",
       "  </thead>\n",
       "  <tbody>\n",
       "    <tr>\n",
       "      <th>count</th>\n",
       "      <td>74.000000</td>\n",
       "    </tr>\n",
       "    <tr>\n",
       "      <th>mean</th>\n",
       "      <td>0.013514</td>\n",
       "    </tr>\n",
       "    <tr>\n",
       "      <th>std</th>\n",
       "      <td>0.003842</td>\n",
       "    </tr>\n",
       "    <tr>\n",
       "      <th>min</th>\n",
       "      <td>0.000000</td>\n",
       "    </tr>\n",
       "    <tr>\n",
       "      <th>25%</th>\n",
       "      <td>0.012411</td>\n",
       "    </tr>\n",
       "    <tr>\n",
       "      <th>50%</th>\n",
       "      <td>0.014542</td>\n",
       "    </tr>\n",
       "    <tr>\n",
       "      <th>75%</th>\n",
       "      <td>0.015962</td>\n",
       "    </tr>\n",
       "    <tr>\n",
       "      <th>max</th>\n",
       "      <td>0.019512</td>\n",
       "    </tr>\n",
       "  </tbody>\n",
       "</table>\n",
       "</div>"
      ],
      "text/plain": [
       "       feature_importances\n",
       "count            74.000000\n",
       "mean              0.013514\n",
       "std               0.003842\n",
       "min               0.000000\n",
       "25%               0.012411\n",
       "50%               0.014542\n",
       "75%               0.015962\n",
       "max               0.019512"
      ]
     },
     "execution_count": 24,
     "metadata": {},
     "output_type": "execute_result"
    }
   ],
   "source": [
    "# View importances details\n",
    "\n",
    "importances_df.describe()"
   ]
  },
  {
   "cell_type": "code",
   "execution_count": 25,
   "id": "632f0f12",
   "metadata": {
    "scrolled": true
   },
   "outputs": [],
   "source": [
    "# Drop unimportant features and create new df\n",
    "\n",
    "df4 = df3.drop(columns=[\"team_1_games_played\",\"team_2_games_played\",\"team_2_losses\",\"team_1_wins\",\"team_2_wins\",\"team_1_losses\"])"
   ]
  },
  {
   "cell_type": "code",
   "execution_count": 26,
   "id": "5cfea90c",
   "metadata": {},
   "outputs": [],
   "source": [
    "# Create new X and Y variables without dropped features\n",
    "\n",
    "y = df4[\"home_win\"]\n",
    "X = df4.drop(columns=\"home_win\")"
   ]
  },
  {
   "cell_type": "code",
   "execution_count": 27,
   "id": "8cdb0e74",
   "metadata": {},
   "outputs": [],
   "source": [
    "# Create X and Y train and test sets\n",
    "\n",
    "X_train, X_test, y_train, y_test = train_test_split(X,y,random_state=1)"
   ]
  },
  {
   "cell_type": "code",
   "execution_count": 28,
   "id": "026cde86",
   "metadata": {},
   "outputs": [],
   "source": [
    "# Scale X values\n",
    "\n",
    "X_scaler = scaler.fit(X_train)\n",
    "X_train_scaled = X_scaler.transform(X_train)\n",
    "X_test_scaled = X_scaler.transform(X_test)"
   ]
  },
  {
   "cell_type": "code",
   "execution_count": 29,
   "id": "347d992c",
   "metadata": {
    "scrolled": true
   },
   "outputs": [
    {
     "data": {
      "text/html": [
       "<style>#sk-container-id-2 {color: black;background-color: white;}#sk-container-id-2 pre{padding: 0;}#sk-container-id-2 div.sk-toggleable {background-color: white;}#sk-container-id-2 label.sk-toggleable__label {cursor: pointer;display: block;width: 100%;margin-bottom: 0;padding: 0.3em;box-sizing: border-box;text-align: center;}#sk-container-id-2 label.sk-toggleable__label-arrow:before {content: \"▸\";float: left;margin-right: 0.25em;color: #696969;}#sk-container-id-2 label.sk-toggleable__label-arrow:hover:before {color: black;}#sk-container-id-2 div.sk-estimator:hover label.sk-toggleable__label-arrow:before {color: black;}#sk-container-id-2 div.sk-toggleable__content {max-height: 0;max-width: 0;overflow: hidden;text-align: left;background-color: #f0f8ff;}#sk-container-id-2 div.sk-toggleable__content pre {margin: 0.2em;color: black;border-radius: 0.25em;background-color: #f0f8ff;}#sk-container-id-2 input.sk-toggleable__control:checked~div.sk-toggleable__content {max-height: 200px;max-width: 100%;overflow: auto;}#sk-container-id-2 input.sk-toggleable__control:checked~label.sk-toggleable__label-arrow:before {content: \"▾\";}#sk-container-id-2 div.sk-estimator input.sk-toggleable__control:checked~label.sk-toggleable__label {background-color: #d4ebff;}#sk-container-id-2 div.sk-label input.sk-toggleable__control:checked~label.sk-toggleable__label {background-color: #d4ebff;}#sk-container-id-2 input.sk-hidden--visually {border: 0;clip: rect(1px 1px 1px 1px);clip: rect(1px, 1px, 1px, 1px);height: 1px;margin: -1px;overflow: hidden;padding: 0;position: absolute;width: 1px;}#sk-container-id-2 div.sk-estimator {font-family: monospace;background-color: #f0f8ff;border: 1px dotted black;border-radius: 0.25em;box-sizing: border-box;margin-bottom: 0.5em;}#sk-container-id-2 div.sk-estimator:hover {background-color: #d4ebff;}#sk-container-id-2 div.sk-parallel-item::after {content: \"\";width: 100%;border-bottom: 1px solid gray;flex-grow: 1;}#sk-container-id-2 div.sk-label:hover label.sk-toggleable__label {background-color: #d4ebff;}#sk-container-id-2 div.sk-serial::before {content: \"\";position: absolute;border-left: 1px solid gray;box-sizing: border-box;top: 0;bottom: 0;left: 50%;z-index: 0;}#sk-container-id-2 div.sk-serial {display: flex;flex-direction: column;align-items: center;background-color: white;padding-right: 0.2em;padding-left: 0.2em;position: relative;}#sk-container-id-2 div.sk-item {position: relative;z-index: 1;}#sk-container-id-2 div.sk-parallel {display: flex;align-items: stretch;justify-content: center;background-color: white;position: relative;}#sk-container-id-2 div.sk-item::before, #sk-container-id-2 div.sk-parallel-item::before {content: \"\";position: absolute;border-left: 1px solid gray;box-sizing: border-box;top: 0;bottom: 0;left: 50%;z-index: -1;}#sk-container-id-2 div.sk-parallel-item {display: flex;flex-direction: column;z-index: 1;position: relative;background-color: white;}#sk-container-id-2 div.sk-parallel-item:first-child::after {align-self: flex-end;width: 50%;}#sk-container-id-2 div.sk-parallel-item:last-child::after {align-self: flex-start;width: 50%;}#sk-container-id-2 div.sk-parallel-item:only-child::after {width: 0;}#sk-container-id-2 div.sk-dashed-wrapped {border: 1px dashed gray;margin: 0 0.4em 0.5em 0.4em;box-sizing: border-box;padding-bottom: 0.4em;background-color: white;}#sk-container-id-2 div.sk-label label {font-family: monospace;font-weight: bold;display: inline-block;line-height: 1.2em;}#sk-container-id-2 div.sk-label-container {text-align: center;}#sk-container-id-2 div.sk-container {/* jupyter's `normalize.less` sets `[hidden] { display: none; }` but bootstrap.min.css set `[hidden] { display: none !important; }` so we also need the `!important` here to be able to override the default hidden behavior on the sphinx rendered scikit-learn.org. See: https://github.com/scikit-learn/scikit-learn/issues/21755 */display: inline-block !important;position: relative;}#sk-container-id-2 div.sk-text-repr-fallback {display: none;}</style><div id=\"sk-container-id-2\" class=\"sk-top-container\"><div class=\"sk-text-repr-fallback\"><pre>RandomForestClassifier()</pre><b>In a Jupyter environment, please rerun this cell to show the HTML representation or trust the notebook. <br />On GitHub, the HTML representation is unable to render, please try loading this page with nbviewer.org.</b></div><div class=\"sk-container\" hidden><div class=\"sk-item\"><div class=\"sk-estimator sk-toggleable\"><input class=\"sk-toggleable__control sk-hidden--visually\" id=\"sk-estimator-id-2\" type=\"checkbox\" checked><label for=\"sk-estimator-id-2\" class=\"sk-toggleable__label sk-toggleable__label-arrow\">RandomForestClassifier</label><div class=\"sk-toggleable__content\"><pre>RandomForestClassifier()</pre></div></div></div></div></div>"
      ],
      "text/plain": [
       "RandomForestClassifier()"
      ]
     },
     "execution_count": 29,
     "metadata": {},
     "output_type": "execute_result"
    }
   ],
   "source": [
    "# Fit model\n",
    "\n",
    "model.fit(X_train,y_train)"
   ]
  },
  {
   "cell_type": "code",
   "execution_count": 30,
   "id": "005d9db4",
   "metadata": {},
   "outputs": [],
   "source": [
    "# Create y predictions\n",
    "\n",
    "y_pred = model.predict(X_test)"
   ]
  },
  {
   "cell_type": "code",
   "execution_count": 31,
   "id": "9bf809d8",
   "metadata": {
    "scrolled": true
   },
   "outputs": [
    {
     "name": "stdout",
     "output_type": "stream",
     "text": [
      "[[144 167]\n",
      " [135 240]]\n",
      "              precision    recall  f1-score   support\n",
      "\n",
      "          -1       0.52      0.46      0.49       311\n",
      "           1       0.59      0.64      0.61       375\n",
      "\n",
      "    accuracy                           0.56       686\n",
      "   macro avg       0.55      0.55      0.55       686\n",
      "weighted avg       0.56      0.56      0.56       686\n",
      "\n",
      "0.5597667638483965\n"
     ]
    }
   ],
   "source": [
    "# View model metrics\n",
    "\n",
    "print(confusion_matrix(y_test,y_pred))\n",
    "print(classification_report(y_test,y_pred))\n",
    "print(accuracy_score(y_test, y_pred))"
   ]
  },
  {
   "cell_type": "markdown",
   "id": "9ebffe97",
   "metadata": {},
   "source": [
    "### Tune the scaler"
   ]
  },
  {
   "cell_type": "code",
   "execution_count": 32,
   "id": "53c03335",
   "metadata": {},
   "outputs": [],
   "source": [
    "# Set scaler\n",
    "\n",
    "scaler = MinMaxScaler()"
   ]
  },
  {
   "cell_type": "code",
   "execution_count": 33,
   "id": "d04db7ee",
   "metadata": {},
   "outputs": [],
   "source": [
    "# Fit X data to scaler\n",
    "\n",
    "X_scaler = scaler.fit(X_train)\n",
    "X_train_scaled = X_scaler.transform(X_train)\n",
    "X_test_scaled = X_scaler.transform(X_test)"
   ]
  },
  {
   "cell_type": "code",
   "execution_count": 34,
   "id": "eef32e7e",
   "metadata": {},
   "outputs": [
    {
     "data": {
      "text/html": [
       "<style>#sk-container-id-3 {color: black;background-color: white;}#sk-container-id-3 pre{padding: 0;}#sk-container-id-3 div.sk-toggleable {background-color: white;}#sk-container-id-3 label.sk-toggleable__label {cursor: pointer;display: block;width: 100%;margin-bottom: 0;padding: 0.3em;box-sizing: border-box;text-align: center;}#sk-container-id-3 label.sk-toggleable__label-arrow:before {content: \"▸\";float: left;margin-right: 0.25em;color: #696969;}#sk-container-id-3 label.sk-toggleable__label-arrow:hover:before {color: black;}#sk-container-id-3 div.sk-estimator:hover label.sk-toggleable__label-arrow:before {color: black;}#sk-container-id-3 div.sk-toggleable__content {max-height: 0;max-width: 0;overflow: hidden;text-align: left;background-color: #f0f8ff;}#sk-container-id-3 div.sk-toggleable__content pre {margin: 0.2em;color: black;border-radius: 0.25em;background-color: #f0f8ff;}#sk-container-id-3 input.sk-toggleable__control:checked~div.sk-toggleable__content {max-height: 200px;max-width: 100%;overflow: auto;}#sk-container-id-3 input.sk-toggleable__control:checked~label.sk-toggleable__label-arrow:before {content: \"▾\";}#sk-container-id-3 div.sk-estimator input.sk-toggleable__control:checked~label.sk-toggleable__label {background-color: #d4ebff;}#sk-container-id-3 div.sk-label input.sk-toggleable__control:checked~label.sk-toggleable__label {background-color: #d4ebff;}#sk-container-id-3 input.sk-hidden--visually {border: 0;clip: rect(1px 1px 1px 1px);clip: rect(1px, 1px, 1px, 1px);height: 1px;margin: -1px;overflow: hidden;padding: 0;position: absolute;width: 1px;}#sk-container-id-3 div.sk-estimator {font-family: monospace;background-color: #f0f8ff;border: 1px dotted black;border-radius: 0.25em;box-sizing: border-box;margin-bottom: 0.5em;}#sk-container-id-3 div.sk-estimator:hover {background-color: #d4ebff;}#sk-container-id-3 div.sk-parallel-item::after {content: \"\";width: 100%;border-bottom: 1px solid gray;flex-grow: 1;}#sk-container-id-3 div.sk-label:hover label.sk-toggleable__label {background-color: #d4ebff;}#sk-container-id-3 div.sk-serial::before {content: \"\";position: absolute;border-left: 1px solid gray;box-sizing: border-box;top: 0;bottom: 0;left: 50%;z-index: 0;}#sk-container-id-3 div.sk-serial {display: flex;flex-direction: column;align-items: center;background-color: white;padding-right: 0.2em;padding-left: 0.2em;position: relative;}#sk-container-id-3 div.sk-item {position: relative;z-index: 1;}#sk-container-id-3 div.sk-parallel {display: flex;align-items: stretch;justify-content: center;background-color: white;position: relative;}#sk-container-id-3 div.sk-item::before, #sk-container-id-3 div.sk-parallel-item::before {content: \"\";position: absolute;border-left: 1px solid gray;box-sizing: border-box;top: 0;bottom: 0;left: 50%;z-index: -1;}#sk-container-id-3 div.sk-parallel-item {display: flex;flex-direction: column;z-index: 1;position: relative;background-color: white;}#sk-container-id-3 div.sk-parallel-item:first-child::after {align-self: flex-end;width: 50%;}#sk-container-id-3 div.sk-parallel-item:last-child::after {align-self: flex-start;width: 50%;}#sk-container-id-3 div.sk-parallel-item:only-child::after {width: 0;}#sk-container-id-3 div.sk-dashed-wrapped {border: 1px dashed gray;margin: 0 0.4em 0.5em 0.4em;box-sizing: border-box;padding-bottom: 0.4em;background-color: white;}#sk-container-id-3 div.sk-label label {font-family: monospace;font-weight: bold;display: inline-block;line-height: 1.2em;}#sk-container-id-3 div.sk-label-container {text-align: center;}#sk-container-id-3 div.sk-container {/* jupyter's `normalize.less` sets `[hidden] { display: none; }` but bootstrap.min.css set `[hidden] { display: none !important; }` so we also need the `!important` here to be able to override the default hidden behavior on the sphinx rendered scikit-learn.org. See: https://github.com/scikit-learn/scikit-learn/issues/21755 */display: inline-block !important;position: relative;}#sk-container-id-3 div.sk-text-repr-fallback {display: none;}</style><div id=\"sk-container-id-3\" class=\"sk-top-container\"><div class=\"sk-text-repr-fallback\"><pre>RandomForestClassifier()</pre><b>In a Jupyter environment, please rerun this cell to show the HTML representation or trust the notebook. <br />On GitHub, the HTML representation is unable to render, please try loading this page with nbviewer.org.</b></div><div class=\"sk-container\" hidden><div class=\"sk-item\"><div class=\"sk-estimator sk-toggleable\"><input class=\"sk-toggleable__control sk-hidden--visually\" id=\"sk-estimator-id-3\" type=\"checkbox\" checked><label for=\"sk-estimator-id-3\" class=\"sk-toggleable__label sk-toggleable__label-arrow\">RandomForestClassifier</label><div class=\"sk-toggleable__content\"><pre>RandomForestClassifier()</pre></div></div></div></div></div>"
      ],
      "text/plain": [
       "RandomForestClassifier()"
      ]
     },
     "execution_count": 34,
     "metadata": {},
     "output_type": "execute_result"
    }
   ],
   "source": [
    "# Fit model\n",
    "\n",
    "model.fit(X_train,y_train)"
   ]
  },
  {
   "cell_type": "code",
   "execution_count": 35,
   "id": "2581594d",
   "metadata": {},
   "outputs": [],
   "source": [
    "# Create y predictions\n",
    "\n",
    "y_pred = model.predict(X_test)"
   ]
  },
  {
   "cell_type": "code",
   "execution_count": 36,
   "id": "eedf4d31",
   "metadata": {},
   "outputs": [
    {
     "name": "stdout",
     "output_type": "stream",
     "text": [
      "[[141 170]\n",
      " [128 247]]\n",
      "              precision    recall  f1-score   support\n",
      "\n",
      "          -1       0.52      0.45      0.49       311\n",
      "           1       0.59      0.66      0.62       375\n",
      "\n",
      "    accuracy                           0.57       686\n",
      "   macro avg       0.56      0.56      0.55       686\n",
      "weighted avg       0.56      0.57      0.56       686\n",
      "\n",
      "0.565597667638484\n"
     ]
    }
   ],
   "source": [
    "# View model metrics\n",
    "\n",
    "print(confusion_matrix(y_test,y_pred))\n",
    "print(classification_report(y_test,y_pred))\n",
    "print(accuracy_score(y_test, y_pred))"
   ]
  },
  {
   "cell_type": "code",
   "execution_count": 37,
   "id": "f2df6077",
   "metadata": {},
   "outputs": [],
   "source": [
    "# Try robust scaler\n",
    "\n",
    "scaler = RobustScaler()"
   ]
  },
  {
   "cell_type": "code",
   "execution_count": 38,
   "id": "e3fd55cc",
   "metadata": {},
   "outputs": [],
   "source": [
    "# Scale X data\n",
    "\n",
    "X_scaler = scaler.fit(X_train)\n",
    "X_train_scaled = X_scaler.transform(X_train)\n",
    "X_test_scaled = X_scaler.transform(X_test)"
   ]
  },
  {
   "cell_type": "code",
   "execution_count": 39,
   "id": "0d8ac9b8",
   "metadata": {},
   "outputs": [
    {
     "data": {
      "text/html": [
       "<style>#sk-container-id-4 {color: black;background-color: white;}#sk-container-id-4 pre{padding: 0;}#sk-container-id-4 div.sk-toggleable {background-color: white;}#sk-container-id-4 label.sk-toggleable__label {cursor: pointer;display: block;width: 100%;margin-bottom: 0;padding: 0.3em;box-sizing: border-box;text-align: center;}#sk-container-id-4 label.sk-toggleable__label-arrow:before {content: \"▸\";float: left;margin-right: 0.25em;color: #696969;}#sk-container-id-4 label.sk-toggleable__label-arrow:hover:before {color: black;}#sk-container-id-4 div.sk-estimator:hover label.sk-toggleable__label-arrow:before {color: black;}#sk-container-id-4 div.sk-toggleable__content {max-height: 0;max-width: 0;overflow: hidden;text-align: left;background-color: #f0f8ff;}#sk-container-id-4 div.sk-toggleable__content pre {margin: 0.2em;color: black;border-radius: 0.25em;background-color: #f0f8ff;}#sk-container-id-4 input.sk-toggleable__control:checked~div.sk-toggleable__content {max-height: 200px;max-width: 100%;overflow: auto;}#sk-container-id-4 input.sk-toggleable__control:checked~label.sk-toggleable__label-arrow:before {content: \"▾\";}#sk-container-id-4 div.sk-estimator input.sk-toggleable__control:checked~label.sk-toggleable__label {background-color: #d4ebff;}#sk-container-id-4 div.sk-label input.sk-toggleable__control:checked~label.sk-toggleable__label {background-color: #d4ebff;}#sk-container-id-4 input.sk-hidden--visually {border: 0;clip: rect(1px 1px 1px 1px);clip: rect(1px, 1px, 1px, 1px);height: 1px;margin: -1px;overflow: hidden;padding: 0;position: absolute;width: 1px;}#sk-container-id-4 div.sk-estimator {font-family: monospace;background-color: #f0f8ff;border: 1px dotted black;border-radius: 0.25em;box-sizing: border-box;margin-bottom: 0.5em;}#sk-container-id-4 div.sk-estimator:hover {background-color: #d4ebff;}#sk-container-id-4 div.sk-parallel-item::after {content: \"\";width: 100%;border-bottom: 1px solid gray;flex-grow: 1;}#sk-container-id-4 div.sk-label:hover label.sk-toggleable__label {background-color: #d4ebff;}#sk-container-id-4 div.sk-serial::before {content: \"\";position: absolute;border-left: 1px solid gray;box-sizing: border-box;top: 0;bottom: 0;left: 50%;z-index: 0;}#sk-container-id-4 div.sk-serial {display: flex;flex-direction: column;align-items: center;background-color: white;padding-right: 0.2em;padding-left: 0.2em;position: relative;}#sk-container-id-4 div.sk-item {position: relative;z-index: 1;}#sk-container-id-4 div.sk-parallel {display: flex;align-items: stretch;justify-content: center;background-color: white;position: relative;}#sk-container-id-4 div.sk-item::before, #sk-container-id-4 div.sk-parallel-item::before {content: \"\";position: absolute;border-left: 1px solid gray;box-sizing: border-box;top: 0;bottom: 0;left: 50%;z-index: -1;}#sk-container-id-4 div.sk-parallel-item {display: flex;flex-direction: column;z-index: 1;position: relative;background-color: white;}#sk-container-id-4 div.sk-parallel-item:first-child::after {align-self: flex-end;width: 50%;}#sk-container-id-4 div.sk-parallel-item:last-child::after {align-self: flex-start;width: 50%;}#sk-container-id-4 div.sk-parallel-item:only-child::after {width: 0;}#sk-container-id-4 div.sk-dashed-wrapped {border: 1px dashed gray;margin: 0 0.4em 0.5em 0.4em;box-sizing: border-box;padding-bottom: 0.4em;background-color: white;}#sk-container-id-4 div.sk-label label {font-family: monospace;font-weight: bold;display: inline-block;line-height: 1.2em;}#sk-container-id-4 div.sk-label-container {text-align: center;}#sk-container-id-4 div.sk-container {/* jupyter's `normalize.less` sets `[hidden] { display: none; }` but bootstrap.min.css set `[hidden] { display: none !important; }` so we also need the `!important` here to be able to override the default hidden behavior on the sphinx rendered scikit-learn.org. See: https://github.com/scikit-learn/scikit-learn/issues/21755 */display: inline-block !important;position: relative;}#sk-container-id-4 div.sk-text-repr-fallback {display: none;}</style><div id=\"sk-container-id-4\" class=\"sk-top-container\"><div class=\"sk-text-repr-fallback\"><pre>RandomForestClassifier()</pre><b>In a Jupyter environment, please rerun this cell to show the HTML representation or trust the notebook. <br />On GitHub, the HTML representation is unable to render, please try loading this page with nbviewer.org.</b></div><div class=\"sk-container\" hidden><div class=\"sk-item\"><div class=\"sk-estimator sk-toggleable\"><input class=\"sk-toggleable__control sk-hidden--visually\" id=\"sk-estimator-id-4\" type=\"checkbox\" checked><label for=\"sk-estimator-id-4\" class=\"sk-toggleable__label sk-toggleable__label-arrow\">RandomForestClassifier</label><div class=\"sk-toggleable__content\"><pre>RandomForestClassifier()</pre></div></div></div></div></div>"
      ],
      "text/plain": [
       "RandomForestClassifier()"
      ]
     },
     "execution_count": 39,
     "metadata": {},
     "output_type": "execute_result"
    }
   ],
   "source": [
    "# Fit model\n",
    "\n",
    "model.fit(X_train,y_train)"
   ]
  },
  {
   "cell_type": "code",
   "execution_count": 40,
   "id": "9040f3bf",
   "metadata": {},
   "outputs": [],
   "source": [
    "# Set y predictions \n",
    "\n",
    "y_pred = model.predict(X_test)"
   ]
  },
  {
   "cell_type": "code",
   "execution_count": 41,
   "id": "4cc506ec",
   "metadata": {},
   "outputs": [
    {
     "name": "stdout",
     "output_type": "stream",
     "text": [
      "[[146 165]\n",
      " [131 244]]\n",
      "              precision    recall  f1-score   support\n",
      "\n",
      "          -1       0.53      0.47      0.50       311\n",
      "           1       0.60      0.65      0.62       375\n",
      "\n",
      "    accuracy                           0.57       686\n",
      "   macro avg       0.56      0.56      0.56       686\n",
      "weighted avg       0.57      0.57      0.57       686\n",
      "\n",
      "0.5685131195335277\n"
     ]
    }
   ],
   "source": [
    "# View model metrics\n",
    "\n",
    "print(confusion_matrix(y_test,y_pred))\n",
    "print(classification_report(y_test,y_pred))\n",
    "print(accuracy_score(y_test, y_pred))"
   ]
  },
  {
   "cell_type": "code",
   "execution_count": 42,
   "id": "1683284b",
   "metadata": {},
   "outputs": [],
   "source": [
    "# Try MaxAbsScaler\n",
    "\n",
    "scaler = MaxAbsScaler()"
   ]
  },
  {
   "cell_type": "code",
   "execution_count": 43,
   "id": "c56108a5",
   "metadata": {},
   "outputs": [],
   "source": [
    "# Scale X data\n",
    "\n",
    "X_scaler = scaler.fit(X_train)\n",
    "X_train_scaled = X_scaler.transform(X_train)\n",
    "X_test_scaled = X_scaler.transform(X_test)"
   ]
  },
  {
   "cell_type": "code",
   "execution_count": 44,
   "id": "e6bac72f",
   "metadata": {},
   "outputs": [
    {
     "data": {
      "text/html": [
       "<style>#sk-container-id-5 {color: black;background-color: white;}#sk-container-id-5 pre{padding: 0;}#sk-container-id-5 div.sk-toggleable {background-color: white;}#sk-container-id-5 label.sk-toggleable__label {cursor: pointer;display: block;width: 100%;margin-bottom: 0;padding: 0.3em;box-sizing: border-box;text-align: center;}#sk-container-id-5 label.sk-toggleable__label-arrow:before {content: \"▸\";float: left;margin-right: 0.25em;color: #696969;}#sk-container-id-5 label.sk-toggleable__label-arrow:hover:before {color: black;}#sk-container-id-5 div.sk-estimator:hover label.sk-toggleable__label-arrow:before {color: black;}#sk-container-id-5 div.sk-toggleable__content {max-height: 0;max-width: 0;overflow: hidden;text-align: left;background-color: #f0f8ff;}#sk-container-id-5 div.sk-toggleable__content pre {margin: 0.2em;color: black;border-radius: 0.25em;background-color: #f0f8ff;}#sk-container-id-5 input.sk-toggleable__control:checked~div.sk-toggleable__content {max-height: 200px;max-width: 100%;overflow: auto;}#sk-container-id-5 input.sk-toggleable__control:checked~label.sk-toggleable__label-arrow:before {content: \"▾\";}#sk-container-id-5 div.sk-estimator input.sk-toggleable__control:checked~label.sk-toggleable__label {background-color: #d4ebff;}#sk-container-id-5 div.sk-label input.sk-toggleable__control:checked~label.sk-toggleable__label {background-color: #d4ebff;}#sk-container-id-5 input.sk-hidden--visually {border: 0;clip: rect(1px 1px 1px 1px);clip: rect(1px, 1px, 1px, 1px);height: 1px;margin: -1px;overflow: hidden;padding: 0;position: absolute;width: 1px;}#sk-container-id-5 div.sk-estimator {font-family: monospace;background-color: #f0f8ff;border: 1px dotted black;border-radius: 0.25em;box-sizing: border-box;margin-bottom: 0.5em;}#sk-container-id-5 div.sk-estimator:hover {background-color: #d4ebff;}#sk-container-id-5 div.sk-parallel-item::after {content: \"\";width: 100%;border-bottom: 1px solid gray;flex-grow: 1;}#sk-container-id-5 div.sk-label:hover label.sk-toggleable__label {background-color: #d4ebff;}#sk-container-id-5 div.sk-serial::before {content: \"\";position: absolute;border-left: 1px solid gray;box-sizing: border-box;top: 0;bottom: 0;left: 50%;z-index: 0;}#sk-container-id-5 div.sk-serial {display: flex;flex-direction: column;align-items: center;background-color: white;padding-right: 0.2em;padding-left: 0.2em;position: relative;}#sk-container-id-5 div.sk-item {position: relative;z-index: 1;}#sk-container-id-5 div.sk-parallel {display: flex;align-items: stretch;justify-content: center;background-color: white;position: relative;}#sk-container-id-5 div.sk-item::before, #sk-container-id-5 div.sk-parallel-item::before {content: \"\";position: absolute;border-left: 1px solid gray;box-sizing: border-box;top: 0;bottom: 0;left: 50%;z-index: -1;}#sk-container-id-5 div.sk-parallel-item {display: flex;flex-direction: column;z-index: 1;position: relative;background-color: white;}#sk-container-id-5 div.sk-parallel-item:first-child::after {align-self: flex-end;width: 50%;}#sk-container-id-5 div.sk-parallel-item:last-child::after {align-self: flex-start;width: 50%;}#sk-container-id-5 div.sk-parallel-item:only-child::after {width: 0;}#sk-container-id-5 div.sk-dashed-wrapped {border: 1px dashed gray;margin: 0 0.4em 0.5em 0.4em;box-sizing: border-box;padding-bottom: 0.4em;background-color: white;}#sk-container-id-5 div.sk-label label {font-family: monospace;font-weight: bold;display: inline-block;line-height: 1.2em;}#sk-container-id-5 div.sk-label-container {text-align: center;}#sk-container-id-5 div.sk-container {/* jupyter's `normalize.less` sets `[hidden] { display: none; }` but bootstrap.min.css set `[hidden] { display: none !important; }` so we also need the `!important` here to be able to override the default hidden behavior on the sphinx rendered scikit-learn.org. See: https://github.com/scikit-learn/scikit-learn/issues/21755 */display: inline-block !important;position: relative;}#sk-container-id-5 div.sk-text-repr-fallback {display: none;}</style><div id=\"sk-container-id-5\" class=\"sk-top-container\"><div class=\"sk-text-repr-fallback\"><pre>RandomForestClassifier()</pre><b>In a Jupyter environment, please rerun this cell to show the HTML representation or trust the notebook. <br />On GitHub, the HTML representation is unable to render, please try loading this page with nbviewer.org.</b></div><div class=\"sk-container\" hidden><div class=\"sk-item\"><div class=\"sk-estimator sk-toggleable\"><input class=\"sk-toggleable__control sk-hidden--visually\" id=\"sk-estimator-id-5\" type=\"checkbox\" checked><label for=\"sk-estimator-id-5\" class=\"sk-toggleable__label sk-toggleable__label-arrow\">RandomForestClassifier</label><div class=\"sk-toggleable__content\"><pre>RandomForestClassifier()</pre></div></div></div></div></div>"
      ],
      "text/plain": [
       "RandomForestClassifier()"
      ]
     },
     "execution_count": 44,
     "metadata": {},
     "output_type": "execute_result"
    }
   ],
   "source": [
    "# Fit model\n",
    "\n",
    "model.fit(X_train,y_train)"
   ]
  },
  {
   "cell_type": "code",
   "execution_count": 45,
   "id": "0d115eb9",
   "metadata": {},
   "outputs": [],
   "source": [
    "# Set y predictions\n",
    "\n",
    "y_pred = model.predict(X_test)"
   ]
  },
  {
   "cell_type": "code",
   "execution_count": 46,
   "id": "908967cf",
   "metadata": {},
   "outputs": [
    {
     "name": "stdout",
     "output_type": "stream",
     "text": [
      "[[140 171]\n",
      " [128 247]]\n",
      "              precision    recall  f1-score   support\n",
      "\n",
      "          -1       0.52      0.45      0.48       311\n",
      "           1       0.59      0.66      0.62       375\n",
      "\n",
      "    accuracy                           0.56       686\n",
      "   macro avg       0.56      0.55      0.55       686\n",
      "weighted avg       0.56      0.56      0.56       686\n",
      "\n",
      "0.5641399416909622\n"
     ]
    }
   ],
   "source": [
    "# View model metrics\n",
    "\n",
    "print(confusion_matrix(y_test,y_pred))\n",
    "print(classification_report(y_test,y_pred))\n",
    "print(accuracy_score(y_test, y_pred))"
   ]
  },
  {
   "cell_type": "markdown",
   "id": "2ee8db32",
   "metadata": {},
   "source": [
    "### Tune the train_test_split"
   ]
  },
  {
   "cell_type": "code",
   "execution_count": 47,
   "id": "587ff325",
   "metadata": {},
   "outputs": [],
   "source": [
    "# Split X and Y data\n",
    "\n",
    "X_train, X_test, y_train, y_test = train_test_split(X,y,random_state=1, test_size=.3)"
   ]
  },
  {
   "cell_type": "code",
   "execution_count": 48,
   "id": "212331dd",
   "metadata": {},
   "outputs": [],
   "source": [
    "# Scale X data\n",
    "\n",
    "X_scaler = scaler.fit(X_train)\n",
    "X_train_scaled = X_scaler.transform(X_train)\n",
    "X_test_scaled = X_scaler.transform(X_test)"
   ]
  },
  {
   "cell_type": "code",
   "execution_count": 49,
   "id": "ac42445d",
   "metadata": {},
   "outputs": [
    {
     "data": {
      "text/html": [
       "<style>#sk-container-id-6 {color: black;background-color: white;}#sk-container-id-6 pre{padding: 0;}#sk-container-id-6 div.sk-toggleable {background-color: white;}#sk-container-id-6 label.sk-toggleable__label {cursor: pointer;display: block;width: 100%;margin-bottom: 0;padding: 0.3em;box-sizing: border-box;text-align: center;}#sk-container-id-6 label.sk-toggleable__label-arrow:before {content: \"▸\";float: left;margin-right: 0.25em;color: #696969;}#sk-container-id-6 label.sk-toggleable__label-arrow:hover:before {color: black;}#sk-container-id-6 div.sk-estimator:hover label.sk-toggleable__label-arrow:before {color: black;}#sk-container-id-6 div.sk-toggleable__content {max-height: 0;max-width: 0;overflow: hidden;text-align: left;background-color: #f0f8ff;}#sk-container-id-6 div.sk-toggleable__content pre {margin: 0.2em;color: black;border-radius: 0.25em;background-color: #f0f8ff;}#sk-container-id-6 input.sk-toggleable__control:checked~div.sk-toggleable__content {max-height: 200px;max-width: 100%;overflow: auto;}#sk-container-id-6 input.sk-toggleable__control:checked~label.sk-toggleable__label-arrow:before {content: \"▾\";}#sk-container-id-6 div.sk-estimator input.sk-toggleable__control:checked~label.sk-toggleable__label {background-color: #d4ebff;}#sk-container-id-6 div.sk-label input.sk-toggleable__control:checked~label.sk-toggleable__label {background-color: #d4ebff;}#sk-container-id-6 input.sk-hidden--visually {border: 0;clip: rect(1px 1px 1px 1px);clip: rect(1px, 1px, 1px, 1px);height: 1px;margin: -1px;overflow: hidden;padding: 0;position: absolute;width: 1px;}#sk-container-id-6 div.sk-estimator {font-family: monospace;background-color: #f0f8ff;border: 1px dotted black;border-radius: 0.25em;box-sizing: border-box;margin-bottom: 0.5em;}#sk-container-id-6 div.sk-estimator:hover {background-color: #d4ebff;}#sk-container-id-6 div.sk-parallel-item::after {content: \"\";width: 100%;border-bottom: 1px solid gray;flex-grow: 1;}#sk-container-id-6 div.sk-label:hover label.sk-toggleable__label {background-color: #d4ebff;}#sk-container-id-6 div.sk-serial::before {content: \"\";position: absolute;border-left: 1px solid gray;box-sizing: border-box;top: 0;bottom: 0;left: 50%;z-index: 0;}#sk-container-id-6 div.sk-serial {display: flex;flex-direction: column;align-items: center;background-color: white;padding-right: 0.2em;padding-left: 0.2em;position: relative;}#sk-container-id-6 div.sk-item {position: relative;z-index: 1;}#sk-container-id-6 div.sk-parallel {display: flex;align-items: stretch;justify-content: center;background-color: white;position: relative;}#sk-container-id-6 div.sk-item::before, #sk-container-id-6 div.sk-parallel-item::before {content: \"\";position: absolute;border-left: 1px solid gray;box-sizing: border-box;top: 0;bottom: 0;left: 50%;z-index: -1;}#sk-container-id-6 div.sk-parallel-item {display: flex;flex-direction: column;z-index: 1;position: relative;background-color: white;}#sk-container-id-6 div.sk-parallel-item:first-child::after {align-self: flex-end;width: 50%;}#sk-container-id-6 div.sk-parallel-item:last-child::after {align-self: flex-start;width: 50%;}#sk-container-id-6 div.sk-parallel-item:only-child::after {width: 0;}#sk-container-id-6 div.sk-dashed-wrapped {border: 1px dashed gray;margin: 0 0.4em 0.5em 0.4em;box-sizing: border-box;padding-bottom: 0.4em;background-color: white;}#sk-container-id-6 div.sk-label label {font-family: monospace;font-weight: bold;display: inline-block;line-height: 1.2em;}#sk-container-id-6 div.sk-label-container {text-align: center;}#sk-container-id-6 div.sk-container {/* jupyter's `normalize.less` sets `[hidden] { display: none; }` but bootstrap.min.css set `[hidden] { display: none !important; }` so we also need the `!important` here to be able to override the default hidden behavior on the sphinx rendered scikit-learn.org. See: https://github.com/scikit-learn/scikit-learn/issues/21755 */display: inline-block !important;position: relative;}#sk-container-id-6 div.sk-text-repr-fallback {display: none;}</style><div id=\"sk-container-id-6\" class=\"sk-top-container\"><div class=\"sk-text-repr-fallback\"><pre>RandomForestClassifier()</pre><b>In a Jupyter environment, please rerun this cell to show the HTML representation or trust the notebook. <br />On GitHub, the HTML representation is unable to render, please try loading this page with nbviewer.org.</b></div><div class=\"sk-container\" hidden><div class=\"sk-item\"><div class=\"sk-estimator sk-toggleable\"><input class=\"sk-toggleable__control sk-hidden--visually\" id=\"sk-estimator-id-6\" type=\"checkbox\" checked><label for=\"sk-estimator-id-6\" class=\"sk-toggleable__label sk-toggleable__label-arrow\">RandomForestClassifier</label><div class=\"sk-toggleable__content\"><pre>RandomForestClassifier()</pre></div></div></div></div></div>"
      ],
      "text/plain": [
       "RandomForestClassifier()"
      ]
     },
     "execution_count": 49,
     "metadata": {},
     "output_type": "execute_result"
    }
   ],
   "source": [
    "# Fit model\n",
    "\n",
    "model.fit(X_train,y_train)"
   ]
  },
  {
   "cell_type": "code",
   "execution_count": 50,
   "id": "241fecd9",
   "metadata": {},
   "outputs": [],
   "source": [
    "# Set y predictions\n",
    "\n",
    "y_pred = model.predict(X_test)"
   ]
  },
  {
   "cell_type": "code",
   "execution_count": 51,
   "id": "3ae0bb94",
   "metadata": {},
   "outputs": [
    {
     "name": "stdout",
     "output_type": "stream",
     "text": [
      "[[178 193]\n",
      " [168 284]]\n",
      "              precision    recall  f1-score   support\n",
      "\n",
      "          -1       0.51      0.48      0.50       371\n",
      "           1       0.60      0.63      0.61       452\n",
      "\n",
      "    accuracy                           0.56       823\n",
      "   macro avg       0.55      0.55      0.55       823\n",
      "weighted avg       0.56      0.56      0.56       823\n",
      "\n",
      "0.5613608748481167\n"
     ]
    }
   ],
   "source": [
    "# View model metrics\n",
    "\n",
    "print(confusion_matrix(y_test,y_pred))\n",
    "print(classification_report(y_test,y_pred))\n",
    "print(accuracy_score(y_test, y_pred))"
   ]
  },
  {
   "cell_type": "markdown",
   "id": "dd0ca76b",
   "metadata": {},
   "source": [
    "### Tune imbalancedness"
   ]
  },
  {
   "cell_type": "code",
   "execution_count": 52,
   "id": "0c5f50d7",
   "metadata": {},
   "outputs": [
    {
     "data": {
      "text/plain": [
       "Counter({-1: 844, 1: 1076})"
      ]
     },
     "execution_count": 52,
     "metadata": {},
     "output_type": "execute_result"
    }
   ],
   "source": [
    "# Use Counter to test training data for imbalancedness\n",
    "\n",
    "Counter(y_train)"
   ]
  },
  {
   "cell_type": "code",
   "execution_count": 53,
   "id": "1c4b8b42",
   "metadata": {},
   "outputs": [],
   "source": [
    "# Set model\n",
    "\n",
    "ros = RandomOverSampler(random_state=1)"
   ]
  },
  {
   "cell_type": "code",
   "execution_count": 54,
   "id": "0805d509",
   "metadata": {},
   "outputs": [],
   "source": [
    "# Fit model sampler\n",
    "\n",
    "X_train_oversampled,y_train_oversampled = ros.fit_resample(X_train, y_train) "
   ]
  },
  {
   "cell_type": "code",
   "execution_count": 55,
   "id": "441fea51",
   "metadata": {},
   "outputs": [
    {
     "data": {
      "text/html": [
       "<style>#sk-container-id-7 {color: black;background-color: white;}#sk-container-id-7 pre{padding: 0;}#sk-container-id-7 div.sk-toggleable {background-color: white;}#sk-container-id-7 label.sk-toggleable__label {cursor: pointer;display: block;width: 100%;margin-bottom: 0;padding: 0.3em;box-sizing: border-box;text-align: center;}#sk-container-id-7 label.sk-toggleable__label-arrow:before {content: \"▸\";float: left;margin-right: 0.25em;color: #696969;}#sk-container-id-7 label.sk-toggleable__label-arrow:hover:before {color: black;}#sk-container-id-7 div.sk-estimator:hover label.sk-toggleable__label-arrow:before {color: black;}#sk-container-id-7 div.sk-toggleable__content {max-height: 0;max-width: 0;overflow: hidden;text-align: left;background-color: #f0f8ff;}#sk-container-id-7 div.sk-toggleable__content pre {margin: 0.2em;color: black;border-radius: 0.25em;background-color: #f0f8ff;}#sk-container-id-7 input.sk-toggleable__control:checked~div.sk-toggleable__content {max-height: 200px;max-width: 100%;overflow: auto;}#sk-container-id-7 input.sk-toggleable__control:checked~label.sk-toggleable__label-arrow:before {content: \"▾\";}#sk-container-id-7 div.sk-estimator input.sk-toggleable__control:checked~label.sk-toggleable__label {background-color: #d4ebff;}#sk-container-id-7 div.sk-label input.sk-toggleable__control:checked~label.sk-toggleable__label {background-color: #d4ebff;}#sk-container-id-7 input.sk-hidden--visually {border: 0;clip: rect(1px 1px 1px 1px);clip: rect(1px, 1px, 1px, 1px);height: 1px;margin: -1px;overflow: hidden;padding: 0;position: absolute;width: 1px;}#sk-container-id-7 div.sk-estimator {font-family: monospace;background-color: #f0f8ff;border: 1px dotted black;border-radius: 0.25em;box-sizing: border-box;margin-bottom: 0.5em;}#sk-container-id-7 div.sk-estimator:hover {background-color: #d4ebff;}#sk-container-id-7 div.sk-parallel-item::after {content: \"\";width: 100%;border-bottom: 1px solid gray;flex-grow: 1;}#sk-container-id-7 div.sk-label:hover label.sk-toggleable__label {background-color: #d4ebff;}#sk-container-id-7 div.sk-serial::before {content: \"\";position: absolute;border-left: 1px solid gray;box-sizing: border-box;top: 0;bottom: 0;left: 50%;z-index: 0;}#sk-container-id-7 div.sk-serial {display: flex;flex-direction: column;align-items: center;background-color: white;padding-right: 0.2em;padding-left: 0.2em;position: relative;}#sk-container-id-7 div.sk-item {position: relative;z-index: 1;}#sk-container-id-7 div.sk-parallel {display: flex;align-items: stretch;justify-content: center;background-color: white;position: relative;}#sk-container-id-7 div.sk-item::before, #sk-container-id-7 div.sk-parallel-item::before {content: \"\";position: absolute;border-left: 1px solid gray;box-sizing: border-box;top: 0;bottom: 0;left: 50%;z-index: -1;}#sk-container-id-7 div.sk-parallel-item {display: flex;flex-direction: column;z-index: 1;position: relative;background-color: white;}#sk-container-id-7 div.sk-parallel-item:first-child::after {align-self: flex-end;width: 50%;}#sk-container-id-7 div.sk-parallel-item:last-child::after {align-self: flex-start;width: 50%;}#sk-container-id-7 div.sk-parallel-item:only-child::after {width: 0;}#sk-container-id-7 div.sk-dashed-wrapped {border: 1px dashed gray;margin: 0 0.4em 0.5em 0.4em;box-sizing: border-box;padding-bottom: 0.4em;background-color: white;}#sk-container-id-7 div.sk-label label {font-family: monospace;font-weight: bold;display: inline-block;line-height: 1.2em;}#sk-container-id-7 div.sk-label-container {text-align: center;}#sk-container-id-7 div.sk-container {/* jupyter's `normalize.less` sets `[hidden] { display: none; }` but bootstrap.min.css set `[hidden] { display: none !important; }` so we also need the `!important` here to be able to override the default hidden behavior on the sphinx rendered scikit-learn.org. See: https://github.com/scikit-learn/scikit-learn/issues/21755 */display: inline-block !important;position: relative;}#sk-container-id-7 div.sk-text-repr-fallback {display: none;}</style><div id=\"sk-container-id-7\" class=\"sk-top-container\"><div class=\"sk-text-repr-fallback\"><pre>RandomForestClassifier()</pre><b>In a Jupyter environment, please rerun this cell to show the HTML representation or trust the notebook. <br />On GitHub, the HTML representation is unable to render, please try loading this page with nbviewer.org.</b></div><div class=\"sk-container\" hidden><div class=\"sk-item\"><div class=\"sk-estimator sk-toggleable\"><input class=\"sk-toggleable__control sk-hidden--visually\" id=\"sk-estimator-id-7\" type=\"checkbox\" checked><label for=\"sk-estimator-id-7\" class=\"sk-toggleable__label sk-toggleable__label-arrow\">RandomForestClassifier</label><div class=\"sk-toggleable__content\"><pre>RandomForestClassifier()</pre></div></div></div></div></div>"
      ],
      "text/plain": [
       "RandomForestClassifier()"
      ]
     },
     "execution_count": 55,
     "metadata": {},
     "output_type": "execute_result"
    }
   ],
   "source": [
    "# Fit model\n",
    "\n",
    "model.fit(X_train_oversampled,y_train_oversampled)"
   ]
  },
  {
   "cell_type": "code",
   "execution_count": 56,
   "id": "e526f88e",
   "metadata": {},
   "outputs": [],
   "source": [
    "# Make predictions\n",
    "\n",
    "y_pred = model.predict(X_test)"
   ]
  },
  {
   "cell_type": "code",
   "execution_count": 57,
   "id": "e5e7f189",
   "metadata": {},
   "outputs": [
    {
     "name": "stdout",
     "output_type": "stream",
     "text": [
      "[[193 178]\n",
      " [182 270]]\n",
      "                   pre       rec       spe        f1       geo       iba       sup\n",
      "\n",
      "         -1       0.51      0.52      0.60      0.52      0.56      0.31       371\n",
      "          1       0.60      0.60      0.52      0.60      0.56      0.31       452\n",
      "\n",
      "avg / total       0.56      0.56      0.55      0.56      0.56      0.31       823\n",
      "\n",
      "0.5625759416767923\n"
     ]
    }
   ],
   "source": [
    "# View model metrics\n",
    "\n",
    "print(confusion_matrix(y_test,y_pred))\n",
    "print(classification_report_imbalanced(y_test,y_pred))\n",
    "print(accuracy_score(y_test, y_pred))"
   ]
  },
  {
   "cell_type": "markdown",
   "id": "7f4b1ea7",
   "metadata": {},
   "source": [
    "# xgBoost Model"
   ]
  },
  {
   "cell_type": "markdown",
   "id": "c11a4422",
   "metadata": {},
   "source": [
    "### Prepare the data"
   ]
  },
  {
   "cell_type": "code",
   "execution_count": 58,
   "id": "0a44842b",
   "metadata": {},
   "outputs": [],
   "source": [
    "# Create a new df for the model to adjust for the binary target\n",
    "\n",
    "df5 = pd.read_csv(\"Resources/match_team_data.csv\")"
   ]
  },
  {
   "cell_type": "code",
   "execution_count": 59,
   "id": "6730b701",
   "metadata": {},
   "outputs": [],
   "source": [
    "# Create a column to account for Wins, Losses, and Ties\n",
    "\n",
    "df5[\"home_win\"] = np.where(df[\"home_score\"] > df[\"away_score\"], 1,0)"
   ]
  },
  {
   "cell_type": "code",
   "execution_count": 60,
   "id": "6aec1726",
   "metadata": {},
   "outputs": [],
   "source": [
    "# Remove NaNs\n",
    "\n",
    "df5 = df5.drop(columns=[\"team_2_post_season_result\",\"team_1_post_season_result\"])"
   ]
  },
  {
   "cell_type": "code",
   "execution_count": 61,
   "id": "4e0f5a23",
   "metadata": {},
   "outputs": [],
   "source": [
    "df6 = df5.dropna()"
   ]
  },
  {
   "cell_type": "code",
   "execution_count": 62,
   "id": "16b49434",
   "metadata": {},
   "outputs": [
    {
     "name": "stderr",
     "output_type": "stream",
     "text": [
      "C:\\Users\\dariu\\AppData\\Local\\Temp\\ipykernel_12308\\4186728455.py:3: SettingWithCopyWarning: \n",
      "A value is trying to be set on a copy of a slice from a DataFrame\n",
      "\n",
      "See the caveats in the documentation: https://pandas.pydata.org/pandas-docs/stable/user_guide/indexing.html#returning-a-view-versus-a-copy\n",
      "  df6.drop(columns=[\"away_name\",\"away_abbr\",\"home_name\",\"home_abbr\",\"team_2_abbreviation\",\"losing_name\",\"winning_abbr\",\"losing_abbr\",\"team_1_abbreviation\",\"team_2_name\",\"team_1_name\",\"winning_name\",\"boxscore\",\"year\",\"week\",\"home_score\",\"away_score\"], inplace=True)\n"
     ]
    }
   ],
   "source": [
    "# Remove categorical data\n",
    "\n",
    "df6.drop(columns=[\"away_name\",\"away_abbr\",\"home_name\",\"home_abbr\",\"team_2_abbreviation\",\"losing_name\",\"winning_abbr\",\"losing_abbr\",\"team_1_abbreviation\",\"team_2_name\",\"team_1_name\",\"winning_name\",\"boxscore\",\"year\",\"week\",\"home_score\",\"away_score\"], inplace=True)"
   ]
  },
  {
   "cell_type": "code",
   "execution_count": 63,
   "id": "7c57cc74",
   "metadata": {},
   "outputs": [],
   "source": [
    "# Create target and features\n",
    "\n",
    "y = df6[\"home_win\"]\n",
    "X = df6.drop(columns=\"home_win\")"
   ]
  },
  {
   "cell_type": "code",
   "execution_count": 64,
   "id": "692e1ea4",
   "metadata": {},
   "outputs": [],
   "source": [
    "# Apply Train_Test_Split\n",
    "\n",
    "X_train, X_test, y_train, y_test = train_test_split(X,y,random_state=1)"
   ]
  },
  {
   "cell_type": "code",
   "execution_count": 65,
   "id": "85dd235e",
   "metadata": {},
   "outputs": [],
   "source": [
    "# Set the scaler\n",
    "\n",
    "scaler = StandardScaler()"
   ]
  },
  {
   "cell_type": "code",
   "execution_count": 66,
   "id": "e44a92f2",
   "metadata": {},
   "outputs": [],
   "source": [
    "# Fit and Transform the data\n",
    "\n",
    "X_scaler = scaler.fit(X_train)\n",
    "X_train_scaled = X_scaler.transform(X_train)\n",
    "X_test_scaled = X_scaler.transform(X_test)"
   ]
  },
  {
   "cell_type": "code",
   "execution_count": 67,
   "id": "d96959d0",
   "metadata": {},
   "outputs": [],
   "source": [
    "# Create the XGB model\n",
    "\n",
    "model = XGBClassifier()"
   ]
  },
  {
   "cell_type": "code",
   "execution_count": 68,
   "id": "6378b99d",
   "metadata": {},
   "outputs": [
    {
     "data": {
      "text/html": [
       "<style>#sk-container-id-8 {color: black;background-color: white;}#sk-container-id-8 pre{padding: 0;}#sk-container-id-8 div.sk-toggleable {background-color: white;}#sk-container-id-8 label.sk-toggleable__label {cursor: pointer;display: block;width: 100%;margin-bottom: 0;padding: 0.3em;box-sizing: border-box;text-align: center;}#sk-container-id-8 label.sk-toggleable__label-arrow:before {content: \"▸\";float: left;margin-right: 0.25em;color: #696969;}#sk-container-id-8 label.sk-toggleable__label-arrow:hover:before {color: black;}#sk-container-id-8 div.sk-estimator:hover label.sk-toggleable__label-arrow:before {color: black;}#sk-container-id-8 div.sk-toggleable__content {max-height: 0;max-width: 0;overflow: hidden;text-align: left;background-color: #f0f8ff;}#sk-container-id-8 div.sk-toggleable__content pre {margin: 0.2em;color: black;border-radius: 0.25em;background-color: #f0f8ff;}#sk-container-id-8 input.sk-toggleable__control:checked~div.sk-toggleable__content {max-height: 200px;max-width: 100%;overflow: auto;}#sk-container-id-8 input.sk-toggleable__control:checked~label.sk-toggleable__label-arrow:before {content: \"▾\";}#sk-container-id-8 div.sk-estimator input.sk-toggleable__control:checked~label.sk-toggleable__label {background-color: #d4ebff;}#sk-container-id-8 div.sk-label input.sk-toggleable__control:checked~label.sk-toggleable__label {background-color: #d4ebff;}#sk-container-id-8 input.sk-hidden--visually {border: 0;clip: rect(1px 1px 1px 1px);clip: rect(1px, 1px, 1px, 1px);height: 1px;margin: -1px;overflow: hidden;padding: 0;position: absolute;width: 1px;}#sk-container-id-8 div.sk-estimator {font-family: monospace;background-color: #f0f8ff;border: 1px dotted black;border-radius: 0.25em;box-sizing: border-box;margin-bottom: 0.5em;}#sk-container-id-8 div.sk-estimator:hover {background-color: #d4ebff;}#sk-container-id-8 div.sk-parallel-item::after {content: \"\";width: 100%;border-bottom: 1px solid gray;flex-grow: 1;}#sk-container-id-8 div.sk-label:hover label.sk-toggleable__label {background-color: #d4ebff;}#sk-container-id-8 div.sk-serial::before {content: \"\";position: absolute;border-left: 1px solid gray;box-sizing: border-box;top: 0;bottom: 0;left: 50%;z-index: 0;}#sk-container-id-8 div.sk-serial {display: flex;flex-direction: column;align-items: center;background-color: white;padding-right: 0.2em;padding-left: 0.2em;position: relative;}#sk-container-id-8 div.sk-item {position: relative;z-index: 1;}#sk-container-id-8 div.sk-parallel {display: flex;align-items: stretch;justify-content: center;background-color: white;position: relative;}#sk-container-id-8 div.sk-item::before, #sk-container-id-8 div.sk-parallel-item::before {content: \"\";position: absolute;border-left: 1px solid gray;box-sizing: border-box;top: 0;bottom: 0;left: 50%;z-index: -1;}#sk-container-id-8 div.sk-parallel-item {display: flex;flex-direction: column;z-index: 1;position: relative;background-color: white;}#sk-container-id-8 div.sk-parallel-item:first-child::after {align-self: flex-end;width: 50%;}#sk-container-id-8 div.sk-parallel-item:last-child::after {align-self: flex-start;width: 50%;}#sk-container-id-8 div.sk-parallel-item:only-child::after {width: 0;}#sk-container-id-8 div.sk-dashed-wrapped {border: 1px dashed gray;margin: 0 0.4em 0.5em 0.4em;box-sizing: border-box;padding-bottom: 0.4em;background-color: white;}#sk-container-id-8 div.sk-label label {font-family: monospace;font-weight: bold;display: inline-block;line-height: 1.2em;}#sk-container-id-8 div.sk-label-container {text-align: center;}#sk-container-id-8 div.sk-container {/* jupyter's `normalize.less` sets `[hidden] { display: none; }` but bootstrap.min.css set `[hidden] { display: none !important; }` so we also need the `!important` here to be able to override the default hidden behavior on the sphinx rendered scikit-learn.org. See: https://github.com/scikit-learn/scikit-learn/issues/21755 */display: inline-block !important;position: relative;}#sk-container-id-8 div.sk-text-repr-fallback {display: none;}</style><div id=\"sk-container-id-8\" class=\"sk-top-container\"><div class=\"sk-text-repr-fallback\"><pre>XGBClassifier(base_score=0.5, booster=&#x27;gbtree&#x27;, callbacks=None,\n",
       "              colsample_bylevel=1, colsample_bynode=1, colsample_bytree=1,\n",
       "              early_stopping_rounds=None, enable_categorical=False,\n",
       "              eval_metric=None, gamma=0, gpu_id=-1, grow_policy=&#x27;depthwise&#x27;,\n",
       "              importance_type=None, interaction_constraints=&#x27;&#x27;,\n",
       "              learning_rate=0.300000012, max_bin=256, max_cat_to_onehot=4,\n",
       "              max_delta_step=0, max_depth=6, max_leaves=0, min_child_weight=1,\n",
       "              missing=nan, monotone_constraints=&#x27;()&#x27;, n_estimators=100,\n",
       "              n_jobs=0, num_parallel_tree=1, predictor=&#x27;auto&#x27;, random_state=0,\n",
       "              reg_alpha=0, reg_lambda=1, ...)</pre><b>In a Jupyter environment, please rerun this cell to show the HTML representation or trust the notebook. <br />On GitHub, the HTML representation is unable to render, please try loading this page with nbviewer.org.</b></div><div class=\"sk-container\" hidden><div class=\"sk-item\"><div class=\"sk-estimator sk-toggleable\"><input class=\"sk-toggleable__control sk-hidden--visually\" id=\"sk-estimator-id-8\" type=\"checkbox\" checked><label for=\"sk-estimator-id-8\" class=\"sk-toggleable__label sk-toggleable__label-arrow\">XGBClassifier</label><div class=\"sk-toggleable__content\"><pre>XGBClassifier(base_score=0.5, booster=&#x27;gbtree&#x27;, callbacks=None,\n",
       "              colsample_bylevel=1, colsample_bynode=1, colsample_bytree=1,\n",
       "              early_stopping_rounds=None, enable_categorical=False,\n",
       "              eval_metric=None, gamma=0, gpu_id=-1, grow_policy=&#x27;depthwise&#x27;,\n",
       "              importance_type=None, interaction_constraints=&#x27;&#x27;,\n",
       "              learning_rate=0.300000012, max_bin=256, max_cat_to_onehot=4,\n",
       "              max_delta_step=0, max_depth=6, max_leaves=0, min_child_weight=1,\n",
       "              missing=nan, monotone_constraints=&#x27;()&#x27;, n_estimators=100,\n",
       "              n_jobs=0, num_parallel_tree=1, predictor=&#x27;auto&#x27;, random_state=0,\n",
       "              reg_alpha=0, reg_lambda=1, ...)</pre></div></div></div></div></div>"
      ],
      "text/plain": [
       "XGBClassifier(base_score=0.5, booster='gbtree', callbacks=None,\n",
       "              colsample_bylevel=1, colsample_bynode=1, colsample_bytree=1,\n",
       "              early_stopping_rounds=None, enable_categorical=False,\n",
       "              eval_metric=None, gamma=0, gpu_id=-1, grow_policy='depthwise',\n",
       "              importance_type=None, interaction_constraints='',\n",
       "              learning_rate=0.300000012, max_bin=256, max_cat_to_onehot=4,\n",
       "              max_delta_step=0, max_depth=6, max_leaves=0, min_child_weight=1,\n",
       "              missing=nan, monotone_constraints='()', n_estimators=100,\n",
       "              n_jobs=0, num_parallel_tree=1, predictor='auto', random_state=0,\n",
       "              reg_alpha=0, reg_lambda=1, ...)"
      ]
     },
     "execution_count": 68,
     "metadata": {},
     "output_type": "execute_result"
    }
   ],
   "source": [
    "# Fit the data\n",
    "\n",
    "model.fit(X_train,y_train)"
   ]
  },
  {
   "cell_type": "code",
   "execution_count": 69,
   "id": "cefcbfed",
   "metadata": {},
   "outputs": [],
   "source": [
    "# Make the predictions\n",
    "\n",
    "y_pred = model.predict(X_test)"
   ]
  },
  {
   "cell_type": "code",
   "execution_count": 70,
   "id": "9435464e",
   "metadata": {},
   "outputs": [
    {
     "name": "stdout",
     "output_type": "stream",
     "text": [
      "[[150 161]\n",
      " [137 238]]\n",
      "              precision    recall  f1-score   support\n",
      "\n",
      "           0       0.52      0.48      0.50       311\n",
      "           1       0.60      0.63      0.61       375\n",
      "\n",
      "    accuracy                           0.57       686\n",
      "   macro avg       0.56      0.56      0.56       686\n",
      "weighted avg       0.56      0.57      0.56       686\n",
      "\n",
      "0.565597667638484\n"
     ]
    }
   ],
   "source": [
    "# print the results\n",
    "\n",
    "print(confusion_matrix(y_test,y_pred))\n",
    "print(classification_report(y_test,y_pred))\n",
    "print(accuracy_score(y_test, y_pred))"
   ]
  },
  {
   "cell_type": "markdown",
   "id": "21c1df50",
   "metadata": {},
   "source": [
    "### Tune imbalancedness"
   ]
  },
  {
   "cell_type": "code",
   "execution_count": 71,
   "id": "65506cec",
   "metadata": {},
   "outputs": [
    {
     "data": {
      "text/plain": [
       "Counter({1: 1153, 0: 904})"
      ]
     },
     "execution_count": 71,
     "metadata": {},
     "output_type": "execute_result"
    }
   ],
   "source": [
    "# Use Counter to test training data for imbalancedness\n",
    "\n",
    "Counter(y_train)"
   ]
  },
  {
   "cell_type": "code",
   "execution_count": 72,
   "id": "4f5d2e82",
   "metadata": {},
   "outputs": [],
   "source": [
    "# Fit model sampler\n",
    "\n",
    "X_train_oversampled,y_train_oversampled = ros.fit_resample(X_train, y_train) "
   ]
  },
  {
   "cell_type": "code",
   "execution_count": 73,
   "id": "64d0e54e",
   "metadata": {},
   "outputs": [
    {
     "data": {
      "text/html": [
       "<style>#sk-container-id-9 {color: black;background-color: white;}#sk-container-id-9 pre{padding: 0;}#sk-container-id-9 div.sk-toggleable {background-color: white;}#sk-container-id-9 label.sk-toggleable__label {cursor: pointer;display: block;width: 100%;margin-bottom: 0;padding: 0.3em;box-sizing: border-box;text-align: center;}#sk-container-id-9 label.sk-toggleable__label-arrow:before {content: \"▸\";float: left;margin-right: 0.25em;color: #696969;}#sk-container-id-9 label.sk-toggleable__label-arrow:hover:before {color: black;}#sk-container-id-9 div.sk-estimator:hover label.sk-toggleable__label-arrow:before {color: black;}#sk-container-id-9 div.sk-toggleable__content {max-height: 0;max-width: 0;overflow: hidden;text-align: left;background-color: #f0f8ff;}#sk-container-id-9 div.sk-toggleable__content pre {margin: 0.2em;color: black;border-radius: 0.25em;background-color: #f0f8ff;}#sk-container-id-9 input.sk-toggleable__control:checked~div.sk-toggleable__content {max-height: 200px;max-width: 100%;overflow: auto;}#sk-container-id-9 input.sk-toggleable__control:checked~label.sk-toggleable__label-arrow:before {content: \"▾\";}#sk-container-id-9 div.sk-estimator input.sk-toggleable__control:checked~label.sk-toggleable__label {background-color: #d4ebff;}#sk-container-id-9 div.sk-label input.sk-toggleable__control:checked~label.sk-toggleable__label {background-color: #d4ebff;}#sk-container-id-9 input.sk-hidden--visually {border: 0;clip: rect(1px 1px 1px 1px);clip: rect(1px, 1px, 1px, 1px);height: 1px;margin: -1px;overflow: hidden;padding: 0;position: absolute;width: 1px;}#sk-container-id-9 div.sk-estimator {font-family: monospace;background-color: #f0f8ff;border: 1px dotted black;border-radius: 0.25em;box-sizing: border-box;margin-bottom: 0.5em;}#sk-container-id-9 div.sk-estimator:hover {background-color: #d4ebff;}#sk-container-id-9 div.sk-parallel-item::after {content: \"\";width: 100%;border-bottom: 1px solid gray;flex-grow: 1;}#sk-container-id-9 div.sk-label:hover label.sk-toggleable__label {background-color: #d4ebff;}#sk-container-id-9 div.sk-serial::before {content: \"\";position: absolute;border-left: 1px solid gray;box-sizing: border-box;top: 0;bottom: 0;left: 50%;z-index: 0;}#sk-container-id-9 div.sk-serial {display: flex;flex-direction: column;align-items: center;background-color: white;padding-right: 0.2em;padding-left: 0.2em;position: relative;}#sk-container-id-9 div.sk-item {position: relative;z-index: 1;}#sk-container-id-9 div.sk-parallel {display: flex;align-items: stretch;justify-content: center;background-color: white;position: relative;}#sk-container-id-9 div.sk-item::before, #sk-container-id-9 div.sk-parallel-item::before {content: \"\";position: absolute;border-left: 1px solid gray;box-sizing: border-box;top: 0;bottom: 0;left: 50%;z-index: -1;}#sk-container-id-9 div.sk-parallel-item {display: flex;flex-direction: column;z-index: 1;position: relative;background-color: white;}#sk-container-id-9 div.sk-parallel-item:first-child::after {align-self: flex-end;width: 50%;}#sk-container-id-9 div.sk-parallel-item:last-child::after {align-self: flex-start;width: 50%;}#sk-container-id-9 div.sk-parallel-item:only-child::after {width: 0;}#sk-container-id-9 div.sk-dashed-wrapped {border: 1px dashed gray;margin: 0 0.4em 0.5em 0.4em;box-sizing: border-box;padding-bottom: 0.4em;background-color: white;}#sk-container-id-9 div.sk-label label {font-family: monospace;font-weight: bold;display: inline-block;line-height: 1.2em;}#sk-container-id-9 div.sk-label-container {text-align: center;}#sk-container-id-9 div.sk-container {/* jupyter's `normalize.less` sets `[hidden] { display: none; }` but bootstrap.min.css set `[hidden] { display: none !important; }` so we also need the `!important` here to be able to override the default hidden behavior on the sphinx rendered scikit-learn.org. See: https://github.com/scikit-learn/scikit-learn/issues/21755 */display: inline-block !important;position: relative;}#sk-container-id-9 div.sk-text-repr-fallback {display: none;}</style><div id=\"sk-container-id-9\" class=\"sk-top-container\"><div class=\"sk-text-repr-fallback\"><pre>XGBClassifier(base_score=0.5, booster=&#x27;gbtree&#x27;, callbacks=None,\n",
       "              colsample_bylevel=1, colsample_bynode=1, colsample_bytree=1,\n",
       "              early_stopping_rounds=None, enable_categorical=False,\n",
       "              eval_metric=None, gamma=0, gpu_id=-1, grow_policy=&#x27;depthwise&#x27;,\n",
       "              importance_type=None, interaction_constraints=&#x27;&#x27;,\n",
       "              learning_rate=0.300000012, max_bin=256, max_cat_to_onehot=4,\n",
       "              max_delta_step=0, max_depth=6, max_leaves=0, min_child_weight=1,\n",
       "              missing=nan, monotone_constraints=&#x27;()&#x27;, n_estimators=100,\n",
       "              n_jobs=0, num_parallel_tree=1, predictor=&#x27;auto&#x27;, random_state=0,\n",
       "              reg_alpha=0, reg_lambda=1, ...)</pre><b>In a Jupyter environment, please rerun this cell to show the HTML representation or trust the notebook. <br />On GitHub, the HTML representation is unable to render, please try loading this page with nbviewer.org.</b></div><div class=\"sk-container\" hidden><div class=\"sk-item\"><div class=\"sk-estimator sk-toggleable\"><input class=\"sk-toggleable__control sk-hidden--visually\" id=\"sk-estimator-id-9\" type=\"checkbox\" checked><label for=\"sk-estimator-id-9\" class=\"sk-toggleable__label sk-toggleable__label-arrow\">XGBClassifier</label><div class=\"sk-toggleable__content\"><pre>XGBClassifier(base_score=0.5, booster=&#x27;gbtree&#x27;, callbacks=None,\n",
       "              colsample_bylevel=1, colsample_bynode=1, colsample_bytree=1,\n",
       "              early_stopping_rounds=None, enable_categorical=False,\n",
       "              eval_metric=None, gamma=0, gpu_id=-1, grow_policy=&#x27;depthwise&#x27;,\n",
       "              importance_type=None, interaction_constraints=&#x27;&#x27;,\n",
       "              learning_rate=0.300000012, max_bin=256, max_cat_to_onehot=4,\n",
       "              max_delta_step=0, max_depth=6, max_leaves=0, min_child_weight=1,\n",
       "              missing=nan, monotone_constraints=&#x27;()&#x27;, n_estimators=100,\n",
       "              n_jobs=0, num_parallel_tree=1, predictor=&#x27;auto&#x27;, random_state=0,\n",
       "              reg_alpha=0, reg_lambda=1, ...)</pre></div></div></div></div></div>"
      ],
      "text/plain": [
       "XGBClassifier(base_score=0.5, booster='gbtree', callbacks=None,\n",
       "              colsample_bylevel=1, colsample_bynode=1, colsample_bytree=1,\n",
       "              early_stopping_rounds=None, enable_categorical=False,\n",
       "              eval_metric=None, gamma=0, gpu_id=-1, grow_policy='depthwise',\n",
       "              importance_type=None, interaction_constraints='',\n",
       "              learning_rate=0.300000012, max_bin=256, max_cat_to_onehot=4,\n",
       "              max_delta_step=0, max_depth=6, max_leaves=0, min_child_weight=1,\n",
       "              missing=nan, monotone_constraints='()', n_estimators=100,\n",
       "              n_jobs=0, num_parallel_tree=1, predictor='auto', random_state=0,\n",
       "              reg_alpha=0, reg_lambda=1, ...)"
      ]
     },
     "execution_count": 73,
     "metadata": {},
     "output_type": "execute_result"
    }
   ],
   "source": [
    "# Fit model\n",
    "\n",
    "model.fit(X_train_oversampled,y_train_oversampled)"
   ]
  },
  {
   "cell_type": "code",
   "execution_count": 74,
   "id": "52b4c27d",
   "metadata": {},
   "outputs": [],
   "source": [
    "# Make predictions\n",
    "\n",
    "y_pred = model.predict(X_test)"
   ]
  },
  {
   "cell_type": "code",
   "execution_count": 75,
   "id": "c0c9c33c",
   "metadata": {},
   "outputs": [
    {
     "name": "stdout",
     "output_type": "stream",
     "text": [
      "[[156 155]\n",
      " [155 220]]\n",
      "                   pre       rec       spe        f1       geo       iba       sup\n",
      "\n",
      "          0       0.50      0.50      0.59      0.50      0.54      0.29       311\n",
      "          1       0.59      0.59      0.50      0.59      0.54      0.30       375\n",
      "\n",
      "avg / total       0.55      0.55      0.54      0.55      0.54      0.29       686\n",
      "\n",
      "0.5481049562682215\n"
     ]
    }
   ],
   "source": [
    "# View model metrics\n",
    "\n",
    "print(confusion_matrix(y_test,y_pred))\n",
    "print(classification_report_imbalanced(y_test,y_pred))\n",
    "print(accuracy_score(y_test, y_pred))"
   ]
  },
  {
   "cell_type": "markdown",
   "id": "ae012165",
   "metadata": {},
   "source": [
    "# TensorFlow Sequential"
   ]
  },
  {
   "cell_type": "code",
   "execution_count": 76,
   "id": "48a16b46",
   "metadata": {},
   "outputs": [],
   "source": [
    "# Create the model\n",
    "\n",
    "nn = Sequential()\n",
    "number_input_features = len(X_train.iloc[0])\n",
    "number_output_neurons = 1\n",
    "hidden_nodes_layer1 =  (number_input_features + number_output_neurons)//2\n",
    "hidden_nodes_layer2 =  (hidden_nodes_layer1 + number_output_neurons)//2"
   ]
  },
  {
   "cell_type": "code",
   "execution_count": 77,
   "id": "735eb210",
   "metadata": {},
   "outputs": [],
   "source": [
    "# Fit the data\n",
    "\n",
    "nn.add(Dense(units= hidden_nodes_layer1, input_dim=number_input_features, activation=\"relu\"))\n",
    "nn.add(Dense(units= hidden_nodes_layer2, activation=\"relu\"))\n",
    "nn.add(Dense(units=number_output_neurons, activation=\"sigmoid\"))"
   ]
  },
  {
   "cell_type": "code",
   "execution_count": 78,
   "id": "d5e5fa22",
   "metadata": {},
   "outputs": [
    {
     "name": "stdout",
     "output_type": "stream",
     "text": [
      "Model: \"sequential\"\n",
      "_________________________________________________________________\n",
      " Layer (type)                Output Shape              Param #   \n",
      "=================================================================\n",
      " dense (Dense)               (None, 37)                2775      \n",
      "                                                                 \n",
      " dense_1 (Dense)             (None, 19)                722       \n",
      "                                                                 \n",
      " dense_2 (Dense)             (None, 1)                 20        \n",
      "                                                                 \n",
      "=================================================================\n",
      "Total params: 3,517\n",
      "Trainable params: 3,517\n",
      "Non-trainable params: 0\n",
      "_________________________________________________________________\n"
     ]
    }
   ],
   "source": [
    "nn.summary()"
   ]
  },
  {
   "cell_type": "code",
   "execution_count": 79,
   "id": "57defd2e",
   "metadata": {},
   "outputs": [
    {
     "name": "stdout",
     "output_type": "stream",
     "text": [
      "Epoch 1/50\n",
      "65/65 [==============================] - 0s 1ms/step - loss: 0.7090 - accuracy: 0.5284\n",
      "Epoch 2/50\n",
      "65/65 [==============================] - 0s 1ms/step - loss: 0.6705 - accuracy: 0.5887\n",
      "Epoch 3/50\n",
      "65/65 [==============================] - 0s 1ms/step - loss: 0.6567 - accuracy: 0.5999\n",
      "Epoch 4/50\n",
      "65/65 [==============================] - 0s 1ms/step - loss: 0.6500 - accuracy: 0.6213\n",
      "Epoch 5/50\n",
      "65/65 [==============================] - 0s 1ms/step - loss: 0.6423 - accuracy: 0.6315\n",
      "Epoch 6/50\n",
      "65/65 [==============================] - 0s 1ms/step - loss: 0.6377 - accuracy: 0.6378\n",
      "Epoch 7/50\n",
      "65/65 [==============================] - 0s 1ms/step - loss: 0.6324 - accuracy: 0.6475\n",
      "Epoch 8/50\n",
      "65/65 [==============================] - 0s 1ms/step - loss: 0.6259 - accuracy: 0.6524\n",
      "Epoch 9/50\n",
      "65/65 [==============================] - 0s 1ms/step - loss: 0.6224 - accuracy: 0.6636\n",
      "Epoch 10/50\n",
      "65/65 [==============================] - 0s 1ms/step - loss: 0.6168 - accuracy: 0.6719\n",
      "Epoch 11/50\n",
      "65/65 [==============================] - 0s 1ms/step - loss: 0.6109 - accuracy: 0.6694\n",
      "Epoch 12/50\n",
      "65/65 [==============================] - 0s 1ms/step - loss: 0.6108 - accuracy: 0.6733\n",
      "Epoch 13/50\n",
      "65/65 [==============================] - 0s 1ms/step - loss: 0.6077 - accuracy: 0.6743\n",
      "Epoch 14/50\n",
      "65/65 [==============================] - 0s 1ms/step - loss: 0.6025 - accuracy: 0.6772\n",
      "Epoch 15/50\n",
      "65/65 [==============================] - 0s 1ms/step - loss: 0.6006 - accuracy: 0.6850\n",
      "Epoch 16/50\n",
      "65/65 [==============================] - 0s 1ms/step - loss: 0.5979 - accuracy: 0.6913\n",
      "Epoch 17/50\n",
      "65/65 [==============================] - 0s 1ms/step - loss: 0.5925 - accuracy: 0.6894\n",
      "Epoch 18/50\n",
      "65/65 [==============================] - 0s 1ms/step - loss: 0.5906 - accuracy: 0.6942\n",
      "Epoch 19/50\n",
      "65/65 [==============================] - 0s 1ms/step - loss: 0.5878 - accuracy: 0.6957\n",
      "Epoch 20/50\n",
      "65/65 [==============================] - 0s 1ms/step - loss: 0.5856 - accuracy: 0.6903\n",
      "Epoch 21/50\n",
      "65/65 [==============================] - 0s 1ms/step - loss: 0.5811 - accuracy: 0.7025\n",
      "Epoch 22/50\n",
      "65/65 [==============================] - 0s 1ms/step - loss: 0.5774 - accuracy: 0.7010\n",
      "Epoch 23/50\n",
      "65/65 [==============================] - 0s 1ms/step - loss: 0.5775 - accuracy: 0.7005\n",
      "Epoch 24/50\n",
      "65/65 [==============================] - 0s 1ms/step - loss: 0.5736 - accuracy: 0.7107\n",
      "Epoch 25/50\n",
      "65/65 [==============================] - 0s 1ms/step - loss: 0.5735 - accuracy: 0.7137\n",
      "Epoch 26/50\n",
      "65/65 [==============================] - 0s 1ms/step - loss: 0.5658 - accuracy: 0.7185\n",
      "Epoch 27/50\n",
      "65/65 [==============================] - 0s 1ms/step - loss: 0.5675 - accuracy: 0.7107\n",
      "Epoch 28/50\n",
      "65/65 [==============================] - 0s 1ms/step - loss: 0.5659 - accuracy: 0.6991\n",
      "Epoch 29/50\n",
      "65/65 [==============================] - 0s 1ms/step - loss: 0.5589 - accuracy: 0.7137\n",
      "Epoch 30/50\n",
      "65/65 [==============================] - 0s 1ms/step - loss: 0.5613 - accuracy: 0.7171\n",
      "Epoch 31/50\n",
      "65/65 [==============================] - 0s 1ms/step - loss: 0.5567 - accuracy: 0.7098\n",
      "Epoch 32/50\n",
      "65/65 [==============================] - 0s 1ms/step - loss: 0.5556 - accuracy: 0.7195\n",
      "Epoch 33/50\n",
      "65/65 [==============================] - 0s 1ms/step - loss: 0.5513 - accuracy: 0.7219\n",
      "Epoch 34/50\n",
      "65/65 [==============================] - 0s 1ms/step - loss: 0.5495 - accuracy: 0.7185\n",
      "Epoch 35/50\n",
      "65/65 [==============================] - 0s 1ms/step - loss: 0.5467 - accuracy: 0.7253\n",
      "Epoch 36/50\n",
      "65/65 [==============================] - 0s 1ms/step - loss: 0.5461 - accuracy: 0.7268\n",
      "Epoch 37/50\n",
      "65/65 [==============================] - 0s 1ms/step - loss: 0.5455 - accuracy: 0.7278\n",
      "Epoch 38/50\n",
      "65/65 [==============================] - 0s 1ms/step - loss: 0.5412 - accuracy: 0.7248\n",
      "Epoch 39/50\n",
      "65/65 [==============================] - 0s 1ms/step - loss: 0.5374 - accuracy: 0.7190\n",
      "Epoch 40/50\n",
      "65/65 [==============================] - 0s 1ms/step - loss: 0.5377 - accuracy: 0.7239\n",
      "Epoch 41/50\n",
      "65/65 [==============================] - 0s 1ms/step - loss: 0.5349 - accuracy: 0.7331\n",
      "Epoch 42/50\n",
      "65/65 [==============================] - 0s 1ms/step - loss: 0.5359 - accuracy: 0.7224\n",
      "Epoch 43/50\n",
      "65/65 [==============================] - 0s 1ms/step - loss: 0.5327 - accuracy: 0.7253\n",
      "Epoch 44/50\n",
      "65/65 [==============================] - 0s 1ms/step - loss: 0.5318 - accuracy: 0.7297\n",
      "Epoch 45/50\n",
      "65/65 [==============================] - 0s 1ms/step - loss: 0.5276 - accuracy: 0.7268\n",
      "Epoch 46/50\n",
      "65/65 [==============================] - 0s 1ms/step - loss: 0.5268 - accuracy: 0.7292\n",
      "Epoch 47/50\n",
      "65/65 [==============================] - 0s 1ms/step - loss: 0.5291 - accuracy: 0.7258\n",
      "Epoch 48/50\n",
      "65/65 [==============================] - 0s 1ms/step - loss: 0.5237 - accuracy: 0.7321\n",
      "Epoch 49/50\n",
      "65/65 [==============================] - 0s 1ms/step - loss: 0.5238 - accuracy: 0.7253\n",
      "Epoch 50/50\n",
      "65/65 [==============================] - 0s 1ms/step - loss: 0.5226 - accuracy: 0.7389\n"
     ]
    }
   ],
   "source": [
    "nn.compile(loss = \"binary_crossentropy\", optimizer =  \"adam\", metrics = [\"accuracy\"])\n",
    "nn_fitted = nn.fit(X_train_scaled, y_train, epochs = 50)"
   ]
  },
  {
   "cell_type": "code",
   "execution_count": 80,
   "id": "b60edcec",
   "metadata": {},
   "outputs": [
    {
     "name": "stdout",
     "output_type": "stream",
     "text": [
      "22/22 - 0s - loss: 0.7827 - accuracy: 0.5598 - 123ms/epoch - 6ms/step\n"
     ]
    }
   ],
   "source": [
    "model_loss, model_accuracy = nn.evaluate(X_test_scaled, y_test, verbose = 2)"
   ]
  },
  {
   "cell_type": "code",
   "execution_count": 81,
   "id": "611ebc7c",
   "metadata": {},
   "outputs": [
    {
     "name": "stdout",
     "output_type": "stream",
     "text": [
      "Loss: 0.7827202081680298, Accuracy: 0.5597667694091797\n"
     ]
    }
   ],
   "source": [
    "print(f\"Loss: {model_loss}, Accuracy: {model_accuracy}\")"
   ]
  },
  {
   "cell_type": "markdown",
   "id": "b25aa1b3",
   "metadata": {},
   "source": [
    "### Sequnetial model with Nadam optimizer"
   ]
  },
  {
   "cell_type": "code",
   "execution_count": 82,
   "id": "170f4d66",
   "metadata": {},
   "outputs": [],
   "source": [
    "# Create the model\n",
    "\n",
    "nn = Sequential()\n",
    "number_input_features = len(X_train.iloc[0])\n",
    "number_output_neurons = 1\n",
    "hidden_nodes_layer1 =  (number_input_features + number_output_neurons)//2\n",
    "hidden_nodes_layer2 =  (hidden_nodes_layer1 + number_output_neurons)//2"
   ]
  },
  {
   "cell_type": "code",
   "execution_count": 83,
   "id": "c7fff22e",
   "metadata": {},
   "outputs": [],
   "source": [
    "# Fit the data\n",
    "\n",
    "nn.add(Dense(units= hidden_nodes_layer1, input_dim=number_input_features, activation=\"relu\"))\n",
    "nn.add(Dense(units= hidden_nodes_layer2, activation=\"relu\"))\n",
    "nn.add(Dense(units=number_output_neurons, activation=\"sigmoid\"))"
   ]
  },
  {
   "cell_type": "code",
   "execution_count": 84,
   "id": "14e11804",
   "metadata": {},
   "outputs": [
    {
     "name": "stdout",
     "output_type": "stream",
     "text": [
      "Model: \"sequential_1\"\n",
      "_________________________________________________________________\n",
      " Layer (type)                Output Shape              Param #   \n",
      "=================================================================\n",
      " dense_3 (Dense)             (None, 37)                2775      \n",
      "                                                                 \n",
      " dense_4 (Dense)             (None, 19)                722       \n",
      "                                                                 \n",
      " dense_5 (Dense)             (None, 1)                 20        \n",
      "                                                                 \n",
      "=================================================================\n",
      "Total params: 3,517\n",
      "Trainable params: 3,517\n",
      "Non-trainable params: 0\n",
      "_________________________________________________________________\n"
     ]
    }
   ],
   "source": [
    "nn.summary()"
   ]
  },
  {
   "cell_type": "code",
   "execution_count": 85,
   "id": "f11563a2",
   "metadata": {},
   "outputs": [
    {
     "name": "stdout",
     "output_type": "stream",
     "text": [
      "Epoch 1/50\n",
      "65/65 [==============================] - 1s 1ms/step - loss: 0.7054 - accuracy: 0.5464\n",
      "Epoch 2/50\n",
      "65/65 [==============================] - 0s 1ms/step - loss: 0.6695 - accuracy: 0.5882\n",
      "Epoch 3/50\n",
      "65/65 [==============================] - 0s 1ms/step - loss: 0.6555 - accuracy: 0.6135\n",
      "Epoch 4/50\n",
      "65/65 [==============================] - 0s 1ms/step - loss: 0.6450 - accuracy: 0.6320\n",
      "Epoch 5/50\n",
      "65/65 [==============================] - 0s 1ms/step - loss: 0.6382 - accuracy: 0.6393\n",
      "Epoch 6/50\n",
      "65/65 [==============================] - 0s 1ms/step - loss: 0.6309 - accuracy: 0.6509\n",
      "Epoch 7/50\n",
      "65/65 [==============================] - 0s 1ms/step - loss: 0.6259 - accuracy: 0.6612\n",
      "Epoch 8/50\n",
      "65/65 [==============================] - 0s 1ms/step - loss: 0.6198 - accuracy: 0.6626\n",
      "Epoch 9/50\n",
      "65/65 [==============================] - 0s 1ms/step - loss: 0.6149 - accuracy: 0.6733\n",
      "Epoch 10/50\n",
      "65/65 [==============================] - 0s 1ms/step - loss: 0.6111 - accuracy: 0.6762\n",
      "Epoch 11/50\n",
      "65/65 [==============================] - 0s 1ms/step - loss: 0.6065 - accuracy: 0.6762\n",
      "Epoch 12/50\n",
      "65/65 [==============================] - 0s 1ms/step - loss: 0.6026 - accuracy: 0.6772\n",
      "Epoch 13/50\n",
      "65/65 [==============================] - 0s 1ms/step - loss: 0.5994 - accuracy: 0.6835\n",
      "Epoch 14/50\n",
      "65/65 [==============================] - 0s 1ms/step - loss: 0.5963 - accuracy: 0.6855\n",
      "Epoch 15/50\n",
      "65/65 [==============================] - 0s 1ms/step - loss: 0.5919 - accuracy: 0.6869\n",
      "Epoch 16/50\n",
      "65/65 [==============================] - 0s 1ms/step - loss: 0.5887 - accuracy: 0.6898\n",
      "Epoch 17/50\n",
      "65/65 [==============================] - 0s 1ms/step - loss: 0.5868 - accuracy: 0.6894\n",
      "Epoch 18/50\n",
      "65/65 [==============================] - 0s 1ms/step - loss: 0.5812 - accuracy: 0.7044\n",
      "Epoch 19/50\n",
      "65/65 [==============================] - 0s 1ms/step - loss: 0.5820 - accuracy: 0.6947\n",
      "Epoch 20/50\n",
      "65/65 [==============================] - 0s 1ms/step - loss: 0.5775 - accuracy: 0.7088\n",
      "Epoch 21/50\n",
      "65/65 [==============================] - 0s 1ms/step - loss: 0.5759 - accuracy: 0.7030\n",
      "Epoch 22/50\n",
      "65/65 [==============================] - 0s 1ms/step - loss: 0.5723 - accuracy: 0.7088\n",
      "Epoch 23/50\n",
      "65/65 [==============================] - 0s 1ms/step - loss: 0.5695 - accuracy: 0.7132\n",
      "Epoch 24/50\n",
      "65/65 [==============================] - 0s 1ms/step - loss: 0.5654 - accuracy: 0.7132\n",
      "Epoch 25/50\n",
      "65/65 [==============================] - 0s 1ms/step - loss: 0.5654 - accuracy: 0.7141\n",
      "Epoch 26/50\n",
      "65/65 [==============================] - 0s 1ms/step - loss: 0.5627 - accuracy: 0.7069\n",
      "Epoch 27/50\n",
      "65/65 [==============================] - 0s 1ms/step - loss: 0.5607 - accuracy: 0.7093\n",
      "Epoch 28/50\n",
      "65/65 [==============================] - 0s 1ms/step - loss: 0.5578 - accuracy: 0.7122\n",
      "Epoch 29/50\n",
      "65/65 [==============================] - 0s 1ms/step - loss: 0.5535 - accuracy: 0.7219\n",
      "Epoch 30/50\n",
      "65/65 [==============================] - 0s 1ms/step - loss: 0.5547 - accuracy: 0.7127\n",
      "Epoch 31/50\n",
      "65/65 [==============================] - 0s 1ms/step - loss: 0.5511 - accuracy: 0.7161\n",
      "Epoch 32/50\n",
      "65/65 [==============================] - 0s 1ms/step - loss: 0.5486 - accuracy: 0.7161\n",
      "Epoch 33/50\n",
      "65/65 [==============================] - 0s 1ms/step - loss: 0.5481 - accuracy: 0.7166\n",
      "Epoch 34/50\n",
      "65/65 [==============================] - 0s 1ms/step - loss: 0.5448 - accuracy: 0.7205\n",
      "Epoch 35/50\n",
      "65/65 [==============================] - 0s 1ms/step - loss: 0.5432 - accuracy: 0.7214\n",
      "Epoch 36/50\n",
      "65/65 [==============================] - 0s 1ms/step - loss: 0.5397 - accuracy: 0.7312\n",
      "Epoch 37/50\n",
      "65/65 [==============================] - 0s 1ms/step - loss: 0.5386 - accuracy: 0.7253\n",
      "Epoch 38/50\n",
      "65/65 [==============================] - 0s 1ms/step - loss: 0.5373 - accuracy: 0.7282\n",
      "Epoch 39/50\n",
      "65/65 [==============================] - 0s 1ms/step - loss: 0.5361 - accuracy: 0.7316\n",
      "Epoch 40/50\n",
      "65/65 [==============================] - 0s 1ms/step - loss: 0.5343 - accuracy: 0.7326\n",
      "Epoch 41/50\n",
      "65/65 [==============================] - 0s 1ms/step - loss: 0.5313 - accuracy: 0.7244\n",
      "Epoch 42/50\n",
      "65/65 [==============================] - 0s 1ms/step - loss: 0.5306 - accuracy: 0.7307\n",
      "Epoch 43/50\n",
      "65/65 [==============================] - 0s 1ms/step - loss: 0.5277 - accuracy: 0.7307\n",
      "Epoch 44/50\n",
      "65/65 [==============================] - 0s 1ms/step - loss: 0.5273 - accuracy: 0.7321\n",
      "Epoch 45/50\n",
      "65/65 [==============================] - 0s 1ms/step - loss: 0.5263 - accuracy: 0.7253\n",
      "Epoch 46/50\n",
      "65/65 [==============================] - 0s 1ms/step - loss: 0.5250 - accuracy: 0.7389\n",
      "Epoch 47/50\n",
      "65/65 [==============================] - 0s 1ms/step - loss: 0.5222 - accuracy: 0.7331\n",
      "Epoch 48/50\n",
      "65/65 [==============================] - 0s 1ms/step - loss: 0.5195 - accuracy: 0.7360\n",
      "Epoch 49/50\n",
      "65/65 [==============================] - 0s 1ms/step - loss: 0.5195 - accuracy: 0.7282\n",
      "Epoch 50/50\n",
      "65/65 [==============================] - 0s 1ms/step - loss: 0.5186 - accuracy: 0.7365\n"
     ]
    }
   ],
   "source": [
    "nn.compile(loss = \"binary_crossentropy\", optimizer =  \"Nadam\", metrics = [\"accuracy\"])\n",
    "nn_fitted = nn.fit(X_train_scaled, y_train, epochs = 50)"
   ]
  },
  {
   "cell_type": "code",
   "execution_count": 86,
   "id": "ef322aea",
   "metadata": {},
   "outputs": [
    {
     "name": "stdout",
     "output_type": "stream",
     "text": [
      "22/22 - 0s - loss: 0.8051 - accuracy: 0.5700 - 109ms/epoch - 5ms/step\n"
     ]
    }
   ],
   "source": [
    "model_loss, model_accuracy = nn.evaluate(X_test_scaled, y_test, verbose = 2)"
   ]
  },
  {
   "cell_type": "code",
   "execution_count": 87,
   "id": "7ea5afb1",
   "metadata": {},
   "outputs": [
    {
     "name": "stdout",
     "output_type": "stream",
     "text": [
      "Loss: 0.8050944805145264, Accuracy: 0.5699708461761475\n"
     ]
    }
   ],
   "source": [
    "print(f\"Loss: {model_loss}, Accuracy: {model_accuracy}\")"
   ]
  },
  {
   "cell_type": "code",
   "execution_count": null,
   "id": "92a03dfa",
   "metadata": {},
   "outputs": [],
   "source": []
  },
  {
   "cell_type": "code",
   "execution_count": null,
   "id": "2441535e",
   "metadata": {},
   "outputs": [],
   "source": []
  },
  {
   "cell_type": "code",
   "execution_count": null,
   "id": "ccf897ca",
   "metadata": {},
   "outputs": [],
   "source": []
  },
  {
   "cell_type": "code",
   "execution_count": null,
   "id": "dbea9d21",
   "metadata": {},
   "outputs": [],
   "source": []
  },
  {
   "cell_type": "code",
   "execution_count": null,
   "id": "a296999d",
   "metadata": {},
   "outputs": [],
   "source": []
  }
 ],
 "metadata": {
  "kernelspec": {
   "display_name": "Python 3 (ipykernel)",
   "language": "python",
   "name": "python3"
  },
  "language_info": {
   "codemirror_mode": {
    "name": "ipython",
    "version": 3
   },
   "file_extension": ".py",
   "mimetype": "text/x-python",
   "name": "python",
   "nbconvert_exporter": "python",
   "pygments_lexer": "ipython3",
   "version": "3.9.12"
  }
 },
 "nbformat": 4,
 "nbformat_minor": 5
}
