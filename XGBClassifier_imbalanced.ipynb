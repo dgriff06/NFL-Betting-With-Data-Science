{
 "cells": [
  {
   "cell_type": "code",
   "execution_count": 1,
   "id": "89291ccc",
   "metadata": {},
   "outputs": [],
   "source": [
    "# Import depedencies\n",
    "import pandas as pd\n",
    "import numpy as np\n",
    "from sklearn.model_selection import train_test_split\n",
    "from sklearn.preprocessing import StandardScaler\n",
    "from sklearn.metrics import confusion_matrix\n",
    "from sklearn.metrics import classification_report\n",
    "from sklearn.metrics import accuracy_score\n"
   ]
  },
  {
   "cell_type": "code",
   "execution_count": 2,
   "id": "ff1d9635",
   "metadata": {},
   "outputs": [],
   "source": [
    "# Read the CSV data and create a new dataframe\n",
    "\n",
    "df = pd.read_csv(\"match_team_data.csv\")"
   ]
  },
  {
   "cell_type": "code",
   "execution_count": 3,
   "id": "6e97edc2",
   "metadata": {},
   "outputs": [],
   "source": [
    "# Create a column to account for Wins, Losses, and Ties\n",
    "\n",
    "df[\"home_win\"] = np.where(df[\"home_score\"] > df[\"away_score\"], 1,0)"
   ]
  },
  {
   "cell_type": "code",
   "execution_count": 4,
   "id": "76a063e8",
   "metadata": {
    "scrolled": true
   },
   "outputs": [
    {
     "data": {
      "text/plain": [
       "team_2_post_season_result                1.000000\n",
       "team_1_post_season_result                1.000000\n",
       "winning_abbr                             0.079338\n",
       "winning_name                             0.079338\n",
       "losing_name                              0.079338\n",
       "losing_abbr                              0.079338\n",
       "away_score                               0.075625\n",
       "home_score                               0.075625\n",
       "team_2_pass_completions                  0.000000\n",
       "team_2_offensive_simple_rating_system    0.000000\n",
       "dtype: float64"
      ]
     },
     "execution_count": 4,
     "metadata": {},
     "output_type": "execute_result"
    }
   ],
   "source": [
    "# Check for NaNs\n",
    "df.isna().mean().sort_values(ascending=False).head(10)"
   ]
  },
  {
   "cell_type": "code",
   "execution_count": 5,
   "id": "e4758114",
   "metadata": {
    "scrolled": true
   },
   "outputs": [
    {
     "data": {
      "text/plain": [
       "0       False\n",
       "1       False\n",
       "2       False\n",
       "3       False\n",
       "4       False\n",
       "        ...  \n",
       "2957     True\n",
       "2958     True\n",
       "2959     True\n",
       "2960     True\n",
       "2961     True\n",
       "Name: winning_name, Length: 2962, dtype: bool"
      ]
     },
     "execution_count": 5,
     "metadata": {},
     "output_type": "execute_result"
    }
   ],
   "source": [
    "df[\"winning_name\"].isna()"
   ]
  },
  {
   "cell_type": "code",
   "execution_count": 6,
   "id": "ff44f60f",
   "metadata": {
    "scrolled": true
   },
   "outputs": [],
   "source": [
    "# Remove NaNs\n",
    "df = df.drop(columns=[\"team_2_post_season_result\",\"team_1_post_season_result\"])"
   ]
  },
  {
   "cell_type": "code",
   "execution_count": 7,
   "id": "4b46688f",
   "metadata": {},
   "outputs": [],
   "source": [
    "df3 = df.dropna()"
   ]
  },
  {
   "cell_type": "code",
   "execution_count": 8,
   "id": "ec62b747",
   "metadata": {
    "scrolled": true
   },
   "outputs": [
    {
     "data": {
      "text/html": [
       "<div>\n",
       "<style scoped>\n",
       "    .dataframe tbody tr th:only-of-type {\n",
       "        vertical-align: middle;\n",
       "    }\n",
       "\n",
       "    .dataframe tbody tr th {\n",
       "        vertical-align: top;\n",
       "    }\n",
       "\n",
       "    .dataframe thead th {\n",
       "        text-align: right;\n",
       "    }\n",
       "</style>\n",
       "<table border=\"1\" class=\"dataframe\">\n",
       "  <thead>\n",
       "    <tr style=\"text-align: right;\">\n",
       "      <th></th>\n",
       "      <th>boxscore</th>\n",
       "      <th>away_name</th>\n",
       "      <th>away_abbr</th>\n",
       "      <th>away_score</th>\n",
       "      <th>home_name</th>\n",
       "      <th>home_abbr</th>\n",
       "      <th>home_score</th>\n",
       "      <th>winning_name</th>\n",
       "      <th>winning_abbr</th>\n",
       "      <th>losing_name</th>\n",
       "      <th>...</th>\n",
       "      <th>team_2_rush_yards_per_attempt</th>\n",
       "      <th>team_2_simple_rating_system</th>\n",
       "      <th>team_2_strength_of_schedule</th>\n",
       "      <th>team_2_turnovers</th>\n",
       "      <th>team_2_win_percentage</th>\n",
       "      <th>team_2_wins</th>\n",
       "      <th>team_2_yards</th>\n",
       "      <th>team_2_yards_from_penalties</th>\n",
       "      <th>team_2_yards_per_play</th>\n",
       "      <th>home_win</th>\n",
       "    </tr>\n",
       "  </thead>\n",
       "  <tbody>\n",
       "    <tr>\n",
       "      <th>0</th>\n",
       "      <td>201209050nyg</td>\n",
       "      <td>Dallas Cowboys</td>\n",
       "      <td>dal</td>\n",
       "      <td>24.0</td>\n",
       "      <td>New York Giants</td>\n",
       "      <td>nyg</td>\n",
       "      <td>17.0</td>\n",
       "      <td>Dallas Cowboys</td>\n",
       "      <td>dal</td>\n",
       "      <td>New York Giants</td>\n",
       "      <td>...</td>\n",
       "      <td>4.7</td>\n",
       "      <td>-4.2</td>\n",
       "      <td>-2.2</td>\n",
       "      <td>2</td>\n",
       "      <td>0.667</td>\n",
       "      <td>2</td>\n",
       "      <td>972</td>\n",
       "      <td>188</td>\n",
       "      <td>5.3</td>\n",
       "      <td>0</td>\n",
       "    </tr>\n",
       "    <tr>\n",
       "      <th>1</th>\n",
       "      <td>201209090chi</td>\n",
       "      <td>Indianapolis Colts</td>\n",
       "      <td>clt</td>\n",
       "      <td>21.0</td>\n",
       "      <td>Chicago Bears</td>\n",
       "      <td>chi</td>\n",
       "      <td>41.0</td>\n",
       "      <td>Chicago Bears</td>\n",
       "      <td>chi</td>\n",
       "      <td>Indianapolis Colts</td>\n",
       "      <td>...</td>\n",
       "      <td>4.0</td>\n",
       "      <td>-4.8</td>\n",
       "      <td>2.2</td>\n",
       "      <td>6</td>\n",
       "      <td>0.500</td>\n",
       "      <td>1</td>\n",
       "      <td>994</td>\n",
       "      <td>153</td>\n",
       "      <td>4.8</td>\n",
       "      <td>1</td>\n",
       "    </tr>\n",
       "    <tr>\n",
       "      <th>2</th>\n",
       "      <td>201209090cle</td>\n",
       "      <td>Philadelphia Eagles</td>\n",
       "      <td>phi</td>\n",
       "      <td>17.0</td>\n",
       "      <td>Cleveland Browns</td>\n",
       "      <td>cle</td>\n",
       "      <td>16.0</td>\n",
       "      <td>Philadelphia Eagles</td>\n",
       "      <td>phi</td>\n",
       "      <td>Cleveland Browns</td>\n",
       "      <td>...</td>\n",
       "      <td>4.4</td>\n",
       "      <td>38.9</td>\n",
       "      <td>26.9</td>\n",
       "      <td>1</td>\n",
       "      <td>1.000</td>\n",
       "      <td>3</td>\n",
       "      <td>1341</td>\n",
       "      <td>173</td>\n",
       "      <td>6.4</td>\n",
       "      <td>0</td>\n",
       "    </tr>\n",
       "    <tr>\n",
       "      <th>3</th>\n",
       "      <td>201209090det</td>\n",
       "      <td>St. Louis Rams</td>\n",
       "      <td>ram</td>\n",
       "      <td>23.0</td>\n",
       "      <td>Detroit Lions</td>\n",
       "      <td>det</td>\n",
       "      <td>27.0</td>\n",
       "      <td>Detroit Lions</td>\n",
       "      <td>det</td>\n",
       "      <td>St. Louis Rams</td>\n",
       "      <td>...</td>\n",
       "      <td>3.4</td>\n",
       "      <td>-9.0</td>\n",
       "      <td>-6.0</td>\n",
       "      <td>7</td>\n",
       "      <td>0.667</td>\n",
       "      <td>2</td>\n",
       "      <td>919</td>\n",
       "      <td>126</td>\n",
       "      <td>5.3</td>\n",
       "      <td>1</td>\n",
       "    </tr>\n",
       "    <tr>\n",
       "      <th>4</th>\n",
       "      <td>201209090htx</td>\n",
       "      <td>Miami Dolphins</td>\n",
       "      <td>mia</td>\n",
       "      <td>10.0</td>\n",
       "      <td>Houston Texans</td>\n",
       "      <td>htx</td>\n",
       "      <td>30.0</td>\n",
       "      <td>Houston Texans</td>\n",
       "      <td>htx</td>\n",
       "      <td>Miami Dolphins</td>\n",
       "      <td>...</td>\n",
       "      <td>3.3</td>\n",
       "      <td>12.4</td>\n",
       "      <td>6.1</td>\n",
       "      <td>2</td>\n",
       "      <td>1.000</td>\n",
       "      <td>3</td>\n",
       "      <td>1066</td>\n",
       "      <td>91</td>\n",
       "      <td>6.4</td>\n",
       "      <td>1</td>\n",
       "    </tr>\n",
       "    <tr>\n",
       "      <th>...</th>\n",
       "      <td>...</td>\n",
       "      <td>...</td>\n",
       "      <td>...</td>\n",
       "      <td>...</td>\n",
       "      <td>...</td>\n",
       "      <td>...</td>\n",
       "      <td>...</td>\n",
       "      <td>...</td>\n",
       "      <td>...</td>\n",
       "      <td>...</td>\n",
       "      <td>...</td>\n",
       "      <td>...</td>\n",
       "      <td>...</td>\n",
       "      <td>...</td>\n",
       "      <td>...</td>\n",
       "      <td>...</td>\n",
       "      <td>...</td>\n",
       "      <td>...</td>\n",
       "      <td>...</td>\n",
       "      <td>...</td>\n",
       "      <td>...</td>\n",
       "    </tr>\n",
       "    <tr>\n",
       "      <th>2733</th>\n",
       "      <td>202209250crd</td>\n",
       "      <td>Los Angeles Rams</td>\n",
       "      <td>ram</td>\n",
       "      <td>20.0</td>\n",
       "      <td>Arizona Cardinals</td>\n",
       "      <td>crd</td>\n",
       "      <td>12.0</td>\n",
       "      <td>Los Angeles Rams</td>\n",
       "      <td>ram</td>\n",
       "      <td>Arizona Cardinals</td>\n",
       "      <td>...</td>\n",
       "      <td>3.4</td>\n",
       "      <td>-9.0</td>\n",
       "      <td>-6.0</td>\n",
       "      <td>7</td>\n",
       "      <td>0.667</td>\n",
       "      <td>2</td>\n",
       "      <td>919</td>\n",
       "      <td>126</td>\n",
       "      <td>5.3</td>\n",
       "      <td>0</td>\n",
       "    </tr>\n",
       "    <tr>\n",
       "      <th>2734</th>\n",
       "      <td>202209250sea</td>\n",
       "      <td>Atlanta Falcons</td>\n",
       "      <td>atl</td>\n",
       "      <td>27.0</td>\n",
       "      <td>Seattle Seahawks</td>\n",
       "      <td>sea</td>\n",
       "      <td>23.0</td>\n",
       "      <td>Atlanta Falcons</td>\n",
       "      <td>atl</td>\n",
       "      <td>Seattle Seahawks</td>\n",
       "      <td>...</td>\n",
       "      <td>4.9</td>\n",
       "      <td>-11.3</td>\n",
       "      <td>-10.9</td>\n",
       "      <td>7</td>\n",
       "      <td>0.333</td>\n",
       "      <td>1</td>\n",
       "      <td>1063</td>\n",
       "      <td>99</td>\n",
       "      <td>5.9</td>\n",
       "      <td>0</td>\n",
       "    </tr>\n",
       "    <tr>\n",
       "      <th>2735</th>\n",
       "      <td>202209250tam</td>\n",
       "      <td>Green Bay Packers</td>\n",
       "      <td>gnb</td>\n",
       "      <td>14.0</td>\n",
       "      <td>Tampa Bay Buccaneers</td>\n",
       "      <td>tam</td>\n",
       "      <td>12.0</td>\n",
       "      <td>Green Bay Packers</td>\n",
       "      <td>gnb</td>\n",
       "      <td>Tampa Bay Buccaneers</td>\n",
       "      <td>...</td>\n",
       "      <td>4.7</td>\n",
       "      <td>12.5</td>\n",
       "      <td>11.5</td>\n",
       "      <td>5</td>\n",
       "      <td>0.667</td>\n",
       "      <td>2</td>\n",
       "      <td>1067</td>\n",
       "      <td>100</td>\n",
       "      <td>5.7</td>\n",
       "      <td>0</td>\n",
       "    </tr>\n",
       "    <tr>\n",
       "      <th>2736</th>\n",
       "      <td>202209250den</td>\n",
       "      <td>San Francisco 49ers</td>\n",
       "      <td>sfo</td>\n",
       "      <td>10.0</td>\n",
       "      <td>Denver Broncos</td>\n",
       "      <td>den</td>\n",
       "      <td>11.0</td>\n",
       "      <td>Denver Broncos</td>\n",
       "      <td>den</td>\n",
       "      <td>San Francisco 49ers</td>\n",
       "      <td>...</td>\n",
       "      <td>4.5</td>\n",
       "      <td>-4.8</td>\n",
       "      <td>-8.2</td>\n",
       "      <td>5</td>\n",
       "      <td>0.333</td>\n",
       "      <td>1</td>\n",
       "      <td>971</td>\n",
       "      <td>165</td>\n",
       "      <td>5.1</td>\n",
       "      <td>1</td>\n",
       "    </tr>\n",
       "    <tr>\n",
       "      <th>2737</th>\n",
       "      <td>202209260nyg</td>\n",
       "      <td>Dallas Cowboys</td>\n",
       "      <td>dal</td>\n",
       "      <td>23.0</td>\n",
       "      <td>New York Giants</td>\n",
       "      <td>nyg</td>\n",
       "      <td>16.0</td>\n",
       "      <td>Dallas Cowboys</td>\n",
       "      <td>dal</td>\n",
       "      <td>New York Giants</td>\n",
       "      <td>...</td>\n",
       "      <td>4.7</td>\n",
       "      <td>-4.2</td>\n",
       "      <td>-2.2</td>\n",
       "      <td>2</td>\n",
       "      <td>0.667</td>\n",
       "      <td>2</td>\n",
       "      <td>972</td>\n",
       "      <td>188</td>\n",
       "      <td>5.3</td>\n",
       "      <td>0</td>\n",
       "    </tr>\n",
       "  </tbody>\n",
       "</table>\n",
       "<p>2727 rows × 93 columns</p>\n",
       "</div>"
      ],
      "text/plain": [
       "          boxscore            away_name away_abbr  away_score  \\\n",
       "0     201209050nyg       Dallas Cowboys       dal        24.0   \n",
       "1     201209090chi   Indianapolis Colts       clt        21.0   \n",
       "2     201209090cle  Philadelphia Eagles       phi        17.0   \n",
       "3     201209090det       St. Louis Rams       ram        23.0   \n",
       "4     201209090htx       Miami Dolphins       mia        10.0   \n",
       "...            ...                  ...       ...         ...   \n",
       "2733  202209250crd     Los Angeles Rams       ram        20.0   \n",
       "2734  202209250sea      Atlanta Falcons       atl        27.0   \n",
       "2735  202209250tam    Green Bay Packers       gnb        14.0   \n",
       "2736  202209250den  San Francisco 49ers       sfo        10.0   \n",
       "2737  202209260nyg       Dallas Cowboys       dal        23.0   \n",
       "\n",
       "                 home_name home_abbr  home_score         winning_name  \\\n",
       "0          New York Giants       nyg        17.0       Dallas Cowboys   \n",
       "1            Chicago Bears       chi        41.0        Chicago Bears   \n",
       "2         Cleveland Browns       cle        16.0  Philadelphia Eagles   \n",
       "3            Detroit Lions       det        27.0        Detroit Lions   \n",
       "4           Houston Texans       htx        30.0       Houston Texans   \n",
       "...                    ...       ...         ...                  ...   \n",
       "2733     Arizona Cardinals       crd        12.0     Los Angeles Rams   \n",
       "2734      Seattle Seahawks       sea        23.0      Atlanta Falcons   \n",
       "2735  Tampa Bay Buccaneers       tam        12.0    Green Bay Packers   \n",
       "2736        Denver Broncos       den        11.0       Denver Broncos   \n",
       "2737       New York Giants       nyg        16.0       Dallas Cowboys   \n",
       "\n",
       "     winning_abbr           losing_name  ... team_2_rush_yards_per_attempt  \\\n",
       "0             dal       New York Giants  ...                           4.7   \n",
       "1             chi    Indianapolis Colts  ...                           4.0   \n",
       "2             phi      Cleveland Browns  ...                           4.4   \n",
       "3             det        St. Louis Rams  ...                           3.4   \n",
       "4             htx        Miami Dolphins  ...                           3.3   \n",
       "...           ...                   ...  ...                           ...   \n",
       "2733          ram     Arizona Cardinals  ...                           3.4   \n",
       "2734          atl      Seattle Seahawks  ...                           4.9   \n",
       "2735          gnb  Tampa Bay Buccaneers  ...                           4.7   \n",
       "2736          den   San Francisco 49ers  ...                           4.5   \n",
       "2737          dal       New York Giants  ...                           4.7   \n",
       "\n",
       "      team_2_simple_rating_system  team_2_strength_of_schedule  \\\n",
       "0                            -4.2                         -2.2   \n",
       "1                            -4.8                          2.2   \n",
       "2                            38.9                         26.9   \n",
       "3                            -9.0                         -6.0   \n",
       "4                            12.4                          6.1   \n",
       "...                           ...                          ...   \n",
       "2733                         -9.0                         -6.0   \n",
       "2734                        -11.3                        -10.9   \n",
       "2735                         12.5                         11.5   \n",
       "2736                         -4.8                         -8.2   \n",
       "2737                         -4.2                         -2.2   \n",
       "\n",
       "     team_2_turnovers team_2_win_percentage  team_2_wins  team_2_yards  \\\n",
       "0                   2                 0.667            2           972   \n",
       "1                   6                 0.500            1           994   \n",
       "2                   1                 1.000            3          1341   \n",
       "3                   7                 0.667            2           919   \n",
       "4                   2                 1.000            3          1066   \n",
       "...               ...                   ...          ...           ...   \n",
       "2733                7                 0.667            2           919   \n",
       "2734                7                 0.333            1          1063   \n",
       "2735                5                 0.667            2          1067   \n",
       "2736                5                 0.333            1           971   \n",
       "2737                2                 0.667            2           972   \n",
       "\n",
       "      team_2_yards_from_penalties  team_2_yards_per_play  home_win  \n",
       "0                             188                    5.3         0  \n",
       "1                             153                    4.8         1  \n",
       "2                             173                    6.4         0  \n",
       "3                             126                    5.3         1  \n",
       "4                              91                    6.4         1  \n",
       "...                           ...                    ...       ...  \n",
       "2733                          126                    5.3         0  \n",
       "2734                           99                    5.9         0  \n",
       "2735                          100                    5.7         0  \n",
       "2736                          165                    5.1         1  \n",
       "2737                          188                    5.3         0  \n",
       "\n",
       "[2727 rows x 93 columns]"
      ]
     },
     "execution_count": 8,
     "metadata": {},
     "output_type": "execute_result"
    }
   ],
   "source": [
    "df3"
   ]
  },
  {
   "cell_type": "code",
   "execution_count": 9,
   "id": "f8bd4cc5",
   "metadata": {
    "scrolled": false
   },
   "outputs": [
    {
     "data": {
      "text/plain": [
       "team_1_points_contributed_by_offense    float64\n",
       "away_name                                object\n",
       "away_abbr                                object\n",
       "home_name                                object\n",
       "home_abbr                                object\n",
       "team_2_abbreviation                      object\n",
       "losing_name                              object\n",
       "winning_abbr                             object\n",
       "losing_abbr                              object\n",
       "teams                                    object\n",
       "team_1_abbreviation                      object\n",
       "team_2_name                              object\n",
       "team_1_name                              object\n",
       "winning_name                             object\n",
       "boxscore                                 object\n",
       "dtype: object"
      ]
     },
     "execution_count": 9,
     "metadata": {},
     "output_type": "execute_result"
    }
   ],
   "source": [
    "# Check for categorical data\n",
    "\n",
    "df3.dtypes.sort_values().tail(15)"
   ]
  },
  {
   "cell_type": "code",
   "execution_count": 10,
   "id": "c674bf66",
   "metadata": {
    "scrolled": false
   },
   "outputs": [
    {
     "name": "stderr",
     "output_type": "stream",
     "text": [
      "C:\\Users\\bekhr\\AppData\\Local\\Temp\\ipykernel_17756\\1997902423.py:3: SettingWithCopyWarning: \n",
      "A value is trying to be set on a copy of a slice from a DataFrame\n",
      "\n",
      "See the caveats in the documentation: https://pandas.pydata.org/pandas-docs/stable/user_guide/indexing.html#returning-a-view-versus-a-copy\n",
      "  df3.drop(columns=[\"away_name\",\"away_abbr\",\"home_name\",\"home_abbr\",\"team_2_abbreviation\",\"losing_name\",\"winning_abbr\",\"losing_abbr\",\"teams\",\"team_1_abbreviation\",\"team_2_name\",\"team_1_name\",\"winning_name\",\"boxscore\"], inplace=True)\n"
     ]
    }
   ],
   "source": [
    "# Remove categorical data\n",
    "\n",
    "df3.drop(columns=[\"away_name\",\"away_abbr\",\"home_name\",\"home_abbr\",\"team_2_abbreviation\",\"losing_name\",\"winning_abbr\",\"losing_abbr\",\"teams\",\"team_1_abbreviation\",\"team_2_name\",\"team_1_name\",\"winning_name\",\"boxscore\"], inplace=True)"
   ]
  },
  {
   "cell_type": "code",
   "execution_count": 11,
   "id": "b042cb4e",
   "metadata": {
    "scrolled": false
   },
   "outputs": [
    {
     "name": "stderr",
     "output_type": "stream",
     "text": [
      "C:\\Users\\bekhr\\AppData\\Local\\Temp\\ipykernel_17756\\659904871.py:3: SettingWithCopyWarning: \n",
      "A value is trying to be set on a copy of a slice from a DataFrame\n",
      "\n",
      "See the caveats in the documentation: https://pandas.pydata.org/pandas-docs/stable/user_guide/indexing.html#returning-a-view-versus-a-copy\n",
      "  df3.drop(columns=[\"year\",\"week\",\"home_score\",\"away_score\"], inplace=True)\n"
     ]
    }
   ],
   "source": [
    "# Remove categorical data\n",
    "\n",
    "df3.drop(columns=[\"year\",\"week\",\"home_score\",\"away_score\"], inplace=True)"
   ]
  },
  {
   "cell_type": "code",
   "execution_count": 12,
   "id": "a50e252e",
   "metadata": {},
   "outputs": [],
   "source": [
    "# Create target and features\n",
    "\n",
    "y = df3[\"home_win\"]\n",
    "X = df3.drop(columns=\"home_win\")"
   ]
  },
  {
   "cell_type": "code",
   "execution_count": 13,
   "id": "d77243e8",
   "metadata": {},
   "outputs": [],
   "source": [
    "# Apply Train_Test_Split\n",
    "\n",
    "X_train, X_test, y_train, y_test = train_test_split(X,y,random_state=1)"
   ]
  },
  {
   "cell_type": "code",
   "execution_count": 14,
   "id": "6b8c7fa8",
   "metadata": {},
   "outputs": [],
   "source": [
    "# Set the scaler\n",
    "scaler = StandardScaler()"
   ]
  },
  {
   "cell_type": "code",
   "execution_count": 15,
   "id": "27aa5d3e",
   "metadata": {},
   "outputs": [],
   "source": [
    "# Fit and Transform the data\n",
    "X_scaler = scaler.fit(X_train)\n",
    "X_train_scaled = X_scaler.transform(X_train)\n",
    "X_test_scaled = X_scaler.transform(X_test)"
   ]
  },
  {
   "cell_type": "code",
   "execution_count": 16,
   "id": "795f838a",
   "metadata": {},
   "outputs": [],
   "source": [
    "from xgboost import XGBClassifier"
   ]
  },
  {
   "cell_type": "code",
   "execution_count": 17,
   "id": "71c8506b",
   "metadata": {},
   "outputs": [],
   "source": [
    "# Create the XGB model\n",
    "model = XGBClassifier()"
   ]
  },
  {
   "cell_type": "code",
   "execution_count": 18,
   "id": "580176be",
   "metadata": {},
   "outputs": [
    {
     "data": {
      "text/html": [
       "<style>#sk-container-id-1 {color: black;background-color: white;}#sk-container-id-1 pre{padding: 0;}#sk-container-id-1 div.sk-toggleable {background-color: white;}#sk-container-id-1 label.sk-toggleable__label {cursor: pointer;display: block;width: 100%;margin-bottom: 0;padding: 0.3em;box-sizing: border-box;text-align: center;}#sk-container-id-1 label.sk-toggleable__label-arrow:before {content: \"▸\";float: left;margin-right: 0.25em;color: #696969;}#sk-container-id-1 label.sk-toggleable__label-arrow:hover:before {color: black;}#sk-container-id-1 div.sk-estimator:hover label.sk-toggleable__label-arrow:before {color: black;}#sk-container-id-1 div.sk-toggleable__content {max-height: 0;max-width: 0;overflow: hidden;text-align: left;background-color: #f0f8ff;}#sk-container-id-1 div.sk-toggleable__content pre {margin: 0.2em;color: black;border-radius: 0.25em;background-color: #f0f8ff;}#sk-container-id-1 input.sk-toggleable__control:checked~div.sk-toggleable__content {max-height: 200px;max-width: 100%;overflow: auto;}#sk-container-id-1 input.sk-toggleable__control:checked~label.sk-toggleable__label-arrow:before {content: \"▾\";}#sk-container-id-1 div.sk-estimator input.sk-toggleable__control:checked~label.sk-toggleable__label {background-color: #d4ebff;}#sk-container-id-1 div.sk-label input.sk-toggleable__control:checked~label.sk-toggleable__label {background-color: #d4ebff;}#sk-container-id-1 input.sk-hidden--visually {border: 0;clip: rect(1px 1px 1px 1px);clip: rect(1px, 1px, 1px, 1px);height: 1px;margin: -1px;overflow: hidden;padding: 0;position: absolute;width: 1px;}#sk-container-id-1 div.sk-estimator {font-family: monospace;background-color: #f0f8ff;border: 1px dotted black;border-radius: 0.25em;box-sizing: border-box;margin-bottom: 0.5em;}#sk-container-id-1 div.sk-estimator:hover {background-color: #d4ebff;}#sk-container-id-1 div.sk-parallel-item::after {content: \"\";width: 100%;border-bottom: 1px solid gray;flex-grow: 1;}#sk-container-id-1 div.sk-label:hover label.sk-toggleable__label {background-color: #d4ebff;}#sk-container-id-1 div.sk-serial::before {content: \"\";position: absolute;border-left: 1px solid gray;box-sizing: border-box;top: 0;bottom: 0;left: 50%;z-index: 0;}#sk-container-id-1 div.sk-serial {display: flex;flex-direction: column;align-items: center;background-color: white;padding-right: 0.2em;padding-left: 0.2em;position: relative;}#sk-container-id-1 div.sk-item {position: relative;z-index: 1;}#sk-container-id-1 div.sk-parallel {display: flex;align-items: stretch;justify-content: center;background-color: white;position: relative;}#sk-container-id-1 div.sk-item::before, #sk-container-id-1 div.sk-parallel-item::before {content: \"\";position: absolute;border-left: 1px solid gray;box-sizing: border-box;top: 0;bottom: 0;left: 50%;z-index: -1;}#sk-container-id-1 div.sk-parallel-item {display: flex;flex-direction: column;z-index: 1;position: relative;background-color: white;}#sk-container-id-1 div.sk-parallel-item:first-child::after {align-self: flex-end;width: 50%;}#sk-container-id-1 div.sk-parallel-item:last-child::after {align-self: flex-start;width: 50%;}#sk-container-id-1 div.sk-parallel-item:only-child::after {width: 0;}#sk-container-id-1 div.sk-dashed-wrapped {border: 1px dashed gray;margin: 0 0.4em 0.5em 0.4em;box-sizing: border-box;padding-bottom: 0.4em;background-color: white;}#sk-container-id-1 div.sk-label label {font-family: monospace;font-weight: bold;display: inline-block;line-height: 1.2em;}#sk-container-id-1 div.sk-label-container {text-align: center;}#sk-container-id-1 div.sk-container {/* jupyter's `normalize.less` sets `[hidden] { display: none; }` but bootstrap.min.css set `[hidden] { display: none !important; }` so we also need the `!important` here to be able to override the default hidden behavior on the sphinx rendered scikit-learn.org. See: https://github.com/scikit-learn/scikit-learn/issues/21755 */display: inline-block !important;position: relative;}#sk-container-id-1 div.sk-text-repr-fallback {display: none;}</style><div id=\"sk-container-id-1\" class=\"sk-top-container\"><div class=\"sk-text-repr-fallback\"><pre>XGBClassifier(base_score=0.5, booster=&#x27;gbtree&#x27;, callbacks=None,\n",
       "              colsample_bylevel=1, colsample_bynode=1, colsample_bytree=1,\n",
       "              early_stopping_rounds=None, enable_categorical=False,\n",
       "              eval_metric=None, gamma=0, gpu_id=-1, grow_policy=&#x27;depthwise&#x27;,\n",
       "              importance_type=None, interaction_constraints=&#x27;&#x27;,\n",
       "              learning_rate=0.300000012, max_bin=256, max_cat_to_onehot=4,\n",
       "              max_delta_step=0, max_depth=6, max_leaves=0, min_child_weight=1,\n",
       "              missing=nan, monotone_constraints=&#x27;()&#x27;, n_estimators=100,\n",
       "              n_jobs=0, num_parallel_tree=1, predictor=&#x27;auto&#x27;, random_state=0,\n",
       "              reg_alpha=0, reg_lambda=1, ...)</pre><b>In a Jupyter environment, please rerun this cell to show the HTML representation or trust the notebook. <br />On GitHub, the HTML representation is unable to render, please try loading this page with nbviewer.org.</b></div><div class=\"sk-container\" hidden><div class=\"sk-item\"><div class=\"sk-estimator sk-toggleable\"><input class=\"sk-toggleable__control sk-hidden--visually\" id=\"sk-estimator-id-1\" type=\"checkbox\" checked><label for=\"sk-estimator-id-1\" class=\"sk-toggleable__label sk-toggleable__label-arrow\">XGBClassifier</label><div class=\"sk-toggleable__content\"><pre>XGBClassifier(base_score=0.5, booster=&#x27;gbtree&#x27;, callbacks=None,\n",
       "              colsample_bylevel=1, colsample_bynode=1, colsample_bytree=1,\n",
       "              early_stopping_rounds=None, enable_categorical=False,\n",
       "              eval_metric=None, gamma=0, gpu_id=-1, grow_policy=&#x27;depthwise&#x27;,\n",
       "              importance_type=None, interaction_constraints=&#x27;&#x27;,\n",
       "              learning_rate=0.300000012, max_bin=256, max_cat_to_onehot=4,\n",
       "              max_delta_step=0, max_depth=6, max_leaves=0, min_child_weight=1,\n",
       "              missing=nan, monotone_constraints=&#x27;()&#x27;, n_estimators=100,\n",
       "              n_jobs=0, num_parallel_tree=1, predictor=&#x27;auto&#x27;, random_state=0,\n",
       "              reg_alpha=0, reg_lambda=1, ...)</pre></div></div></div></div></div>"
      ],
      "text/plain": [
       "XGBClassifier(base_score=0.5, booster='gbtree', callbacks=None,\n",
       "              colsample_bylevel=1, colsample_bynode=1, colsample_bytree=1,\n",
       "              early_stopping_rounds=None, enable_categorical=False,\n",
       "              eval_metric=None, gamma=0, gpu_id=-1, grow_policy='depthwise',\n",
       "              importance_type=None, interaction_constraints='',\n",
       "              learning_rate=0.300000012, max_bin=256, max_cat_to_onehot=4,\n",
       "              max_delta_step=0, max_depth=6, max_leaves=0, min_child_weight=1,\n",
       "              missing=nan, monotone_constraints='()', n_estimators=100,\n",
       "              n_jobs=0, num_parallel_tree=1, predictor='auto', random_state=0,\n",
       "              reg_alpha=0, reg_lambda=1, ...)"
      ]
     },
     "execution_count": 18,
     "metadata": {},
     "output_type": "execute_result"
    }
   ],
   "source": [
    "# Fit the data\n",
    "model.fit(X_train,y_train)"
   ]
  },
  {
   "cell_type": "code",
   "execution_count": 19,
   "id": "44207092",
   "metadata": {},
   "outputs": [],
   "source": [
    "# Make the predictions\n",
    "y_pred = model.predict(X_test)"
   ]
  },
  {
   "cell_type": "code",
   "execution_count": 20,
   "id": "d9ba4989",
   "metadata": {
    "scrolled": false
   },
   "outputs": [
    {
     "name": "stdout",
     "output_type": "stream",
     "text": [
      "[[141 157]\n",
      " [156 228]]\n",
      "              precision    recall  f1-score   support\n",
      "\n",
      "           0       0.47      0.47      0.47       298\n",
      "           1       0.59      0.59      0.59       384\n",
      "\n",
      "    accuracy                           0.54       682\n",
      "   macro avg       0.53      0.53      0.53       682\n",
      "weighted avg       0.54      0.54      0.54       682\n",
      "\n",
      "0.5410557184750733\n"
     ]
    }
   ],
   "source": [
    "# print the results\n",
    "\n",
    "print(confusion_matrix(y_test,y_pred))\n",
    "print(classification_report(y_test,y_pred))\n",
    "print(accuracy_score(y_test, y_pred))"
   ]
  },
  {
   "cell_type": "code",
   "execution_count": 21,
   "id": "be1bdf6f",
   "metadata": {},
   "outputs": [],
   "source": [
    "from collections import Counter "
   ]
  },
  {
   "cell_type": "code",
   "execution_count": 22,
   "id": "61ca40d7",
   "metadata": {},
   "outputs": [],
   "source": [
    "import imblearn "
   ]
  },
  {
   "cell_type": "code",
   "execution_count": 23,
   "id": "e14a5038",
   "metadata": {},
   "outputs": [],
   "source": [
    "from imblearn.over_sampling import RandomOverSampler"
   ]
  },
  {
   "cell_type": "code",
   "execution_count": 25,
   "id": "c6bd6a93",
   "metadata": {},
   "outputs": [
    {
     "data": {
      "text/plain": [
       "Counter({0: 909, 1: 1136})"
      ]
     },
     "execution_count": 25,
     "metadata": {},
     "output_type": "execute_result"
    }
   ],
   "source": [
    "Counter(y_train)"
   ]
  },
  {
   "cell_type": "code",
   "execution_count": 24,
   "id": "8adab4ff",
   "metadata": {},
   "outputs": [],
   "source": [
    "ros = RandomOverSampler(random_state=1)"
   ]
  },
  {
   "cell_type": "code",
   "execution_count": 27,
   "id": "81300019",
   "metadata": {},
   "outputs": [],
   "source": [
    "X_train_oversampled,y_train_oversampled = ros.fit_resample(X_train, y_train) "
   ]
  },
  {
   "cell_type": "code",
   "execution_count": 28,
   "id": "0a907788",
   "metadata": {},
   "outputs": [
    {
     "data": {
      "text/html": [
       "<style>#sk-container-id-2 {color: black;background-color: white;}#sk-container-id-2 pre{padding: 0;}#sk-container-id-2 div.sk-toggleable {background-color: white;}#sk-container-id-2 label.sk-toggleable__label {cursor: pointer;display: block;width: 100%;margin-bottom: 0;padding: 0.3em;box-sizing: border-box;text-align: center;}#sk-container-id-2 label.sk-toggleable__label-arrow:before {content: \"▸\";float: left;margin-right: 0.25em;color: #696969;}#sk-container-id-2 label.sk-toggleable__label-arrow:hover:before {color: black;}#sk-container-id-2 div.sk-estimator:hover label.sk-toggleable__label-arrow:before {color: black;}#sk-container-id-2 div.sk-toggleable__content {max-height: 0;max-width: 0;overflow: hidden;text-align: left;background-color: #f0f8ff;}#sk-container-id-2 div.sk-toggleable__content pre {margin: 0.2em;color: black;border-radius: 0.25em;background-color: #f0f8ff;}#sk-container-id-2 input.sk-toggleable__control:checked~div.sk-toggleable__content {max-height: 200px;max-width: 100%;overflow: auto;}#sk-container-id-2 input.sk-toggleable__control:checked~label.sk-toggleable__label-arrow:before {content: \"▾\";}#sk-container-id-2 div.sk-estimator input.sk-toggleable__control:checked~label.sk-toggleable__label {background-color: #d4ebff;}#sk-container-id-2 div.sk-label input.sk-toggleable__control:checked~label.sk-toggleable__label {background-color: #d4ebff;}#sk-container-id-2 input.sk-hidden--visually {border: 0;clip: rect(1px 1px 1px 1px);clip: rect(1px, 1px, 1px, 1px);height: 1px;margin: -1px;overflow: hidden;padding: 0;position: absolute;width: 1px;}#sk-container-id-2 div.sk-estimator {font-family: monospace;background-color: #f0f8ff;border: 1px dotted black;border-radius: 0.25em;box-sizing: border-box;margin-bottom: 0.5em;}#sk-container-id-2 div.sk-estimator:hover {background-color: #d4ebff;}#sk-container-id-2 div.sk-parallel-item::after {content: \"\";width: 100%;border-bottom: 1px solid gray;flex-grow: 1;}#sk-container-id-2 div.sk-label:hover label.sk-toggleable__label {background-color: #d4ebff;}#sk-container-id-2 div.sk-serial::before {content: \"\";position: absolute;border-left: 1px solid gray;box-sizing: border-box;top: 0;bottom: 0;left: 50%;z-index: 0;}#sk-container-id-2 div.sk-serial {display: flex;flex-direction: column;align-items: center;background-color: white;padding-right: 0.2em;padding-left: 0.2em;position: relative;}#sk-container-id-2 div.sk-item {position: relative;z-index: 1;}#sk-container-id-2 div.sk-parallel {display: flex;align-items: stretch;justify-content: center;background-color: white;position: relative;}#sk-container-id-2 div.sk-item::before, #sk-container-id-2 div.sk-parallel-item::before {content: \"\";position: absolute;border-left: 1px solid gray;box-sizing: border-box;top: 0;bottom: 0;left: 50%;z-index: -1;}#sk-container-id-2 div.sk-parallel-item {display: flex;flex-direction: column;z-index: 1;position: relative;background-color: white;}#sk-container-id-2 div.sk-parallel-item:first-child::after {align-self: flex-end;width: 50%;}#sk-container-id-2 div.sk-parallel-item:last-child::after {align-self: flex-start;width: 50%;}#sk-container-id-2 div.sk-parallel-item:only-child::after {width: 0;}#sk-container-id-2 div.sk-dashed-wrapped {border: 1px dashed gray;margin: 0 0.4em 0.5em 0.4em;box-sizing: border-box;padding-bottom: 0.4em;background-color: white;}#sk-container-id-2 div.sk-label label {font-family: monospace;font-weight: bold;display: inline-block;line-height: 1.2em;}#sk-container-id-2 div.sk-label-container {text-align: center;}#sk-container-id-2 div.sk-container {/* jupyter's `normalize.less` sets `[hidden] { display: none; }` but bootstrap.min.css set `[hidden] { display: none !important; }` so we also need the `!important` here to be able to override the default hidden behavior on the sphinx rendered scikit-learn.org. See: https://github.com/scikit-learn/scikit-learn/issues/21755 */display: inline-block !important;position: relative;}#sk-container-id-2 div.sk-text-repr-fallback {display: none;}</style><div id=\"sk-container-id-2\" class=\"sk-top-container\"><div class=\"sk-text-repr-fallback\"><pre>XGBClassifier(base_score=0.5, booster=&#x27;gbtree&#x27;, callbacks=None,\n",
       "              colsample_bylevel=1, colsample_bynode=1, colsample_bytree=1,\n",
       "              early_stopping_rounds=None, enable_categorical=False,\n",
       "              eval_metric=None, gamma=0, gpu_id=-1, grow_policy=&#x27;depthwise&#x27;,\n",
       "              importance_type=None, interaction_constraints=&#x27;&#x27;,\n",
       "              learning_rate=0.300000012, max_bin=256, max_cat_to_onehot=4,\n",
       "              max_delta_step=0, max_depth=6, max_leaves=0, min_child_weight=1,\n",
       "              missing=nan, monotone_constraints=&#x27;()&#x27;, n_estimators=100,\n",
       "              n_jobs=0, num_parallel_tree=1, predictor=&#x27;auto&#x27;, random_state=0,\n",
       "              reg_alpha=0, reg_lambda=1, ...)</pre><b>In a Jupyter environment, please rerun this cell to show the HTML representation or trust the notebook. <br />On GitHub, the HTML representation is unable to render, please try loading this page with nbviewer.org.</b></div><div class=\"sk-container\" hidden><div class=\"sk-item\"><div class=\"sk-estimator sk-toggleable\"><input class=\"sk-toggleable__control sk-hidden--visually\" id=\"sk-estimator-id-2\" type=\"checkbox\" checked><label for=\"sk-estimator-id-2\" class=\"sk-toggleable__label sk-toggleable__label-arrow\">XGBClassifier</label><div class=\"sk-toggleable__content\"><pre>XGBClassifier(base_score=0.5, booster=&#x27;gbtree&#x27;, callbacks=None,\n",
       "              colsample_bylevel=1, colsample_bynode=1, colsample_bytree=1,\n",
       "              early_stopping_rounds=None, enable_categorical=False,\n",
       "              eval_metric=None, gamma=0, gpu_id=-1, grow_policy=&#x27;depthwise&#x27;,\n",
       "              importance_type=None, interaction_constraints=&#x27;&#x27;,\n",
       "              learning_rate=0.300000012, max_bin=256, max_cat_to_onehot=4,\n",
       "              max_delta_step=0, max_depth=6, max_leaves=0, min_child_weight=1,\n",
       "              missing=nan, monotone_constraints=&#x27;()&#x27;, n_estimators=100,\n",
       "              n_jobs=0, num_parallel_tree=1, predictor=&#x27;auto&#x27;, random_state=0,\n",
       "              reg_alpha=0, reg_lambda=1, ...)</pre></div></div></div></div></div>"
      ],
      "text/plain": [
       "XGBClassifier(base_score=0.5, booster='gbtree', callbacks=None,\n",
       "              colsample_bylevel=1, colsample_bynode=1, colsample_bytree=1,\n",
       "              early_stopping_rounds=None, enable_categorical=False,\n",
       "              eval_metric=None, gamma=0, gpu_id=-1, grow_policy='depthwise',\n",
       "              importance_type=None, interaction_constraints='',\n",
       "              learning_rate=0.300000012, max_bin=256, max_cat_to_onehot=4,\n",
       "              max_delta_step=0, max_depth=6, max_leaves=0, min_child_weight=1,\n",
       "              missing=nan, monotone_constraints='()', n_estimators=100,\n",
       "              n_jobs=0, num_parallel_tree=1, predictor='auto', random_state=0,\n",
       "              reg_alpha=0, reg_lambda=1, ...)"
      ]
     },
     "execution_count": 28,
     "metadata": {},
     "output_type": "execute_result"
    }
   ],
   "source": [
    "model.fit(X_train_oversampled,y_train_oversampled)"
   ]
  },
  {
   "cell_type": "code",
   "execution_count": 29,
   "id": "56c7a655",
   "metadata": {},
   "outputs": [],
   "source": [
    "y_pred = model.predict(X_test)"
   ]
  },
  {
   "cell_type": "code",
   "execution_count": 30,
   "id": "e8e65f65",
   "metadata": {},
   "outputs": [],
   "source": [
    "from imblearn.metrics import classification_report_imbalanced"
   ]
  },
  {
   "cell_type": "code",
   "execution_count": 31,
   "id": "1d52fbbb",
   "metadata": {},
   "outputs": [
    {
     "name": "stdout",
     "output_type": "stream",
     "text": [
      "                   pre       rec       spe        f1       geo       iba       sup\n",
      "\n",
      "          0       0.47      0.51      0.55      0.49      0.53      0.28       298\n",
      "          1       0.59      0.55      0.51      0.57      0.53      0.28       384\n",
      "\n",
      "avg / total       0.54      0.53      0.53      0.54      0.53      0.28       682\n",
      "\n"
     ]
    }
   ],
   "source": [
    "print(classification_report_imbalanced(y_test, y_pred))"
   ]
  },
  {
   "cell_type": "code",
   "execution_count": null,
   "id": "c0660f8b",
   "metadata": {},
   "outputs": [],
   "source": []
  }
 ],
 "metadata": {
  "kernelspec": {
   "display_name": "Python 3 (ipykernel)",
   "language": "python",
   "name": "python3"
  },
  "language_info": {
   "codemirror_mode": {
    "name": "ipython",
    "version": 3
   },
   "file_extension": ".py",
   "mimetype": "text/x-python",
   "name": "python",
   "nbconvert_exporter": "python",
   "pygments_lexer": "ipython3",
   "version": "3.9.7"
  }
 },
 "nbformat": 4,
 "nbformat_minor": 5
}
