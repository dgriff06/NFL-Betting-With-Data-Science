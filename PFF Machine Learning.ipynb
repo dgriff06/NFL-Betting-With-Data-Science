{
 "cells": [
  {
   "cell_type": "code",
   "execution_count": 8,
   "id": "2479aac0",
   "metadata": {},
   "outputs": [],
   "source": [
    "import pandas as pd\n",
    "import numpy as np"
   ]
  },
  {
   "cell_type": "code",
   "execution_count": 9,
   "id": "1a195642",
   "metadata": {},
   "outputs": [],
   "source": [
    "pff_df = pd.read_csv(\"2021PFFStats.csv\")"
   ]
  },
  {
   "cell_type": "code",
   "execution_count": 10,
   "id": "8654e833",
   "metadata": {},
   "outputs": [
    {
     "data": {
      "text/html": [
       "<div>\n",
       "<style scoped>\n",
       "    .dataframe tbody tr th:only-of-type {\n",
       "        vertical-align: middle;\n",
       "    }\n",
       "\n",
       "    .dataframe tbody tr th {\n",
       "        vertical-align: top;\n",
       "    }\n",
       "\n",
       "    .dataframe thead th {\n",
       "        text-align: right;\n",
       "    }\n",
       "</style>\n",
       "<table border=\"1\" class=\"dataframe\">\n",
       "  <thead>\n",
       "    <tr style=\"text-align: right;\">\n",
       "      <th></th>\n",
       "      <th>Team</th>\n",
       "      <th>WINS</th>\n",
       "      <th>LOSSES</th>\n",
       "      <th>WIN PERCENT</th>\n",
       "      <th>PLAYOFFS</th>\n",
       "      <th>OVERALL</th>\n",
       "      <th>OFFENSE</th>\n",
       "      <th>PASS</th>\n",
       "      <th>PBLK</th>\n",
       "      <th>RECV</th>\n",
       "      <th>RUN</th>\n",
       "      <th>RBLK</th>\n",
       "      <th>DEF</th>\n",
       "      <th>RDEF</th>\n",
       "      <th>TACK</th>\n",
       "      <th>PRSH</th>\n",
       "      <th>COV</th>\n",
       "      <th>SPEC</th>\n",
       "    </tr>\n",
       "  </thead>\n",
       "  <tbody>\n",
       "    <tr>\n",
       "      <th>0</th>\n",
       "      <td>Arizona Cardinals</td>\n",
       "      <td>11.0</td>\n",
       "      <td>6.0</td>\n",
       "      <td>0.647</td>\n",
       "      <td>1.0</td>\n",
       "      <td>76.5</td>\n",
       "      <td>73.8</td>\n",
       "      <td>82.8</td>\n",
       "      <td>66.3</td>\n",
       "      <td>78.7</td>\n",
       "      <td>68.0</td>\n",
       "      <td>52.2</td>\n",
       "      <td>62.2</td>\n",
       "      <td>49.4</td>\n",
       "      <td>51.3</td>\n",
       "      <td>77.1</td>\n",
       "      <td>58.6</td>\n",
       "      <td>85.8</td>\n",
       "    </tr>\n",
       "    <tr>\n",
       "      <th>1</th>\n",
       "      <td>Atlanta Falcons</td>\n",
       "      <td>7.0</td>\n",
       "      <td>10.0</td>\n",
       "      <td>0.412</td>\n",
       "      <td>0.0</td>\n",
       "      <td>69.3</td>\n",
       "      <td>74.4</td>\n",
       "      <td>72.1</td>\n",
       "      <td>52.4</td>\n",
       "      <td>76.5</td>\n",
       "      <td>60.5</td>\n",
       "      <td>80.2</td>\n",
       "      <td>48.8</td>\n",
       "      <td>43.1</td>\n",
       "      <td>44.1</td>\n",
       "      <td>52.3</td>\n",
       "      <td>51.5</td>\n",
       "      <td>82.8</td>\n",
       "    </tr>\n",
       "    <tr>\n",
       "      <th>2</th>\n",
       "      <td>Baltimore Ravens</td>\n",
       "      <td>8.0</td>\n",
       "      <td>9.0</td>\n",
       "      <td>0.471</td>\n",
       "      <td>0.0</td>\n",
       "      <td>80.4</td>\n",
       "      <td>75.5</td>\n",
       "      <td>66.0</td>\n",
       "      <td>69.7</td>\n",
       "      <td>72.2</td>\n",
       "      <td>82.5</td>\n",
       "      <td>72.3</td>\n",
       "      <td>62.5</td>\n",
       "      <td>61.1</td>\n",
       "      <td>49.1</td>\n",
       "      <td>70.3</td>\n",
       "      <td>48.6</td>\n",
       "      <td>87.5</td>\n",
       "    </tr>\n",
       "    <tr>\n",
       "      <th>3</th>\n",
       "      <td>Buffalo Bills</td>\n",
       "      <td>11.0</td>\n",
       "      <td>6.0</td>\n",
       "      <td>0.647</td>\n",
       "      <td>1.0</td>\n",
       "      <td>89.2</td>\n",
       "      <td>81.2</td>\n",
       "      <td>81.1</td>\n",
       "      <td>69.0</td>\n",
       "      <td>79.4</td>\n",
       "      <td>92.7</td>\n",
       "      <td>58.6</td>\n",
       "      <td>72.0</td>\n",
       "      <td>55.3</td>\n",
       "      <td>57.9</td>\n",
       "      <td>75.6</td>\n",
       "      <td>84.1</td>\n",
       "      <td>88.3</td>\n",
       "    </tr>\n",
       "    <tr>\n",
       "      <th>4</th>\n",
       "      <td>Carolina Panthers</td>\n",
       "      <td>5.0</td>\n",
       "      <td>12.0</td>\n",
       "      <td>0.294</td>\n",
       "      <td>0.0</td>\n",
       "      <td>63.1</td>\n",
       "      <td>60.3</td>\n",
       "      <td>49.7</td>\n",
       "      <td>53.9</td>\n",
       "      <td>63.1</td>\n",
       "      <td>72.6</td>\n",
       "      <td>58.8</td>\n",
       "      <td>62.6</td>\n",
       "      <td>52.2</td>\n",
       "      <td>50.5</td>\n",
       "      <td>74.3</td>\n",
       "      <td>62.7</td>\n",
       "      <td>76.3</td>\n",
       "    </tr>\n",
       "  </tbody>\n",
       "</table>\n",
       "</div>"
      ],
      "text/plain": [
       "                Team  WINS  LOSSES  WIN PERCENT  PLAYOFFS  OVERALL  OFFENSE  \\\n",
       "0  Arizona Cardinals  11.0     6.0        0.647       1.0     76.5     73.8   \n",
       "1    Atlanta Falcons   7.0    10.0        0.412       0.0     69.3     74.4   \n",
       "2   Baltimore Ravens   8.0     9.0        0.471       0.0     80.4     75.5   \n",
       "3      Buffalo Bills  11.0     6.0        0.647       1.0     89.2     81.2   \n",
       "4  Carolina Panthers   5.0    12.0        0.294       0.0     63.1     60.3   \n",
       "\n",
       "   PASS  PBLK  RECV   RUN  RBLK   DEF  RDEF  TACK  PRSH   COV  SPEC  \n",
       "0  82.8  66.3  78.7  68.0  52.2  62.2  49.4  51.3  77.1  58.6  85.8  \n",
       "1  72.1  52.4  76.5  60.5  80.2  48.8  43.1  44.1  52.3  51.5  82.8  \n",
       "2  66.0  69.7  72.2  82.5  72.3  62.5  61.1  49.1  70.3  48.6  87.5  \n",
       "3  81.1  69.0  79.4  92.7  58.6  72.0  55.3  57.9  75.6  84.1  88.3  \n",
       "4  49.7  53.9  63.1  72.6  58.8  62.6  52.2  50.5  74.3  62.7  76.3  "
      ]
     },
     "execution_count": 10,
     "metadata": {},
     "output_type": "execute_result"
    }
   ],
   "source": [
    "pff_df.head()"
   ]
  },
  {
   "cell_type": "code",
   "execution_count": 11,
   "id": "36b1e104",
   "metadata": {},
   "outputs": [],
   "source": [
    "pff_df.dropna(inplace=True)"
   ]
  },
  {
   "cell_type": "code",
   "execution_count": 12,
   "id": "3285c492",
   "metadata": {},
   "outputs": [
    {
     "data": {
      "text/html": [
       "<div>\n",
       "<style scoped>\n",
       "    .dataframe tbody tr th:only-of-type {\n",
       "        vertical-align: middle;\n",
       "    }\n",
       "\n",
       "    .dataframe tbody tr th {\n",
       "        vertical-align: top;\n",
       "    }\n",
       "\n",
       "    .dataframe thead th {\n",
       "        text-align: right;\n",
       "    }\n",
       "</style>\n",
       "<table border=\"1\" class=\"dataframe\">\n",
       "  <thead>\n",
       "    <tr style=\"text-align: right;\">\n",
       "      <th></th>\n",
       "      <th>Team</th>\n",
       "      <th>WINS</th>\n",
       "      <th>LOSSES</th>\n",
       "      <th>WIN PERCENT</th>\n",
       "      <th>PLAYOFFS</th>\n",
       "      <th>OVERALL</th>\n",
       "      <th>OFFENSE</th>\n",
       "      <th>PASS</th>\n",
       "      <th>PBLK</th>\n",
       "      <th>RECV</th>\n",
       "      <th>RUN</th>\n",
       "      <th>RBLK</th>\n",
       "      <th>DEF</th>\n",
       "      <th>RDEF</th>\n",
       "      <th>TACK</th>\n",
       "      <th>PRSH</th>\n",
       "      <th>COV</th>\n",
       "      <th>SPEC</th>\n",
       "    </tr>\n",
       "  </thead>\n",
       "  <tbody>\n",
       "    <tr>\n",
       "      <th>0</th>\n",
       "      <td>Arizona Cardinals</td>\n",
       "      <td>11.0</td>\n",
       "      <td>6.0</td>\n",
       "      <td>0.647</td>\n",
       "      <td>1.0</td>\n",
       "      <td>76.5</td>\n",
       "      <td>73.8</td>\n",
       "      <td>82.8</td>\n",
       "      <td>66.3</td>\n",
       "      <td>78.7</td>\n",
       "      <td>68.0</td>\n",
       "      <td>52.2</td>\n",
       "      <td>62.2</td>\n",
       "      <td>49.4</td>\n",
       "      <td>51.3</td>\n",
       "      <td>77.1</td>\n",
       "      <td>58.6</td>\n",
       "      <td>85.8</td>\n",
       "    </tr>\n",
       "    <tr>\n",
       "      <th>1</th>\n",
       "      <td>Atlanta Falcons</td>\n",
       "      <td>7.0</td>\n",
       "      <td>10.0</td>\n",
       "      <td>0.412</td>\n",
       "      <td>0.0</td>\n",
       "      <td>69.3</td>\n",
       "      <td>74.4</td>\n",
       "      <td>72.1</td>\n",
       "      <td>52.4</td>\n",
       "      <td>76.5</td>\n",
       "      <td>60.5</td>\n",
       "      <td>80.2</td>\n",
       "      <td>48.8</td>\n",
       "      <td>43.1</td>\n",
       "      <td>44.1</td>\n",
       "      <td>52.3</td>\n",
       "      <td>51.5</td>\n",
       "      <td>82.8</td>\n",
       "    </tr>\n",
       "    <tr>\n",
       "      <th>2</th>\n",
       "      <td>Baltimore Ravens</td>\n",
       "      <td>8.0</td>\n",
       "      <td>9.0</td>\n",
       "      <td>0.471</td>\n",
       "      <td>0.0</td>\n",
       "      <td>80.4</td>\n",
       "      <td>75.5</td>\n",
       "      <td>66.0</td>\n",
       "      <td>69.7</td>\n",
       "      <td>72.2</td>\n",
       "      <td>82.5</td>\n",
       "      <td>72.3</td>\n",
       "      <td>62.5</td>\n",
       "      <td>61.1</td>\n",
       "      <td>49.1</td>\n",
       "      <td>70.3</td>\n",
       "      <td>48.6</td>\n",
       "      <td>87.5</td>\n",
       "    </tr>\n",
       "    <tr>\n",
       "      <th>3</th>\n",
       "      <td>Buffalo Bills</td>\n",
       "      <td>11.0</td>\n",
       "      <td>6.0</td>\n",
       "      <td>0.647</td>\n",
       "      <td>1.0</td>\n",
       "      <td>89.2</td>\n",
       "      <td>81.2</td>\n",
       "      <td>81.1</td>\n",
       "      <td>69.0</td>\n",
       "      <td>79.4</td>\n",
       "      <td>92.7</td>\n",
       "      <td>58.6</td>\n",
       "      <td>72.0</td>\n",
       "      <td>55.3</td>\n",
       "      <td>57.9</td>\n",
       "      <td>75.6</td>\n",
       "      <td>84.1</td>\n",
       "      <td>88.3</td>\n",
       "    </tr>\n",
       "    <tr>\n",
       "      <th>4</th>\n",
       "      <td>Carolina Panthers</td>\n",
       "      <td>5.0</td>\n",
       "      <td>12.0</td>\n",
       "      <td>0.294</td>\n",
       "      <td>0.0</td>\n",
       "      <td>63.1</td>\n",
       "      <td>60.3</td>\n",
       "      <td>49.7</td>\n",
       "      <td>53.9</td>\n",
       "      <td>63.1</td>\n",
       "      <td>72.6</td>\n",
       "      <td>58.8</td>\n",
       "      <td>62.6</td>\n",
       "      <td>52.2</td>\n",
       "      <td>50.5</td>\n",
       "      <td>74.3</td>\n",
       "      <td>62.7</td>\n",
       "      <td>76.3</td>\n",
       "    </tr>\n",
       "  </tbody>\n",
       "</table>\n",
       "</div>"
      ],
      "text/plain": [
       "                Team  WINS  LOSSES  WIN PERCENT  PLAYOFFS  OVERALL  OFFENSE  \\\n",
       "0  Arizona Cardinals  11.0     6.0        0.647       1.0     76.5     73.8   \n",
       "1    Atlanta Falcons   7.0    10.0        0.412       0.0     69.3     74.4   \n",
       "2   Baltimore Ravens   8.0     9.0        0.471       0.0     80.4     75.5   \n",
       "3      Buffalo Bills  11.0     6.0        0.647       1.0     89.2     81.2   \n",
       "4  Carolina Panthers   5.0    12.0        0.294       0.0     63.1     60.3   \n",
       "\n",
       "   PASS  PBLK  RECV   RUN  RBLK   DEF  RDEF  TACK  PRSH   COV  SPEC  \n",
       "0  82.8  66.3  78.7  68.0  52.2  62.2  49.4  51.3  77.1  58.6  85.8  \n",
       "1  72.1  52.4  76.5  60.5  80.2  48.8  43.1  44.1  52.3  51.5  82.8  \n",
       "2  66.0  69.7  72.2  82.5  72.3  62.5  61.1  49.1  70.3  48.6  87.5  \n",
       "3  81.1  69.0  79.4  92.7  58.6  72.0  55.3  57.9  75.6  84.1  88.3  \n",
       "4  49.7  53.9  63.1  72.6  58.8  62.6  52.2  50.5  74.3  62.7  76.3  "
      ]
     },
     "execution_count": 12,
     "metadata": {},
     "output_type": "execute_result"
    }
   ],
   "source": [
    "pff_df.head()"
   ]
  },
  {
   "cell_type": "code",
   "execution_count": 13,
   "id": "0c996373",
   "metadata": {},
   "outputs": [],
   "source": [
    "pff_df2 = pff_df.drop(columns=[\"Team\", \"WINS\", \"LOSSES\", \"PLAYOFFS\", \"OVERALL\"])"
   ]
  },
  {
   "cell_type": "code",
   "execution_count": 14,
   "id": "55ddacce",
   "metadata": {},
   "outputs": [],
   "source": [
    "from sklearn.model_selection import train_test_split\n",
    "from sklearn.preprocessing import StandardScaler"
   ]
  },
  {
   "cell_type": "code",
   "execution_count": 15,
   "id": "b76e4da8",
   "metadata": {},
   "outputs": [
    {
     "data": {
      "text/html": [
       "<div>\n",
       "<style scoped>\n",
       "    .dataframe tbody tr th:only-of-type {\n",
       "        vertical-align: middle;\n",
       "    }\n",
       "\n",
       "    .dataframe tbody tr th {\n",
       "        vertical-align: top;\n",
       "    }\n",
       "\n",
       "    .dataframe thead th {\n",
       "        text-align: right;\n",
       "    }\n",
       "</style>\n",
       "<table border=\"1\" class=\"dataframe\">\n",
       "  <thead>\n",
       "    <tr style=\"text-align: right;\">\n",
       "      <th></th>\n",
       "      <th>WIN PERCENT</th>\n",
       "      <th>OFFENSE</th>\n",
       "      <th>PASS</th>\n",
       "      <th>PBLK</th>\n",
       "      <th>RECV</th>\n",
       "      <th>RUN</th>\n",
       "      <th>RBLK</th>\n",
       "      <th>DEF</th>\n",
       "      <th>RDEF</th>\n",
       "      <th>TACK</th>\n",
       "      <th>PRSH</th>\n",
       "      <th>COV</th>\n",
       "      <th>SPEC</th>\n",
       "    </tr>\n",
       "  </thead>\n",
       "  <tbody>\n",
       "    <tr>\n",
       "      <th>0</th>\n",
       "      <td>0.647</td>\n",
       "      <td>73.8</td>\n",
       "      <td>82.8</td>\n",
       "      <td>66.3</td>\n",
       "      <td>78.7</td>\n",
       "      <td>68.0</td>\n",
       "      <td>52.2</td>\n",
       "      <td>62.2</td>\n",
       "      <td>49.4</td>\n",
       "      <td>51.3</td>\n",
       "      <td>77.1</td>\n",
       "      <td>58.6</td>\n",
       "      <td>85.8</td>\n",
       "    </tr>\n",
       "    <tr>\n",
       "      <th>1</th>\n",
       "      <td>0.412</td>\n",
       "      <td>74.4</td>\n",
       "      <td>72.1</td>\n",
       "      <td>52.4</td>\n",
       "      <td>76.5</td>\n",
       "      <td>60.5</td>\n",
       "      <td>80.2</td>\n",
       "      <td>48.8</td>\n",
       "      <td>43.1</td>\n",
       "      <td>44.1</td>\n",
       "      <td>52.3</td>\n",
       "      <td>51.5</td>\n",
       "      <td>82.8</td>\n",
       "    </tr>\n",
       "    <tr>\n",
       "      <th>2</th>\n",
       "      <td>0.471</td>\n",
       "      <td>75.5</td>\n",
       "      <td>66.0</td>\n",
       "      <td>69.7</td>\n",
       "      <td>72.2</td>\n",
       "      <td>82.5</td>\n",
       "      <td>72.3</td>\n",
       "      <td>62.5</td>\n",
       "      <td>61.1</td>\n",
       "      <td>49.1</td>\n",
       "      <td>70.3</td>\n",
       "      <td>48.6</td>\n",
       "      <td>87.5</td>\n",
       "    </tr>\n",
       "    <tr>\n",
       "      <th>3</th>\n",
       "      <td>0.647</td>\n",
       "      <td>81.2</td>\n",
       "      <td>81.1</td>\n",
       "      <td>69.0</td>\n",
       "      <td>79.4</td>\n",
       "      <td>92.7</td>\n",
       "      <td>58.6</td>\n",
       "      <td>72.0</td>\n",
       "      <td>55.3</td>\n",
       "      <td>57.9</td>\n",
       "      <td>75.6</td>\n",
       "      <td>84.1</td>\n",
       "      <td>88.3</td>\n",
       "    </tr>\n",
       "    <tr>\n",
       "      <th>4</th>\n",
       "      <td>0.294</td>\n",
       "      <td>60.3</td>\n",
       "      <td>49.7</td>\n",
       "      <td>53.9</td>\n",
       "      <td>63.1</td>\n",
       "      <td>72.6</td>\n",
       "      <td>58.8</td>\n",
       "      <td>62.6</td>\n",
       "      <td>52.2</td>\n",
       "      <td>50.5</td>\n",
       "      <td>74.3</td>\n",
       "      <td>62.7</td>\n",
       "      <td>76.3</td>\n",
       "    </tr>\n",
       "  </tbody>\n",
       "</table>\n",
       "</div>"
      ],
      "text/plain": [
       "   WIN PERCENT  OFFENSE  PASS  PBLK  RECV   RUN  RBLK   DEF  RDEF  TACK  PRSH  \\\n",
       "0        0.647     73.8  82.8  66.3  78.7  68.0  52.2  62.2  49.4  51.3  77.1   \n",
       "1        0.412     74.4  72.1  52.4  76.5  60.5  80.2  48.8  43.1  44.1  52.3   \n",
       "2        0.471     75.5  66.0  69.7  72.2  82.5  72.3  62.5  61.1  49.1  70.3   \n",
       "3        0.647     81.2  81.1  69.0  79.4  92.7  58.6  72.0  55.3  57.9  75.6   \n",
       "4        0.294     60.3  49.7  53.9  63.1  72.6  58.8  62.6  52.2  50.5  74.3   \n",
       "\n",
       "    COV  SPEC  \n",
       "0  58.6  85.8  \n",
       "1  51.5  82.8  \n",
       "2  48.6  87.5  \n",
       "3  84.1  88.3  \n",
       "4  62.7  76.3  "
      ]
     },
     "execution_count": 15,
     "metadata": {},
     "output_type": "execute_result"
    }
   ],
   "source": [
    "pff_df2.head()"
   ]
  },
  {
   "cell_type": "code",
   "execution_count": 16,
   "id": "45dcd8bd",
   "metadata": {},
   "outputs": [],
   "source": [
    "y = pff_df2[\"WIN PERCENT\"]\n",
    "X = pff_df2.drop(columns=[\"WIN PERCENT\"])"
   ]
  },
  {
   "cell_type": "code",
   "execution_count": 17,
   "id": "c7d5bc20",
   "metadata": {},
   "outputs": [],
   "source": [
    "X_train, X_test, y_train, y_test = train_test_split(X,y,random_state=1)"
   ]
  },
  {
   "cell_type": "code",
   "execution_count": 18,
   "id": "505abbfc",
   "metadata": {},
   "outputs": [],
   "source": [
    "scaler = StandardScaler()"
   ]
  },
  {
   "cell_type": "code",
   "execution_count": 19,
   "id": "5ea94d48",
   "metadata": {},
   "outputs": [],
   "source": [
    "X_scaler = scaler.fit(X_train)\n",
    "X_train_scaled = X_scaler.transform(X_train)\n",
    "X_test_scaled = X_scaler.transform(X_test)"
   ]
  },
  {
   "cell_type": "code",
   "execution_count": 20,
   "id": "95a7780c",
   "metadata": {},
   "outputs": [],
   "source": [
    "from sklearn.ensemble import RandomForestRegressor"
   ]
  },
  {
   "cell_type": "code",
   "execution_count": 21,
   "id": "f6ab72a5",
   "metadata": {},
   "outputs": [],
   "source": [
    "model = RandomForestRegressor()"
   ]
  },
  {
   "cell_type": "code",
   "execution_count": 22,
   "id": "37d8f554",
   "metadata": {},
   "outputs": [
    {
     "data": {
      "text/html": [
       "<style>#sk-container-id-1 {color: black;background-color: white;}#sk-container-id-1 pre{padding: 0;}#sk-container-id-1 div.sk-toggleable {background-color: white;}#sk-container-id-1 label.sk-toggleable__label {cursor: pointer;display: block;width: 100%;margin-bottom: 0;padding: 0.3em;box-sizing: border-box;text-align: center;}#sk-container-id-1 label.sk-toggleable__label-arrow:before {content: \"▸\";float: left;margin-right: 0.25em;color: #696969;}#sk-container-id-1 label.sk-toggleable__label-arrow:hover:before {color: black;}#sk-container-id-1 div.sk-estimator:hover label.sk-toggleable__label-arrow:before {color: black;}#sk-container-id-1 div.sk-toggleable__content {max-height: 0;max-width: 0;overflow: hidden;text-align: left;background-color: #f0f8ff;}#sk-container-id-1 div.sk-toggleable__content pre {margin: 0.2em;color: black;border-radius: 0.25em;background-color: #f0f8ff;}#sk-container-id-1 input.sk-toggleable__control:checked~div.sk-toggleable__content {max-height: 200px;max-width: 100%;overflow: auto;}#sk-container-id-1 input.sk-toggleable__control:checked~label.sk-toggleable__label-arrow:before {content: \"▾\";}#sk-container-id-1 div.sk-estimator input.sk-toggleable__control:checked~label.sk-toggleable__label {background-color: #d4ebff;}#sk-container-id-1 div.sk-label input.sk-toggleable__control:checked~label.sk-toggleable__label {background-color: #d4ebff;}#sk-container-id-1 input.sk-hidden--visually {border: 0;clip: rect(1px 1px 1px 1px);clip: rect(1px, 1px, 1px, 1px);height: 1px;margin: -1px;overflow: hidden;padding: 0;position: absolute;width: 1px;}#sk-container-id-1 div.sk-estimator {font-family: monospace;background-color: #f0f8ff;border: 1px dotted black;border-radius: 0.25em;box-sizing: border-box;margin-bottom: 0.5em;}#sk-container-id-1 div.sk-estimator:hover {background-color: #d4ebff;}#sk-container-id-1 div.sk-parallel-item::after {content: \"\";width: 100%;border-bottom: 1px solid gray;flex-grow: 1;}#sk-container-id-1 div.sk-label:hover label.sk-toggleable__label {background-color: #d4ebff;}#sk-container-id-1 div.sk-serial::before {content: \"\";position: absolute;border-left: 1px solid gray;box-sizing: border-box;top: 0;bottom: 0;left: 50%;z-index: 0;}#sk-container-id-1 div.sk-serial {display: flex;flex-direction: column;align-items: center;background-color: white;padding-right: 0.2em;padding-left: 0.2em;position: relative;}#sk-container-id-1 div.sk-item {position: relative;z-index: 1;}#sk-container-id-1 div.sk-parallel {display: flex;align-items: stretch;justify-content: center;background-color: white;position: relative;}#sk-container-id-1 div.sk-item::before, #sk-container-id-1 div.sk-parallel-item::before {content: \"\";position: absolute;border-left: 1px solid gray;box-sizing: border-box;top: 0;bottom: 0;left: 50%;z-index: -1;}#sk-container-id-1 div.sk-parallel-item {display: flex;flex-direction: column;z-index: 1;position: relative;background-color: white;}#sk-container-id-1 div.sk-parallel-item:first-child::after {align-self: flex-end;width: 50%;}#sk-container-id-1 div.sk-parallel-item:last-child::after {align-self: flex-start;width: 50%;}#sk-container-id-1 div.sk-parallel-item:only-child::after {width: 0;}#sk-container-id-1 div.sk-dashed-wrapped {border: 1px dashed gray;margin: 0 0.4em 0.5em 0.4em;box-sizing: border-box;padding-bottom: 0.4em;background-color: white;}#sk-container-id-1 div.sk-label label {font-family: monospace;font-weight: bold;display: inline-block;line-height: 1.2em;}#sk-container-id-1 div.sk-label-container {text-align: center;}#sk-container-id-1 div.sk-container {/* jupyter's `normalize.less` sets `[hidden] { display: none; }` but bootstrap.min.css set `[hidden] { display: none !important; }` so we also need the `!important` here to be able to override the default hidden behavior on the sphinx rendered scikit-learn.org. See: https://github.com/scikit-learn/scikit-learn/issues/21755 */display: inline-block !important;position: relative;}#sk-container-id-1 div.sk-text-repr-fallback {display: none;}</style><div id=\"sk-container-id-1\" class=\"sk-top-container\"><div class=\"sk-text-repr-fallback\"><pre>RandomForestRegressor()</pre><b>In a Jupyter environment, please rerun this cell to show the HTML representation or trust the notebook. <br />On GitHub, the HTML representation is unable to render, please try loading this page with nbviewer.org.</b></div><div class=\"sk-container\" hidden><div class=\"sk-item\"><div class=\"sk-estimator sk-toggleable\"><input class=\"sk-toggleable__control sk-hidden--visually\" id=\"sk-estimator-id-1\" type=\"checkbox\" checked><label for=\"sk-estimator-id-1\" class=\"sk-toggleable__label sk-toggleable__label-arrow\">RandomForestRegressor</label><div class=\"sk-toggleable__content\"><pre>RandomForestRegressor()</pre></div></div></div></div></div>"
      ],
      "text/plain": [
       "RandomForestRegressor()"
      ]
     },
     "execution_count": 22,
     "metadata": {},
     "output_type": "execute_result"
    }
   ],
   "source": [
    "model.fit(X_train,y_train)"
   ]
  },
  {
   "cell_type": "code",
   "execution_count": 23,
   "id": "d77c3fc0",
   "metadata": {},
   "outputs": [],
   "source": [
    "y_pred = model.predict(X_test)"
   ]
  },
  {
   "cell_type": "code",
   "execution_count": 24,
   "id": "a2ea5dfa",
   "metadata": {},
   "outputs": [
    {
     "data": {
      "text/plain": [
       "array([0.5627 , 0.68252, 0.50929, 0.62746, 0.32285, 0.53868, 0.70432,\n",
       "       0.47399])"
      ]
     },
     "execution_count": 24,
     "metadata": {},
     "output_type": "execute_result"
    }
   ],
   "source": [
    "y_pred"
   ]
  },
  {
   "cell_type": "code",
   "execution_count": 25,
   "id": "8058bb91",
   "metadata": {},
   "outputs": [
    {
     "data": {
      "text/plain": [
       "0.9222451161836539"
      ]
     },
     "execution_count": 25,
     "metadata": {},
     "output_type": "execute_result"
    }
   ],
   "source": [
    "model.score(X,y)"
   ]
  },
  {
   "cell_type": "code",
   "execution_count": 26,
   "id": "53f1967d",
   "metadata": {},
   "outputs": [],
   "source": [
    "importances_names = model.feature_names_in_"
   ]
  },
  {
   "cell_type": "code",
   "execution_count": 27,
   "id": "6fec277d",
   "metadata": {},
   "outputs": [],
   "source": [
    "importances=model.feature_importances_"
   ]
  },
  {
   "cell_type": "code",
   "execution_count": 28,
   "id": "84a9268d",
   "metadata": {},
   "outputs": [],
   "source": [
    "importances_df = pd.DataFrame(importances,importances_names)"
   ]
  },
  {
   "cell_type": "code",
   "execution_count": 34,
   "id": "adf59269",
   "metadata": {},
   "outputs": [
    {
     "data": {
      "text/html": [
       "<div>\n",
       "<style scoped>\n",
       "    .dataframe tbody tr th:only-of-type {\n",
       "        vertical-align: middle;\n",
       "    }\n",
       "\n",
       "    .dataframe tbody tr th {\n",
       "        vertical-align: top;\n",
       "    }\n",
       "\n",
       "    .dataframe thead th {\n",
       "        text-align: right;\n",
       "    }\n",
       "</style>\n",
       "<table border=\"1\" class=\"dataframe\">\n",
       "  <thead>\n",
       "    <tr style=\"text-align: right;\">\n",
       "      <th></th>\n",
       "      <th>0</th>\n",
       "    </tr>\n",
       "  </thead>\n",
       "  <tbody>\n",
       "    <tr>\n",
       "      <th>PASS</th>\n",
       "      <td>0.283950</td>\n",
       "    </tr>\n",
       "    <tr>\n",
       "      <th>COV</th>\n",
       "      <td>0.194117</td>\n",
       "    </tr>\n",
       "    <tr>\n",
       "      <th>DEF</th>\n",
       "      <td>0.176113</td>\n",
       "    </tr>\n",
       "    <tr>\n",
       "      <th>OFFENSE</th>\n",
       "      <td>0.099332</td>\n",
       "    </tr>\n",
       "    <tr>\n",
       "      <th>RECV</th>\n",
       "      <td>0.078106</td>\n",
       "    </tr>\n",
       "    <tr>\n",
       "      <th>RDEF</th>\n",
       "      <td>0.070026</td>\n",
       "    </tr>\n",
       "    <tr>\n",
       "      <th>PRSH</th>\n",
       "      <td>0.033320</td>\n",
       "    </tr>\n",
       "    <tr>\n",
       "      <th>PBLK</th>\n",
       "      <td>0.022453</td>\n",
       "    </tr>\n",
       "    <tr>\n",
       "      <th>RBLK</th>\n",
       "      <td>0.015440</td>\n",
       "    </tr>\n",
       "    <tr>\n",
       "      <th>TACK</th>\n",
       "      <td>0.011949</td>\n",
       "    </tr>\n",
       "    <tr>\n",
       "      <th>RUN</th>\n",
       "      <td>0.008549</td>\n",
       "    </tr>\n",
       "    <tr>\n",
       "      <th>SPEC</th>\n",
       "      <td>0.006645</td>\n",
       "    </tr>\n",
       "  </tbody>\n",
       "</table>\n",
       "</div>"
      ],
      "text/plain": [
       "                0\n",
       "PASS     0.283950\n",
       "COV      0.194117\n",
       "DEF      0.176113\n",
       "OFFENSE  0.099332\n",
       "RECV     0.078106\n",
       "RDEF     0.070026\n",
       "PRSH     0.033320\n",
       "PBLK     0.022453\n",
       "RBLK     0.015440\n",
       "TACK     0.011949\n",
       "RUN      0.008549\n",
       "SPEC     0.006645"
      ]
     },
     "execution_count": 34,
     "metadata": {},
     "output_type": "execute_result"
    }
   ],
   "source": [
    "importances_df.sort_values(by=0, ascending=False)"
   ]
  },
  {
   "cell_type": "code",
   "execution_count": 30,
   "id": "b17d1cd8",
   "metadata": {},
   "outputs": [
    {
     "data": {
      "text/plain": [
       "<AxesSubplot:>"
      ]
     },
     "execution_count": 30,
     "metadata": {},
     "output_type": "execute_result"
    },
    {
     "data": {
      "image/png": "[encoded data removed]",
      "text/plain": [
       "<Figure size 432x288 with 1 Axes>"
      ]
     },
     "metadata": {
      "needs_background": "light"
     },
     "output_type": "display_data"
    }
   ],
   "source": [
    "importances_df.sort_values(by = 0, ascending=False).plot(kind = \"bar\")"
   ]
  },
  {
   "cell_type": "code",
   "execution_count": 40,
   "id": "c8654c2f",
   "metadata": {},
   "outputs": [],
   "source": [
    "# Imports\n",
    "import pandas as pd\n",
    "from sklearn.ensemble import RandomForestClassifier\n",
    "import numpy as np\n",
    "from matplotlib import cm"
   ]
  },
  {
   "cell_type": "code",
   "execution_count": 41,
   "id": "c8cb7f26",
   "metadata": {},
   "outputs": [],
   "source": [
    "importances_df = pd.DataFrame({\"feature_importances\": importances, \"feature_name\": importances_names})"
   ]
  },
  {
   "cell_type": "code",
   "execution_count": 42,
   "id": "118f9214",
   "metadata": {},
   "outputs": [
    {
     "data": {
      "text/html": [
       "<div>\n",
       "<style scoped>\n",
       "    .dataframe tbody tr th:only-of-type {\n",
       "        vertical-align: middle;\n",
       "    }\n",
       "\n",
       "    .dataframe tbody tr th {\n",
       "        vertical-align: top;\n",
       "    }\n",
       "\n",
       "    .dataframe thead th {\n",
       "        text-align: right;\n",
       "    }\n",
       "</style>\n",
       "<table border=\"1\" class=\"dataframe\">\n",
       "  <thead>\n",
       "    <tr style=\"text-align: right;\">\n",
       "      <th></th>\n",
       "      <th>feature_importances</th>\n",
       "      <th>feature_name</th>\n",
       "    </tr>\n",
       "  </thead>\n",
       "  <tbody>\n",
       "    <tr>\n",
       "      <th>0</th>\n",
       "      <td>0.099332</td>\n",
       "      <td>OFFENSE</td>\n",
       "    </tr>\n",
       "    <tr>\n",
       "      <th>1</th>\n",
       "      <td>0.283950</td>\n",
       "      <td>PASS</td>\n",
       "    </tr>\n",
       "    <tr>\n",
       "      <th>2</th>\n",
       "      <td>0.022453</td>\n",
       "      <td>PBLK</td>\n",
       "    </tr>\n",
       "    <tr>\n",
       "      <th>3</th>\n",
       "      <td>0.078106</td>\n",
       "      <td>RECV</td>\n",
       "    </tr>\n",
       "    <tr>\n",
       "      <th>4</th>\n",
       "      <td>0.008549</td>\n",
       "      <td>RUN</td>\n",
       "    </tr>\n",
       "    <tr>\n",
       "      <th>5</th>\n",
       "      <td>0.015440</td>\n",
       "      <td>RBLK</td>\n",
       "    </tr>\n",
       "    <tr>\n",
       "      <th>6</th>\n",
       "      <td>0.176113</td>\n",
       "      <td>DEF</td>\n",
       "    </tr>\n",
       "    <tr>\n",
       "      <th>7</th>\n",
       "      <td>0.070026</td>\n",
       "      <td>RDEF</td>\n",
       "    </tr>\n",
       "    <tr>\n",
       "      <th>8</th>\n",
       "      <td>0.011949</td>\n",
       "      <td>TACK</td>\n",
       "    </tr>\n",
       "    <tr>\n",
       "      <th>9</th>\n",
       "      <td>0.033320</td>\n",
       "      <td>PRSH</td>\n",
       "    </tr>\n",
       "    <tr>\n",
       "      <th>10</th>\n",
       "      <td>0.194117</td>\n",
       "      <td>COV</td>\n",
       "    </tr>\n",
       "    <tr>\n",
       "      <th>11</th>\n",
       "      <td>0.006645</td>\n",
       "      <td>SPEC</td>\n",
       "    </tr>\n",
       "  </tbody>\n",
       "</table>\n",
       "</div>"
      ],
      "text/plain": [
       "    feature_importances feature_name\n",
       "0              0.099332      OFFENSE\n",
       "1              0.283950         PASS\n",
       "2              0.022453         PBLK\n",
       "3              0.078106         RECV\n",
       "4              0.008549          RUN\n",
       "5              0.015440         RBLK\n",
       "6              0.176113          DEF\n",
       "7              0.070026         RDEF\n",
       "8              0.011949         TACK\n",
       "9              0.033320         PRSH\n",
       "10             0.194117          COV\n",
       "11             0.006645         SPEC"
      ]
     },
     "execution_count": 42,
     "metadata": {},
     "output_type": "execute_result"
    }
   ],
   "source": [
    "importances_df"
   ]
  },
  {
   "cell_type": "code",
   "execution_count": 46,
   "id": "2b35fafb",
   "metadata": {},
   "outputs": [],
   "source": [
    "importances_df = importances_df.sort_values(by=\"feature_importances\", ascending=True)"
   ]
  },
  {
   "cell_type": "code",
   "execution_count": 50,
   "id": "53e50377",
   "metadata": {},
   "outputs": [
    {
     "data": {
      "image/png": "[encoded data removed]",
      "text/plain": [
       "<Figure size 576x576 with 1 Axes>"
      ]
     },
     "metadata": {
      "needs_background": "light"
     },
     "output_type": "display_data"
    }
   ],
   "source": [
    "# Plot feature importance as vertical bar chart with a diverging color palette\n",
    "colors = cm.RdBu(np.linspace(.2, 1, importances_df.shape[0]))\n",
    "\n",
    "importances_df.plot.barh(\n",
    "    x=\"feature_name\", \n",
    "    y='feature_importances', \n",
    "    figsize=(8,8), \n",
    "    title=\"Random Forest Feature Importance\",\n",
    "    color=colors).title.set_size(30)"
   ]
  },
  {
   "cell_type": "code",
   "execution_count": null,
   "id": "7d90aad4",
   "metadata": {},
   "outputs": [],
   "source": []
  }
 ],
 "metadata": {
  "kernelspec": {
   "display_name": "Python 3 (ipykernel)",
   "language": "python",
   "name": "python3"
  },
  "language_info": {
   "codemirror_mode": {
    "name": "ipython",
    "version": 3
   },
   "file_extension": ".py",
   "mimetype": "text/x-python",
   "name": "python",
   "nbconvert_exporter": "python",
   "pygments_lexer": "ipython3",
   "version": "3.9.12"
  }
 },
 "nbformat": 4,
 "nbformat_minor": 5
}
