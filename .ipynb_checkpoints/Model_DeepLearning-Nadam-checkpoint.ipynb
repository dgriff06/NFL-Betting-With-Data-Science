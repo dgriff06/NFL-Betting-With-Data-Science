{
 "cells": [
  {
   "cell_type": "code",
   "execution_count": 1,
   "id": "cf818fb0",
   "metadata": {},
   "outputs": [
    {
     "name": "stdout",
     "output_type": "stream",
     "text": [
      "Requirement already satisfied: tensorflow in c:\\users\\yohan\\anaconda3\\envs\\dev\\envs\\dev\\lib\\site-packages (2.10.0)\n",
      "Requirement already satisfied: tensorboard<2.11,>=2.10 in c:\\users\\yohan\\anaconda3\\envs\\dev\\envs\\dev\\lib\\site-packages (from tensorflow) (2.10.1)\n",
      "Requirement already satisfied: keras-preprocessing>=1.1.1 in c:\\users\\yohan\\anaconda3\\envs\\dev\\envs\\dev\\lib\\site-packages (from tensorflow) (1.1.2)\n",
      "Requirement already satisfied: flatbuffers>=2.0 in c:\\users\\yohan\\anaconda3\\envs\\dev\\envs\\dev\\lib\\site-packages (from tensorflow) (22.9.24)\n",
      "Requirement already satisfied: grpcio<2.0,>=1.24.3 in c:\\users\\yohan\\anaconda3\\envs\\dev\\envs\\dev\\lib\\site-packages (from tensorflow) (1.42.0)\n",
      "Requirement already satisfied: absl-py>=1.0.0 in c:\\users\\yohan\\anaconda3\\envs\\dev\\envs\\dev\\lib\\site-packages (from tensorflow) (1.2.0)\n",
      "Requirement already satisfied: gast<=0.4.0,>=0.2.1 in c:\\users\\yohan\\anaconda3\\envs\\dev\\envs\\dev\\lib\\site-packages (from tensorflow) (0.4.0)\n",
      "Requirement already satisfied: google-pasta>=0.1.1 in c:\\users\\yohan\\anaconda3\\envs\\dev\\envs\\dev\\lib\\site-packages (from tensorflow) (0.2.0)\n",
      "Requirement already satisfied: termcolor>=1.1.0 in c:\\users\\yohan\\anaconda3\\envs\\dev\\envs\\dev\\lib\\site-packages (from tensorflow) (2.0.1)\n",
      "Requirement already satisfied: astunparse>=1.6.0 in c:\\users\\yohan\\anaconda3\\envs\\dev\\envs\\dev\\lib\\site-packages (from tensorflow) (1.6.3)\n",
      "Requirement already satisfied: opt-einsum>=2.3.2 in c:\\users\\yohan\\anaconda3\\envs\\dev\\envs\\dev\\lib\\site-packages (from tensorflow) (3.3.0)\n",
      "Requirement already satisfied: tensorflow-io-gcs-filesystem>=0.23.1 in c:\\users\\yohan\\anaconda3\\envs\\dev\\envs\\dev\\lib\\site-packages (from tensorflow) (0.27.0)\n",
      "Requirement already satisfied: libclang>=13.0.0 in c:\\users\\yohan\\anaconda3\\envs\\dev\\envs\\dev\\lib\\site-packages (from tensorflow) (14.0.6)\n",
      "Requirement already satisfied: packaging in c:\\users\\yohan\\anaconda3\\envs\\dev\\envs\\dev\\lib\\site-packages (from tensorflow) (21.3)\n",
      "Requirement already satisfied: h5py>=2.9.0 in c:\\users\\yohan\\anaconda3\\envs\\dev\\envs\\dev\\lib\\site-packages (from tensorflow) (2.10.0)\n",
      "Requirement already satisfied: numpy>=1.20 in c:\\users\\yohan\\anaconda3\\envs\\dev\\envs\\dev\\lib\\site-packages (from tensorflow) (1.21.5)\n",
      "Requirement already satisfied: keras<2.11,>=2.10.0 in c:\\users\\yohan\\anaconda3\\envs\\dev\\envs\\dev\\lib\\site-packages (from tensorflow) (2.10.0)\n",
      "Requirement already satisfied: protobuf<3.20,>=3.9.2 in c:\\users\\yohan\\anaconda3\\envs\\dev\\envs\\dev\\lib\\site-packages (from tensorflow) (3.19.1)\n",
      "Requirement already satisfied: six>=1.12.0 in c:\\users\\yohan\\anaconda3\\envs\\dev\\envs\\dev\\lib\\site-packages (from tensorflow) (1.16.0)\n",
      "Requirement already satisfied: setuptools in c:\\users\\yohan\\anaconda3\\envs\\dev\\envs\\dev\\lib\\site-packages (from tensorflow) (61.2.0)\n",
      "Requirement already satisfied: tensorflow-estimator<2.11,>=2.10.0 in c:\\users\\yohan\\anaconda3\\envs\\dev\\envs\\dev\\lib\\site-packages (from tensorflow) (2.10.0)\n",
      "Requirement already satisfied: wrapt>=1.11.0 in c:\\users\\yohan\\anaconda3\\envs\\dev\\envs\\dev\\lib\\site-packages (from tensorflow) (1.12.1)\n",
      "Requirement already satisfied: typing-extensions>=3.6.6 in c:\\users\\yohan\\anaconda3\\envs\\dev\\envs\\dev\\lib\\site-packages (from tensorflow) (4.1.1)\n",
      "Requirement already satisfied: wheel<1.0,>=0.23.0 in c:\\users\\yohan\\anaconda3\\envs\\dev\\envs\\dev\\lib\\site-packages (from astunparse>=1.6.0->tensorflow) (0.37.1)\n",
      "Requirement already satisfied: google-auth-oauthlib<0.5,>=0.4.1 in c:\\users\\yohan\\anaconda3\\envs\\dev\\envs\\dev\\lib\\site-packages (from tensorboard<2.11,>=2.10->tensorflow) (0.4.6)\n",
      "Requirement already satisfied: google-auth<3,>=1.6.3 in c:\\users\\yohan\\anaconda3\\envs\\dev\\envs\\dev\\lib\\site-packages (from tensorboard<2.11,>=2.10->tensorflow) (1.33.0)\n",
      "Requirement already satisfied: tensorboard-plugin-wit>=1.6.0 in c:\\users\\yohan\\anaconda3\\envs\\dev\\envs\\dev\\lib\\site-packages (from tensorboard<2.11,>=2.10->tensorflow) (1.8.1)\n",
      "Requirement already satisfied: tensorboard-data-server<0.7.0,>=0.6.0 in c:\\users\\yohan\\anaconda3\\envs\\dev\\envs\\dev\\lib\\site-packages (from tensorboard<2.11,>=2.10->tensorflow) (0.6.1)\n",
      "Requirement already satisfied: markdown>=2.6.8 in c:\\users\\yohan\\anaconda3\\envs\\dev\\envs\\dev\\lib\\site-packages (from tensorboard<2.11,>=2.10->tensorflow) (3.3.4)\n",
      "Requirement already satisfied: werkzeug>=1.0.1 in c:\\users\\yohan\\anaconda3\\envs\\dev\\envs\\dev\\lib\\site-packages (from tensorboard<2.11,>=2.10->tensorflow) (2.0.3)\n",
      "Requirement already satisfied: requests<3,>=2.21.0 in c:\\users\\yohan\\anaconda3\\envs\\dev\\envs\\dev\\lib\\site-packages (from tensorboard<2.11,>=2.10->tensorflow) (2.27.1)\n",
      "Requirement already satisfied: rsa<5,>=3.1.4 in c:\\users\\yohan\\anaconda3\\envs\\dev\\envs\\dev\\lib\\site-packages (from google-auth<3,>=1.6.3->tensorboard<2.11,>=2.10->tensorflow) (4.7.2)\n",
      "Requirement already satisfied: cachetools<5.0,>=2.0.0 in c:\\users\\yohan\\anaconda3\\envs\\dev\\envs\\dev\\lib\\site-packages (from google-auth<3,>=1.6.3->tensorboard<2.11,>=2.10->tensorflow) (4.2.2)\n",
      "Requirement already satisfied: pyasn1-modules>=0.2.1 in c:\\users\\yohan\\anaconda3\\envs\\dev\\envs\\dev\\lib\\site-packages (from google-auth<3,>=1.6.3->tensorboard<2.11,>=2.10->tensorflow) (0.2.8)\n",
      "Requirement already satisfied: requests-oauthlib>=0.7.0 in c:\\users\\yohan\\anaconda3\\envs\\dev\\envs\\dev\\lib\\site-packages (from google-auth-oauthlib<0.5,>=0.4.1->tensorboard<2.11,>=2.10->tensorflow) (1.3.1)\n",
      "Requirement already satisfied: importlib-metadata in c:\\users\\yohan\\anaconda3\\envs\\dev\\envs\\dev\\lib\\site-packages (from markdown>=2.6.8->tensorboard<2.11,>=2.10->tensorflow) (4.11.3)\n",
      "Requirement already satisfied: pyasn1<0.5.0,>=0.4.6 in c:\\users\\yohan\\anaconda3\\envs\\dev\\envs\\dev\\lib\\site-packages (from pyasn1-modules>=0.2.1->google-auth<3,>=1.6.3->tensorboard<2.11,>=2.10->tensorflow) (0.4.8)\n",
      "Requirement already satisfied: idna<4,>=2.5 in c:\\users\\yohan\\anaconda3\\envs\\dev\\envs\\dev\\lib\\site-packages (from requests<3,>=2.21.0->tensorboard<2.11,>=2.10->tensorflow) (3.3)\n",
      "Requirement already satisfied: charset-normalizer~=2.0.0 in c:\\users\\yohan\\anaconda3\\envs\\dev\\envs\\dev\\lib\\site-packages (from requests<3,>=2.21.0->tensorboard<2.11,>=2.10->tensorflow) (2.0.4)\n",
      "Requirement already satisfied: certifi>=2017.4.17 in c:\\users\\yohan\\anaconda3\\envs\\dev\\envs\\dev\\lib\\site-packages (from requests<3,>=2.21.0->tensorboard<2.11,>=2.10->tensorflow) (2021.10.8)\n",
      "Requirement already satisfied: urllib3<1.27,>=1.21.1 in c:\\users\\yohan\\anaconda3\\envs\\dev\\envs\\dev\\lib\\site-packages (from requests<3,>=2.21.0->tensorboard<2.11,>=2.10->tensorflow) (1.26.9)\n",
      "Requirement already satisfied: oauthlib>=3.0.0 in c:\\users\\yohan\\anaconda3\\envs\\dev\\envs\\dev\\lib\\site-packages (from requests-oauthlib>=0.7.0->google-auth-oauthlib<0.5,>=0.4.1->tensorboard<2.11,>=2.10->tensorflow) (3.2.1)\n",
      "Requirement already satisfied: zipp>=0.5 in c:\\users\\yohan\\anaconda3\\envs\\dev\\envs\\dev\\lib\\site-packages (from importlib-metadata->markdown>=2.6.8->tensorboard<2.11,>=2.10->tensorflow) (3.7.0)\n",
      "Requirement already satisfied: pyparsing!=3.0.5,>=2.0.2 in c:\\users\\yohan\\anaconda3\\envs\\dev\\envs\\dev\\lib\\site-packages (from packaging->tensorflow) (3.0.4)\n"
     ]
    }
   ],
   "source": [
    "!pip install tensorflow"
   ]
  },
  {
   "cell_type": "code",
   "execution_count": 2,
   "id": "89291ccc",
   "metadata": {},
   "outputs": [],
   "source": [
    "# Import depedencies\n",
    "import pandas as pd\n",
    "import numpy as np\n",
    "from sklearn.model_selection import train_test_split\n",
    "from sklearn.preprocessing import StandardScaler\n",
    "from sklearn.metrics import confusion_matrix\n",
    "from sklearn.metrics import classification_report\n",
    "from sklearn.metrics import accuracy_score\n",
    "from pathlib import Path\n",
    "import tensorflow as tf\n",
    "from tensorflow.keras.layers import Dense\n",
    "from tensorflow.keras.models import Sequential\n",
    "\n",
    "from sklearn.preprocessing import OneHotEncoder"
   ]
  },
  {
   "cell_type": "code",
   "execution_count": null,
   "id": "ad7fd15e",
   "metadata": {},
   "outputs": [],
   "source": []
  },
  {
   "cell_type": "code",
   "execution_count": null,
   "id": "0281b2d2",
   "metadata": {},
   "outputs": [],
   "source": []
  },
  {
   "cell_type": "code",
   "execution_count": 3,
   "id": "ff1d9635",
   "metadata": {},
   "outputs": [],
   "source": [
    "# Read the CSV data and create a new dataframe\n",
    "\n",
    "df = pd.read_csv(\"match_team_data.csv\")"
   ]
  },
  {
   "cell_type": "code",
   "execution_count": 4,
   "id": "6e97edc2",
   "metadata": {},
   "outputs": [],
   "source": [
    "# Create a column to account for Wins, Losses, and Ties\n",
    "# Win = 1 , Loss = 0, Tie = -1\n",
    "\n",
    "#We changed 1 to win and 0 to lose because XGBoost only accepts binary values.\n",
    "\n",
    "df[\"home_win\"] = np.where(df[\"home_score\"] > df[\"away_score\"], 1,0)"
   ]
  },
  {
   "cell_type": "code",
   "execution_count": 5,
   "id": "76a063e8",
   "metadata": {
    "scrolled": true
   },
   "outputs": [
    {
     "data": {
      "text/plain": [
       "team_2_post_season_result                1.000000\n",
       "team_1_post_season_result                1.000000\n",
       "winning_abbr                             0.079338\n",
       "winning_name                             0.079338\n",
       "losing_name                              0.079338\n",
       "losing_abbr                              0.079338\n",
       "away_score                               0.075625\n",
       "home_score                               0.075625\n",
       "team_2_pass_completions                  0.000000\n",
       "team_2_offensive_simple_rating_system    0.000000\n",
       "dtype: float64"
      ]
     },
     "execution_count": 5,
     "metadata": {},
     "output_type": "execute_result"
    }
   ],
   "source": [
    "# Check for NaNs\n",
    "df.isna().mean().sort_values(ascending=False).head(10)"
   ]
  },
  {
   "cell_type": "code",
   "execution_count": 6,
   "id": "e4758114",
   "metadata": {
    "scrolled": true
   },
   "outputs": [
    {
     "data": {
      "text/plain": [
       "0       False\n",
       "1       False\n",
       "2       False\n",
       "3       False\n",
       "4       False\n",
       "        ...  \n",
       "2957     True\n",
       "2958     True\n",
       "2959     True\n",
       "2960     True\n",
       "2961     True\n",
       "Name: winning_name, Length: 2962, dtype: bool"
      ]
     },
     "execution_count": 6,
     "metadata": {},
     "output_type": "execute_result"
    }
   ],
   "source": [
    "df[\"winning_name\"].isna()"
   ]
  },
  {
   "cell_type": "code",
   "execution_count": 7,
   "id": "ff44f60f",
   "metadata": {
    "scrolled": true
   },
   "outputs": [],
   "source": [
    "# Remove NaNs\n",
    "df = df.drop(columns=[\"team_2_post_season_result\",\"team_1_post_season_result\"])"
   ]
  },
  {
   "cell_type": "code",
   "execution_count": 8,
   "id": "4b46688f",
   "metadata": {},
   "outputs": [],
   "source": [
    "df3 = df.dropna()"
   ]
  },
  {
   "cell_type": "code",
   "execution_count": 9,
   "id": "ec62b747",
   "metadata": {
    "scrolled": true
   },
   "outputs": [
    {
     "data": {
      "text/html": [
       "<div>\n",
       "<style scoped>\n",
       "    .dataframe tbody tr th:only-of-type {\n",
       "        vertical-align: middle;\n",
       "    }\n",
       "\n",
       "    .dataframe tbody tr th {\n",
       "        vertical-align: top;\n",
       "    }\n",
       "\n",
       "    .dataframe thead th {\n",
       "        text-align: right;\n",
       "    }\n",
       "</style>\n",
       "<table border=\"1\" class=\"dataframe\">\n",
       "  <thead>\n",
       "    <tr style=\"text-align: right;\">\n",
       "      <th></th>\n",
       "      <th>boxscore</th>\n",
       "      <th>away_name</th>\n",
       "      <th>away_abbr</th>\n",
       "      <th>away_score</th>\n",
       "      <th>home_name</th>\n",
       "      <th>home_abbr</th>\n",
       "      <th>home_score</th>\n",
       "      <th>winning_name</th>\n",
       "      <th>winning_abbr</th>\n",
       "      <th>losing_name</th>\n",
       "      <th>...</th>\n",
       "      <th>team_2_rush_yards_per_attempt</th>\n",
       "      <th>team_2_simple_rating_system</th>\n",
       "      <th>team_2_strength_of_schedule</th>\n",
       "      <th>team_2_turnovers</th>\n",
       "      <th>team_2_win_percentage</th>\n",
       "      <th>team_2_wins</th>\n",
       "      <th>team_2_yards</th>\n",
       "      <th>team_2_yards_from_penalties</th>\n",
       "      <th>team_2_yards_per_play</th>\n",
       "      <th>home_win</th>\n",
       "    </tr>\n",
       "  </thead>\n",
       "  <tbody>\n",
       "    <tr>\n",
       "      <th>0</th>\n",
       "      <td>201209050nyg</td>\n",
       "      <td>Dallas Cowboys</td>\n",
       "      <td>dal</td>\n",
       "      <td>24.0</td>\n",
       "      <td>New York Giants</td>\n",
       "      <td>nyg</td>\n",
       "      <td>17.0</td>\n",
       "      <td>Dallas Cowboys</td>\n",
       "      <td>dal</td>\n",
       "      <td>New York Giants</td>\n",
       "      <td>...</td>\n",
       "      <td>4.7</td>\n",
       "      <td>-4.2</td>\n",
       "      <td>-2.2</td>\n",
       "      <td>2</td>\n",
       "      <td>0.667</td>\n",
       "      <td>2</td>\n",
       "      <td>972</td>\n",
       "      <td>188</td>\n",
       "      <td>5.3</td>\n",
       "      <td>0</td>\n",
       "    </tr>\n",
       "    <tr>\n",
       "      <th>1</th>\n",
       "      <td>201209090chi</td>\n",
       "      <td>Indianapolis Colts</td>\n",
       "      <td>clt</td>\n",
       "      <td>21.0</td>\n",
       "      <td>Chicago Bears</td>\n",
       "      <td>chi</td>\n",
       "      <td>41.0</td>\n",
       "      <td>Chicago Bears</td>\n",
       "      <td>chi</td>\n",
       "      <td>Indianapolis Colts</td>\n",
       "      <td>...</td>\n",
       "      <td>4.0</td>\n",
       "      <td>-4.8</td>\n",
       "      <td>2.2</td>\n",
       "      <td>6</td>\n",
       "      <td>0.500</td>\n",
       "      <td>1</td>\n",
       "      <td>994</td>\n",
       "      <td>153</td>\n",
       "      <td>4.8</td>\n",
       "      <td>1</td>\n",
       "    </tr>\n",
       "    <tr>\n",
       "      <th>2</th>\n",
       "      <td>201209090cle</td>\n",
       "      <td>Philadelphia Eagles</td>\n",
       "      <td>phi</td>\n",
       "      <td>17.0</td>\n",
       "      <td>Cleveland Browns</td>\n",
       "      <td>cle</td>\n",
       "      <td>16.0</td>\n",
       "      <td>Philadelphia Eagles</td>\n",
       "      <td>phi</td>\n",
       "      <td>Cleveland Browns</td>\n",
       "      <td>...</td>\n",
       "      <td>4.4</td>\n",
       "      <td>38.9</td>\n",
       "      <td>26.9</td>\n",
       "      <td>1</td>\n",
       "      <td>1.000</td>\n",
       "      <td>3</td>\n",
       "      <td>1341</td>\n",
       "      <td>173</td>\n",
       "      <td>6.4</td>\n",
       "      <td>0</td>\n",
       "    </tr>\n",
       "    <tr>\n",
       "      <th>3</th>\n",
       "      <td>201209090det</td>\n",
       "      <td>St. Louis Rams</td>\n",
       "      <td>ram</td>\n",
       "      <td>23.0</td>\n",
       "      <td>Detroit Lions</td>\n",
       "      <td>det</td>\n",
       "      <td>27.0</td>\n",
       "      <td>Detroit Lions</td>\n",
       "      <td>det</td>\n",
       "      <td>St. Louis Rams</td>\n",
       "      <td>...</td>\n",
       "      <td>3.4</td>\n",
       "      <td>-9.0</td>\n",
       "      <td>-6.0</td>\n",
       "      <td>7</td>\n",
       "      <td>0.667</td>\n",
       "      <td>2</td>\n",
       "      <td>919</td>\n",
       "      <td>126</td>\n",
       "      <td>5.3</td>\n",
       "      <td>1</td>\n",
       "    </tr>\n",
       "    <tr>\n",
       "      <th>4</th>\n",
       "      <td>201209090htx</td>\n",
       "      <td>Miami Dolphins</td>\n",
       "      <td>mia</td>\n",
       "      <td>10.0</td>\n",
       "      <td>Houston Texans</td>\n",
       "      <td>htx</td>\n",
       "      <td>30.0</td>\n",
       "      <td>Houston Texans</td>\n",
       "      <td>htx</td>\n",
       "      <td>Miami Dolphins</td>\n",
       "      <td>...</td>\n",
       "      <td>3.3</td>\n",
       "      <td>12.4</td>\n",
       "      <td>6.1</td>\n",
       "      <td>2</td>\n",
       "      <td>1.000</td>\n",
       "      <td>3</td>\n",
       "      <td>1066</td>\n",
       "      <td>91</td>\n",
       "      <td>6.4</td>\n",
       "      <td>1</td>\n",
       "    </tr>\n",
       "    <tr>\n",
       "      <th>...</th>\n",
       "      <td>...</td>\n",
       "      <td>...</td>\n",
       "      <td>...</td>\n",
       "      <td>...</td>\n",
       "      <td>...</td>\n",
       "      <td>...</td>\n",
       "      <td>...</td>\n",
       "      <td>...</td>\n",
       "      <td>...</td>\n",
       "      <td>...</td>\n",
       "      <td>...</td>\n",
       "      <td>...</td>\n",
       "      <td>...</td>\n",
       "      <td>...</td>\n",
       "      <td>...</td>\n",
       "      <td>...</td>\n",
       "      <td>...</td>\n",
       "      <td>...</td>\n",
       "      <td>...</td>\n",
       "      <td>...</td>\n",
       "      <td>...</td>\n",
       "    </tr>\n",
       "    <tr>\n",
       "      <th>2733</th>\n",
       "      <td>202209250crd</td>\n",
       "      <td>Los Angeles Rams</td>\n",
       "      <td>ram</td>\n",
       "      <td>20.0</td>\n",
       "      <td>Arizona Cardinals</td>\n",
       "      <td>crd</td>\n",
       "      <td>12.0</td>\n",
       "      <td>Los Angeles Rams</td>\n",
       "      <td>ram</td>\n",
       "      <td>Arizona Cardinals</td>\n",
       "      <td>...</td>\n",
       "      <td>3.4</td>\n",
       "      <td>-9.0</td>\n",
       "      <td>-6.0</td>\n",
       "      <td>7</td>\n",
       "      <td>0.667</td>\n",
       "      <td>2</td>\n",
       "      <td>919</td>\n",
       "      <td>126</td>\n",
       "      <td>5.3</td>\n",
       "      <td>0</td>\n",
       "    </tr>\n",
       "    <tr>\n",
       "      <th>2734</th>\n",
       "      <td>202209250sea</td>\n",
       "      <td>Atlanta Falcons</td>\n",
       "      <td>atl</td>\n",
       "      <td>27.0</td>\n",
       "      <td>Seattle Seahawks</td>\n",
       "      <td>sea</td>\n",
       "      <td>23.0</td>\n",
       "      <td>Atlanta Falcons</td>\n",
       "      <td>atl</td>\n",
       "      <td>Seattle Seahawks</td>\n",
       "      <td>...</td>\n",
       "      <td>4.9</td>\n",
       "      <td>-11.3</td>\n",
       "      <td>-10.9</td>\n",
       "      <td>7</td>\n",
       "      <td>0.333</td>\n",
       "      <td>1</td>\n",
       "      <td>1063</td>\n",
       "      <td>99</td>\n",
       "      <td>5.9</td>\n",
       "      <td>0</td>\n",
       "    </tr>\n",
       "    <tr>\n",
       "      <th>2735</th>\n",
       "      <td>202209250tam</td>\n",
       "      <td>Green Bay Packers</td>\n",
       "      <td>gnb</td>\n",
       "      <td>14.0</td>\n",
       "      <td>Tampa Bay Buccaneers</td>\n",
       "      <td>tam</td>\n",
       "      <td>12.0</td>\n",
       "      <td>Green Bay Packers</td>\n",
       "      <td>gnb</td>\n",
       "      <td>Tampa Bay Buccaneers</td>\n",
       "      <td>...</td>\n",
       "      <td>4.7</td>\n",
       "      <td>12.5</td>\n",
       "      <td>11.5</td>\n",
       "      <td>5</td>\n",
       "      <td>0.667</td>\n",
       "      <td>2</td>\n",
       "      <td>1067</td>\n",
       "      <td>100</td>\n",
       "      <td>5.7</td>\n",
       "      <td>0</td>\n",
       "    </tr>\n",
       "    <tr>\n",
       "      <th>2736</th>\n",
       "      <td>202209250den</td>\n",
       "      <td>San Francisco 49ers</td>\n",
       "      <td>sfo</td>\n",
       "      <td>10.0</td>\n",
       "      <td>Denver Broncos</td>\n",
       "      <td>den</td>\n",
       "      <td>11.0</td>\n",
       "      <td>Denver Broncos</td>\n",
       "      <td>den</td>\n",
       "      <td>San Francisco 49ers</td>\n",
       "      <td>...</td>\n",
       "      <td>4.5</td>\n",
       "      <td>-4.8</td>\n",
       "      <td>-8.2</td>\n",
       "      <td>5</td>\n",
       "      <td>0.333</td>\n",
       "      <td>1</td>\n",
       "      <td>971</td>\n",
       "      <td>165</td>\n",
       "      <td>5.1</td>\n",
       "      <td>1</td>\n",
       "    </tr>\n",
       "    <tr>\n",
       "      <th>2737</th>\n",
       "      <td>202209260nyg</td>\n",
       "      <td>Dallas Cowboys</td>\n",
       "      <td>dal</td>\n",
       "      <td>23.0</td>\n",
       "      <td>New York Giants</td>\n",
       "      <td>nyg</td>\n",
       "      <td>16.0</td>\n",
       "      <td>Dallas Cowboys</td>\n",
       "      <td>dal</td>\n",
       "      <td>New York Giants</td>\n",
       "      <td>...</td>\n",
       "      <td>4.7</td>\n",
       "      <td>-4.2</td>\n",
       "      <td>-2.2</td>\n",
       "      <td>2</td>\n",
       "      <td>0.667</td>\n",
       "      <td>2</td>\n",
       "      <td>972</td>\n",
       "      <td>188</td>\n",
       "      <td>5.3</td>\n",
       "      <td>0</td>\n",
       "    </tr>\n",
       "  </tbody>\n",
       "</table>\n",
       "<p>2727 rows × 93 columns</p>\n",
       "</div>"
      ],
      "text/plain": [
       "          boxscore            away_name away_abbr  away_score  \\\n",
       "0     201209050nyg       Dallas Cowboys       dal        24.0   \n",
       "1     201209090chi   Indianapolis Colts       clt        21.0   \n",
       "2     201209090cle  Philadelphia Eagles       phi        17.0   \n",
       "3     201209090det       St. Louis Rams       ram        23.0   \n",
       "4     201209090htx       Miami Dolphins       mia        10.0   \n",
       "...            ...                  ...       ...         ...   \n",
       "2733  202209250crd     Los Angeles Rams       ram        20.0   \n",
       "2734  202209250sea      Atlanta Falcons       atl        27.0   \n",
       "2735  202209250tam    Green Bay Packers       gnb        14.0   \n",
       "2736  202209250den  San Francisco 49ers       sfo        10.0   \n",
       "2737  202209260nyg       Dallas Cowboys       dal        23.0   \n",
       "\n",
       "                 home_name home_abbr  home_score         winning_name  \\\n",
       "0          New York Giants       nyg        17.0       Dallas Cowboys   \n",
       "1            Chicago Bears       chi        41.0        Chicago Bears   \n",
       "2         Cleveland Browns       cle        16.0  Philadelphia Eagles   \n",
       "3            Detroit Lions       det        27.0        Detroit Lions   \n",
       "4           Houston Texans       htx        30.0       Houston Texans   \n",
       "...                    ...       ...         ...                  ...   \n",
       "2733     Arizona Cardinals       crd        12.0     Los Angeles Rams   \n",
       "2734      Seattle Seahawks       sea        23.0      Atlanta Falcons   \n",
       "2735  Tampa Bay Buccaneers       tam        12.0    Green Bay Packers   \n",
       "2736        Denver Broncos       den        11.0       Denver Broncos   \n",
       "2737       New York Giants       nyg        16.0       Dallas Cowboys   \n",
       "\n",
       "     winning_abbr           losing_name  ... team_2_rush_yards_per_attempt  \\\n",
       "0             dal       New York Giants  ...                           4.7   \n",
       "1             chi    Indianapolis Colts  ...                           4.0   \n",
       "2             phi      Cleveland Browns  ...                           4.4   \n",
       "3             det        St. Louis Rams  ...                           3.4   \n",
       "4             htx        Miami Dolphins  ...                           3.3   \n",
       "...           ...                   ...  ...                           ...   \n",
       "2733          ram     Arizona Cardinals  ...                           3.4   \n",
       "2734          atl      Seattle Seahawks  ...                           4.9   \n",
       "2735          gnb  Tampa Bay Buccaneers  ...                           4.7   \n",
       "2736          den   San Francisco 49ers  ...                           4.5   \n",
       "2737          dal       New York Giants  ...                           4.7   \n",
       "\n",
       "      team_2_simple_rating_system  team_2_strength_of_schedule  \\\n",
       "0                            -4.2                         -2.2   \n",
       "1                            -4.8                          2.2   \n",
       "2                            38.9                         26.9   \n",
       "3                            -9.0                         -6.0   \n",
       "4                            12.4                          6.1   \n",
       "...                           ...                          ...   \n",
       "2733                         -9.0                         -6.0   \n",
       "2734                        -11.3                        -10.9   \n",
       "2735                         12.5                         11.5   \n",
       "2736                         -4.8                         -8.2   \n",
       "2737                         -4.2                         -2.2   \n",
       "\n",
       "     team_2_turnovers team_2_win_percentage  team_2_wins  team_2_yards  \\\n",
       "0                   2                 0.667            2           972   \n",
       "1                   6                 0.500            1           994   \n",
       "2                   1                 1.000            3          1341   \n",
       "3                   7                 0.667            2           919   \n",
       "4                   2                 1.000            3          1066   \n",
       "...               ...                   ...          ...           ...   \n",
       "2733                7                 0.667            2           919   \n",
       "2734                7                 0.333            1          1063   \n",
       "2735                5                 0.667            2          1067   \n",
       "2736                5                 0.333            1           971   \n",
       "2737                2                 0.667            2           972   \n",
       "\n",
       "      team_2_yards_from_penalties  team_2_yards_per_play  home_win  \n",
       "0                             188                    5.3         0  \n",
       "1                             153                    4.8         1  \n",
       "2                             173                    6.4         0  \n",
       "3                             126                    5.3         1  \n",
       "4                              91                    6.4         1  \n",
       "...                           ...                    ...       ...  \n",
       "2733                          126                    5.3         0  \n",
       "2734                           99                    5.9         0  \n",
       "2735                          100                    5.7         0  \n",
       "2736                          165                    5.1         1  \n",
       "2737                          188                    5.3         0  \n",
       "\n",
       "[2727 rows x 93 columns]"
      ]
     },
     "execution_count": 9,
     "metadata": {},
     "output_type": "execute_result"
    }
   ],
   "source": [
    "df3"
   ]
  },
  {
   "cell_type": "code",
   "execution_count": 10,
   "id": "81968986",
   "metadata": {},
   "outputs": [
    {
     "data": {
      "text/plain": [
       "1    1520\n",
       "0    1207\n",
       "Name: home_win, dtype: int64"
      ]
     },
     "execution_count": 10,
     "metadata": {},
     "output_type": "execute_result"
    }
   ],
   "source": [
    "df3[\"home_win\"].value_counts()\n"
   ]
  },
  {
   "cell_type": "code",
   "execution_count": null,
   "id": "71ef32ce",
   "metadata": {},
   "outputs": [],
   "source": []
  },
  {
   "cell_type": "code",
   "execution_count": 11,
   "id": "f8bd4cc5",
   "metadata": {
    "scrolled": false
   },
   "outputs": [
    {
     "data": {
      "text/plain": [
       "team_1_points_contributed_by_offense    float64\n",
       "away_name                                object\n",
       "away_abbr                                object\n",
       "home_name                                object\n",
       "home_abbr                                object\n",
       "team_2_abbreviation                      object\n",
       "losing_name                              object\n",
       "winning_abbr                             object\n",
       "losing_abbr                              object\n",
       "teams                                    object\n",
       "team_1_abbreviation                      object\n",
       "team_2_name                              object\n",
       "team_1_name                              object\n",
       "winning_name                             object\n",
       "boxscore                                 object\n",
       "dtype: object"
      ]
     },
     "execution_count": 11,
     "metadata": {},
     "output_type": "execute_result"
    }
   ],
   "source": [
    "# Check for categorical data\n",
    "\n",
    "df3.dtypes.sort_values().tail(15)"
   ]
  },
  {
   "cell_type": "code",
   "execution_count": 12,
   "id": "c674bf66",
   "metadata": {
    "scrolled": false
   },
   "outputs": [
    {
     "name": "stderr",
     "output_type": "stream",
     "text": [
      "C:\\Users\\yohan\\anaconda3\\envs\\dev\\envs\\dev\\lib\\site-packages\\pandas\\core\\frame.py:4913: SettingWithCopyWarning: \n",
      "A value is trying to be set on a copy of a slice from a DataFrame\n",
      "\n",
      "See the caveats in the documentation: https://pandas.pydata.org/pandas-docs/stable/user_guide/indexing.html#returning-a-view-versus-a-copy\n",
      "  errors=errors,\n"
     ]
    }
   ],
   "source": [
    "# Remove categorical data\n",
    "\n",
    "df3.drop(columns=[\"away_name\",\"away_abbr\",\"home_name\",\"home_abbr\",\"team_2_abbreviation\",\"losing_name\",\"winning_abbr\",\"losing_abbr\",\"teams\",\"team_1_abbreviation\",\"team_2_name\",\"team_1_name\",\"winning_name\",\"boxscore\"], inplace=True)"
   ]
  },
  {
   "cell_type": "code",
   "execution_count": 13,
   "id": "b042cb4e",
   "metadata": {
    "scrolled": false
   },
   "outputs": [],
   "source": [
    "# Remove categorical data\n",
    "\n",
    "df3.drop(columns=[\"year\",\"week\",\"home_score\",\"away_score\"], inplace=True)"
   ]
  },
  {
   "cell_type": "code",
   "execution_count": 14,
   "id": "a50e252e",
   "metadata": {},
   "outputs": [],
   "source": [
    "# Create target and features\n",
    "\n",
    "y = df3[\"home_win\"]\n",
    "X = df3.drop(columns=\"home_win\")"
   ]
  },
  {
   "cell_type": "code",
   "execution_count": 15,
   "id": "d77243e8",
   "metadata": {},
   "outputs": [],
   "source": [
    "# Apply Train_Test_Split\n",
    "\n",
    "X_train, X_test, y_train, y_test = train_test_split(X,y,random_state=1)"
   ]
  },
  {
   "cell_type": "code",
   "execution_count": 16,
   "id": "6b8c7fa8",
   "metadata": {},
   "outputs": [],
   "source": [
    "# Set the scaler\n",
    "scaler = StandardScaler()"
   ]
  },
  {
   "cell_type": "code",
   "execution_count": 17,
   "id": "27aa5d3e",
   "metadata": {},
   "outputs": [],
   "source": [
    "# Fit and Transform the data\n",
    "X_scaler = scaler.fit(X_train)\n",
    "X_train_scaled = X_scaler.transform(X_train)\n",
    "X_test_scaled = X_scaler.transform(X_test)"
   ]
  },
  {
   "cell_type": "code",
   "execution_count": 18,
   "id": "f722bd63",
   "metadata": {},
   "outputs": [],
   "source": []
  },
  {
   "cell_type": "code",
   "execution_count": 18,
   "id": "71c8506b",
   "metadata": {},
   "outputs": [],
   "source": [
    "# Create the model\n",
    "nn = Sequential()"
   ]
  },
  {
   "cell_type": "code",
   "execution_count": 19,
   "id": "e6e66ede",
   "metadata": {},
   "outputs": [],
   "source": [
    "number_input_features = len(X_train.iloc[0])"
   ]
  },
  {
   "cell_type": "code",
   "execution_count": 20,
   "id": "c25561dc",
   "metadata": {},
   "outputs": [],
   "source": [
    "number_output_neurons = 1"
   ]
  },
  {
   "cell_type": "code",
   "execution_count": 21,
   "id": "76f0cc91",
   "metadata": {},
   "outputs": [],
   "source": [
    "hidden_nodes_layer1 =  (number_input_features + number_output_neurons)//2"
   ]
  },
  {
   "cell_type": "code",
   "execution_count": 22,
   "id": "1fea528e",
   "metadata": {},
   "outputs": [],
   "source": [
    "hidden_nodes_layer2 =  (hidden_nodes_layer1 + number_output_neurons)//2"
   ]
  },
  {
   "cell_type": "code",
   "execution_count": null,
   "id": "7b21b8ad",
   "metadata": {},
   "outputs": [],
   "source": []
  },
  {
   "cell_type": "code",
   "execution_count": null,
   "id": "1b2c2834",
   "metadata": {},
   "outputs": [],
   "source": []
  },
  {
   "cell_type": "code",
   "execution_count": 23,
   "id": "580176be",
   "metadata": {},
   "outputs": [],
   "source": [
    "# Fit the data\n",
    "nn.add(Dense(units= hidden_nodes_layer1, input_dim=number_input_features, activation=\"relu\"))"
   ]
  },
  {
   "cell_type": "code",
   "execution_count": 24,
   "id": "79138c52",
   "metadata": {},
   "outputs": [],
   "source": [
    "nn.add(Dense(units= hidden_nodes_layer2, activation=\"relu\"))"
   ]
  },
  {
   "cell_type": "code",
   "execution_count": 25,
   "id": "4f7d4f1b",
   "metadata": {},
   "outputs": [],
   "source": [
    "nn.add(Dense(units=number_output_neurons, activation=\"sigmoid\"))"
   ]
  },
  {
   "cell_type": "code",
   "execution_count": 26,
   "id": "a0921219",
   "metadata": {
    "scrolled": true
   },
   "outputs": [
    {
     "name": "stdout",
     "output_type": "stream",
     "text": [
      "Model: \"sequential\"\n",
      "_________________________________________________________________\n",
      " Layer (type)                Output Shape              Param #   \n",
      "=================================================================\n",
      " dense (Dense)               (None, 37)                2775      \n",
      "                                                                 \n",
      " dense_1 (Dense)             (None, 19)                722       \n",
      "                                                                 \n",
      " dense_2 (Dense)             (None, 1)                 20        \n",
      "                                                                 \n",
      "=================================================================\n",
      "Total params: 3,517\n",
      "Trainable params: 3,517\n",
      "Non-trainable params: 0\n",
      "_________________________________________________________________\n"
     ]
    }
   ],
   "source": [
    "nn.summary()"
   ]
  },
  {
   "cell_type": "code",
   "execution_count": 27,
   "id": "b054c95b",
   "metadata": {},
   "outputs": [],
   "source": [
    "nn.compile(loss = \"binary_crossentropy\", optimizer =  \"Nadam\", metrics = [\"accuracy\"])"
   ]
  },
  {
   "cell_type": "code",
   "execution_count": 28,
   "id": "072d4fc0",
   "metadata": {},
   "outputs": [
    {
     "name": "stdout",
     "output_type": "stream",
     "text": [
      "Epoch 1/50\n",
      "64/64 [==============================] - 1s 2ms/step - loss: 0.6903 - accuracy: 0.5428\n",
      "Epoch 2/50\n",
      "64/64 [==============================] - 0s 1ms/step - loss: 0.6678 - accuracy: 0.5990\n",
      "Epoch 3/50\n",
      "64/64 [==============================] - 0s 1ms/step - loss: 0.6546 - accuracy: 0.6191\n",
      "Epoch 4/50\n",
      "64/64 [==============================] - 0s 2ms/step - loss: 0.6450 - accuracy: 0.6352\n",
      "Epoch 5/50\n",
      "64/64 [==============================] - 0s 2ms/step - loss: 0.6372 - accuracy: 0.6323\n",
      "Epoch 6/50\n",
      "64/64 [==============================] - 0s 2ms/step - loss: 0.6291 - accuracy: 0.6528\n",
      "Epoch 7/50\n",
      "64/64 [==============================] - 0s 2ms/step - loss: 0.6220 - accuracy: 0.6606\n",
      "Epoch 8/50\n",
      "64/64 [==============================] - 0s 1ms/step - loss: 0.6163 - accuracy: 0.6694\n",
      "Epoch 9/50\n",
      "64/64 [==============================] - 0s 1ms/step - loss: 0.6114 - accuracy: 0.6748\n",
      "Epoch 10/50\n",
      "64/64 [==============================] - 0s 1ms/step - loss: 0.6054 - accuracy: 0.6758\n",
      "Epoch 11/50\n",
      "64/64 [==============================] - 0s 2ms/step - loss: 0.6008 - accuracy: 0.6773\n",
      "Epoch 12/50\n",
      "64/64 [==============================] - 0s 2ms/step - loss: 0.5958 - accuracy: 0.6866\n",
      "Epoch 13/50\n",
      "64/64 [==============================] - 0s 2ms/step - loss: 0.5909 - accuracy: 0.6836\n",
      "Epoch 14/50\n",
      "64/64 [==============================] - 0s 2ms/step - loss: 0.5881 - accuracy: 0.6905\n",
      "Epoch 15/50\n",
      "64/64 [==============================] - 0s 2ms/step - loss: 0.5847 - accuracy: 0.6993\n",
      "Epoch 16/50\n",
      "64/64 [==============================] - 0s 2ms/step - loss: 0.5784 - accuracy: 0.6983\n",
      "Epoch 17/50\n",
      "64/64 [==============================] - 0s 2ms/step - loss: 0.5769 - accuracy: 0.7056\n",
      "Epoch 18/50\n",
      "64/64 [==============================] - 0s 2ms/step - loss: 0.5745 - accuracy: 0.7022\n",
      "Epoch 19/50\n",
      "64/64 [==============================] - 0s 2ms/step - loss: 0.5701 - accuracy: 0.7134\n",
      "Epoch 20/50\n",
      "64/64 [==============================] - 0s 2ms/step - loss: 0.5670 - accuracy: 0.7076\n",
      "Epoch 21/50\n",
      "64/64 [==============================] - 0s 2ms/step - loss: 0.5638 - accuracy: 0.7198\n",
      "Epoch 22/50\n",
      "64/64 [==============================] - 0s 2ms/step - loss: 0.5599 - accuracy: 0.7120\n",
      "Epoch 23/50\n",
      "64/64 [==============================] - 0s 1ms/step - loss: 0.5580 - accuracy: 0.7232\n",
      "Epoch 24/50\n",
      "64/64 [==============================] - 0s 2ms/step - loss: 0.5559 - accuracy: 0.7203\n",
      "Epoch 25/50\n",
      "64/64 [==============================] - 0s 1ms/step - loss: 0.5532 - accuracy: 0.7193\n",
      "Epoch 26/50\n",
      "64/64 [==============================] - 0s 2ms/step - loss: 0.5521 - accuracy: 0.7188\n",
      "Epoch 27/50\n",
      "64/64 [==============================] - 0s 2ms/step - loss: 0.5485 - accuracy: 0.7198\n",
      "Epoch 28/50\n",
      "64/64 [==============================] - 0s 2ms/step - loss: 0.5462 - accuracy: 0.7232\n",
      "Epoch 29/50\n",
      "64/64 [==============================] - 0s 2ms/step - loss: 0.5422 - accuracy: 0.7320\n",
      "Epoch 30/50\n",
      "64/64 [==============================] - 0s 1ms/step - loss: 0.5414 - accuracy: 0.7355\n",
      "Epoch 31/50\n",
      "64/64 [==============================] - 0s 1ms/step - loss: 0.5395 - accuracy: 0.7262\n",
      "Epoch 32/50\n",
      "64/64 [==============================] - 0s 1ms/step - loss: 0.5378 - accuracy: 0.7237\n",
      "Epoch 33/50\n",
      "64/64 [==============================] - 0s 1ms/step - loss: 0.5353 - accuracy: 0.7262\n",
      "Epoch 34/50\n",
      "64/64 [==============================] - 0s 2ms/step - loss: 0.5349 - accuracy: 0.7257\n",
      "Epoch 35/50\n",
      "64/64 [==============================] - 0s 2ms/step - loss: 0.5312 - accuracy: 0.7325\n",
      "Epoch 36/50\n",
      "64/64 [==============================] - 0s 2ms/step - loss: 0.5308 - accuracy: 0.7311\n",
      "Epoch 37/50\n",
      "64/64 [==============================] - 0s 2ms/step - loss: 0.5276 - accuracy: 0.7325\n",
      "Epoch 38/50\n",
      "64/64 [==============================] - 0s 1ms/step - loss: 0.5281 - accuracy: 0.7311\n",
      "Epoch 39/50\n",
      "64/64 [==============================] - 0s 1ms/step - loss: 0.5252 - accuracy: 0.7315\n",
      "Epoch 40/50\n",
      "64/64 [==============================] - 0s 2ms/step - loss: 0.5230 - accuracy: 0.7306\n",
      "Epoch 41/50\n",
      "64/64 [==============================] - 0s 1ms/step - loss: 0.5202 - accuracy: 0.7325\n",
      "Epoch 42/50\n",
      "64/64 [==============================] - 0s 1ms/step - loss: 0.5211 - accuracy: 0.7355\n",
      "Epoch 43/50\n",
      "64/64 [==============================] - 0s 2ms/step - loss: 0.5178 - accuracy: 0.7364\n",
      "Epoch 44/50\n",
      "64/64 [==============================] - 0s 2ms/step - loss: 0.5182 - accuracy: 0.7443\n",
      "Epoch 45/50\n",
      "64/64 [==============================] - 0s 2ms/step - loss: 0.5145 - accuracy: 0.7394\n",
      "Epoch 46/50\n",
      "64/64 [==============================] - 0s 2ms/step - loss: 0.5133 - accuracy: 0.7433\n",
      "Epoch 47/50\n",
      "64/64 [==============================] - 0s 1ms/step - loss: 0.5133 - accuracy: 0.7389\n",
      "Epoch 48/50\n",
      "64/64 [==============================] - 0s 2ms/step - loss: 0.5135 - accuracy: 0.7428\n",
      "Epoch 49/50\n",
      "64/64 [==============================] - 0s 2ms/step - loss: 0.5103 - accuracy: 0.7394\n",
      "Epoch 50/50\n",
      "64/64 [==============================] - 0s 2ms/step - loss: 0.5115 - accuracy: 0.7320\n"
     ]
    }
   ],
   "source": [
    "nn_fitted = nn.fit(X_train_scaled, y_train, epochs = 50)"
   ]
  },
  {
   "cell_type": "code",
   "execution_count": 29,
   "id": "39b1b09c",
   "metadata": {
    "scrolled": true
   },
   "outputs": [
    {
     "name": "stdout",
     "output_type": "stream",
     "text": [
      "22/22 - 0s - loss: 0.8391 - accuracy: 0.5660 - 170ms/epoch - 8ms/step\n"
     ]
    }
   ],
   "source": [
    "model_loss, model_accuracy = nn.evaluate(X_test_scaled, y_test, verbose = 2)"
   ]
  },
  {
   "cell_type": "code",
   "execution_count": 30,
   "id": "46bcc7ef",
   "metadata": {},
   "outputs": [
    {
     "name": "stdout",
     "output_type": "stream",
     "text": [
      "Loss: 0.8391186594963074, Accuracy: 0.5659824013710022\n"
     ]
    }
   ],
   "source": [
    "print(f\"Loss: {model_loss}, Accuracy: {model_accuracy}\")"
   ]
  },
  {
   "cell_type": "code",
   "execution_count": null,
   "id": "74524397",
   "metadata": {},
   "outputs": [],
   "source": []
  },
  {
   "cell_type": "code",
   "execution_count": null,
   "id": "04f362bb",
   "metadata": {},
   "outputs": [],
   "source": []
  },
  {
   "cell_type": "code",
   "execution_count": 21,
   "id": "44207092",
   "metadata": {},
   "outputs": [],
   "source": []
  },
  {
   "cell_type": "code",
   "execution_count": null,
   "id": "d9ba4989",
   "metadata": {
    "scrolled": false
   },
   "outputs": [],
   "source": []
  },
  {
   "cell_type": "code",
   "execution_count": null,
   "id": "be1bdf6f",
   "metadata": {},
   "outputs": [],
   "source": []
  }
 ],
 "metadata": {
  "kernelspec": {
   "display_name": "Python 3 (ipykernel)",
   "language": "python",
   "name": "python3"
  },
  "language_info": {
   "codemirror_mode": {
    "name": "ipython",
    "version": 3
   },
   "file_extension": ".py",
   "mimetype": "text/x-python",
   "name": "python",
   "nbconvert_exporter": "python",
   "pygments_lexer": "ipython3",
   "version": "3.7.13"
  }
 },
 "nbformat": 4,
 "nbformat_minor": 5
}
